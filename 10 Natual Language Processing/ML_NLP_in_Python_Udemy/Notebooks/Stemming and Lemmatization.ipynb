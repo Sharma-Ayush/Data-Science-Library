{
 "cells": [
  {
   "cell_type": "code",
   "execution_count": 3,
   "id": "0b26d5c5-51e6-4f4f-9223-d85d03f3869e",
   "metadata": {},
   "outputs": [],
   "source": [
    "import nltk"
   ]
  },
  {
   "cell_type": "code",
   "execution_count": 5,
   "id": "26f98a7d-5778-4704-ae54-3b8683108334",
   "metadata": {},
   "outputs": [],
   "source": [
    "from nltk.stem import PorterStemmer"
   ]
  },
  {
   "cell_type": "code",
   "execution_count": 7,
   "id": "35c18934-c247-4a34-891d-7f4b231feaf5",
   "metadata": {},
   "outputs": [],
   "source": [
    "porter = PorterStemmer()"
   ]
  },
  {
   "cell_type": "code",
   "execution_count": 15,
   "id": "bec82c23-a06a-450e-88e0-4065297db529",
   "metadata": {},
   "outputs": [
    {
     "data": {
      "text/plain": [
       "'walk'"
      ]
     },
     "execution_count": 15,
     "metadata": {},
     "output_type": "execute_result"
    }
   ],
   "source": [
    "porter.stem('WaLKing', to_lowercase=True)"
   ]
  },
  {
   "cell_type": "code",
   "execution_count": 17,
   "id": "a33ff42f-94a5-40c9-ba60-4f2c7fa77ef3",
   "metadata": {},
   "outputs": [
    {
     "data": {
      "text/plain": [
       "'walk'"
      ]
     },
     "execution_count": 17,
     "metadata": {},
     "output_type": "execute_result"
    }
   ],
   "source": [
    "porter.stem('walked', to_lowercase=True)"
   ]
  },
  {
   "cell_type": "code",
   "execution_count": 19,
   "id": "cc931f2f-6a46-4a9a-838f-d0c2b11a52b0",
   "metadata": {},
   "outputs": [
    {
     "data": {
      "text/plain": [
       "'walk'"
      ]
     },
     "execution_count": 19,
     "metadata": {},
     "output_type": "execute_result"
    }
   ],
   "source": [
    "porter.stem('walks', to_lowercase=True)"
   ]
  },
  {
   "cell_type": "code",
   "execution_count": 21,
   "id": "a9f6a4be-a0ce-46a8-8c48-620db07abb33",
   "metadata": {},
   "outputs": [
    {
     "data": {
      "text/plain": [
       "'ran'"
      ]
     },
     "execution_count": 21,
     "metadata": {},
     "output_type": "execute_result"
    }
   ],
   "source": [
    "porter.stem('ran', to_lowercase=True)"
   ]
  },
  {
   "cell_type": "code",
   "execution_count": 23,
   "id": "8e1184eb-ed84-4904-9ed5-31f4d6f3c987",
   "metadata": {},
   "outputs": [
    {
     "data": {
      "text/plain": [
       "'run'"
      ]
     },
     "execution_count": 23,
     "metadata": {},
     "output_type": "execute_result"
    }
   ],
   "source": [
    "porter.stem('running', to_lowercase=True)"
   ]
  },
  {
   "cell_type": "code",
   "execution_count": 25,
   "id": "08944383-a4de-4f77-93b7-cb82bf4d84ab",
   "metadata": {},
   "outputs": [
    {
     "data": {
      "text/plain": [
       "'run'"
      ]
     },
     "execution_count": 25,
     "metadata": {},
     "output_type": "execute_result"
    }
   ],
   "source": [
    "porter.stem('runs', to_lowercase=True)"
   ]
  },
  {
   "cell_type": "code",
   "execution_count": 27,
   "id": "8525c708-09a3-4d7c-a2c7-f5ee539bd8eb",
   "metadata": {},
   "outputs": [
    {
     "data": {
      "text/plain": [
       "'boss'"
      ]
     },
     "execution_count": 27,
     "metadata": {},
     "output_type": "execute_result"
    }
   ],
   "source": [
    "porter.stem('bosses', to_lowercase=True)"
   ]
  },
  {
   "cell_type": "code",
   "execution_count": 29,
   "id": "4ea007e8-8a69-4f27-b154-ba9c7184eac6",
   "metadata": {},
   "outputs": [
    {
     "data": {
      "text/plain": [
       "'replac'"
      ]
     },
     "execution_count": 29,
     "metadata": {},
     "output_type": "execute_result"
    }
   ],
   "source": [
    "porter.stem('replacement', to_lowercase=True)"
   ]
  },
  {
   "cell_type": "code",
   "execution_count": 31,
   "id": "d8ad5fde-1f07-4b26-bbff-367ca37f4836",
   "metadata": {},
   "outputs": [],
   "source": [
    "sentence = \"Lemmatization is more sophisticated than stemming\".split()"
   ]
  },
  {
   "cell_type": "code",
   "execution_count": 33,
   "id": "30021305-6380-4666-a8f4-48bfe9bc0dc9",
   "metadata": {},
   "outputs": [
    {
     "name": "stdout",
     "output_type": "stream",
     "text": [
      "lemmat is more sophist than stem "
     ]
    }
   ],
   "source": [
    "for token in sentence:\n",
    "    print(porter.stem(token), end = \" \")"
   ]
  },
  {
   "cell_type": "code",
   "execution_count": 35,
   "id": "5fb39765-9809-478c-b9b1-d36588a5614b",
   "metadata": {},
   "outputs": [
    {
     "data": {
      "text/plain": [
       "'unnecessari'"
      ]
     },
     "execution_count": 35,
     "metadata": {},
     "output_type": "execute_result"
    }
   ],
   "source": [
    "porter.stem('unnecessary', to_lowercase=True)"
   ]
  },
  {
   "cell_type": "code",
   "execution_count": 37,
   "id": "b010f584-b97f-4b88-8da6-d99f85e7961e",
   "metadata": {},
   "outputs": [
    {
     "data": {
      "text/plain": [
       "'berri'"
      ]
     },
     "execution_count": 37,
     "metadata": {},
     "output_type": "execute_result"
    }
   ],
   "source": [
    "porter.stem('berry', to_lowercase=True)"
   ]
  },
  {
   "cell_type": "code",
   "execution_count": 39,
   "id": "54e69d72-ea42-4d99-9f72-677671886057",
   "metadata": {},
   "outputs": [],
   "source": [
    "from nltk.stem import WordNetLemmatizer"
   ]
  },
  {
   "cell_type": "code",
   "execution_count": 41,
   "id": "10ef28d9-1049-4d2a-a4d5-b208d227ba4a",
   "metadata": {},
   "outputs": [],
   "source": [
    "lemmatizer = WordNetLemmatizer()"
   ]
  },
  {
   "cell_type": "code",
   "execution_count": 43,
   "id": "7093a83c-0207-4609-89f9-0135378f7e20",
   "metadata": {},
   "outputs": [
    {
     "name": "stderr",
     "output_type": "stream",
     "text": [
      "[nltk_data] Downloading package wordnet to\n",
      "[nltk_data]     C:\\Users\\adity\\AppData\\Roaming\\nltk_data...\n"
     ]
    },
    {
     "data": {
      "text/plain": [
       "True"
      ]
     },
     "execution_count": 43,
     "metadata": {},
     "output_type": "execute_result"
    }
   ],
   "source": [
    "nltk.download(\"wordnet\")"
   ]
  },
  {
   "cell_type": "code",
   "execution_count": 45,
   "id": "9234f28c-9fa0-4568-8811-a603ad10f501",
   "metadata": {},
   "outputs": [],
   "source": [
    "from nltk.corpus import wordnet"
   ]
  },
  {
   "cell_type": "code",
   "execution_count": 49,
   "id": "d64ce74d-5971-4e0b-a354-15ba8b82829f",
   "metadata": {},
   "outputs": [
    {
     "data": {
      "text/plain": [
       "'walk'"
      ]
     },
     "execution_count": 49,
     "metadata": {},
     "output_type": "execute_result"
    }
   ],
   "source": [
    "lemmatizer.lemmatize('walking', pos = wordnet.VERB)"
   ]
  },
  {
   "cell_type": "code",
   "execution_count": 51,
   "id": "6c3256b2-659f-40f5-a699-054e41c7e09e",
   "metadata": {},
   "outputs": [
    {
     "data": {
      "text/plain": [
       "'walking'"
      ]
     },
     "execution_count": 51,
     "metadata": {},
     "output_type": "execute_result"
    }
   ],
   "source": [
    "lemmatizer.lemmatize('walking')"
   ]
  },
  {
   "cell_type": "code",
   "execution_count": 53,
   "id": "50f26d6a-185f-48f3-a84f-d010d3147bfa",
   "metadata": {},
   "outputs": [
    {
     "data": {
      "text/plain": [
       "'go'"
      ]
     },
     "execution_count": 53,
     "metadata": {},
     "output_type": "execute_result"
    }
   ],
   "source": [
    "lemmatizer.lemmatize('going', pos = wordnet.VERB)"
   ]
  },
  {
   "cell_type": "code",
   "execution_count": 55,
   "id": "a5a2d8a6-30ea-4496-b1b8-5b05b7c36a9f",
   "metadata": {},
   "outputs": [
    {
     "data": {
      "text/plain": [
       "'going'"
      ]
     },
     "execution_count": 55,
     "metadata": {},
     "output_type": "execute_result"
    }
   ],
   "source": [
    "lemmatizer.lemmatize('going')"
   ]
  },
  {
   "cell_type": "code",
   "execution_count": 57,
   "id": "de96db20-4859-465b-ad57-fb61571dcd45",
   "metadata": {},
   "outputs": [
    {
     "data": {
      "text/plain": [
       "'run'"
      ]
     },
     "execution_count": 57,
     "metadata": {},
     "output_type": "execute_result"
    }
   ],
   "source": [
    "lemmatizer.lemmatize('ran', pos = wordnet.VERB)"
   ]
  },
  {
   "cell_type": "code",
   "execution_count": 59,
   "id": "8f591198-773d-4011-bde5-e6898fcd4444",
   "metadata": {},
   "outputs": [
    {
     "data": {
      "text/plain": [
       "'ran'"
      ]
     },
     "execution_count": 59,
     "metadata": {},
     "output_type": "execute_result"
    }
   ],
   "source": [
    "lemmatizer.lemmatize('ran')"
   ]
  },
  {
   "cell_type": "code",
   "execution_count": 63,
   "id": "714210d2-0cac-4cee-8177-d81256ffc137",
   "metadata": {},
   "outputs": [
    {
     "data": {
      "text/plain": [
       "'be'"
      ]
     },
     "execution_count": 63,
     "metadata": {},
     "output_type": "execute_result"
    }
   ],
   "source": [
    "lemmatizer.lemmatize('was', pos = wordnet.VERB)"
   ]
  },
  {
   "cell_type": "code",
   "execution_count": 65,
   "id": "72a7d2f8-14f6-4cdc-b8f1-db19c165835b",
   "metadata": {},
   "outputs": [
    {
     "data": {
      "text/plain": [
       "'mouse'"
      ]
     },
     "execution_count": 65,
     "metadata": {},
     "output_type": "execute_result"
    }
   ],
   "source": [
    "lemmatizer.lemmatize('mice')"
   ]
  },
  {
   "cell_type": "code",
   "execution_count": null,
   "id": "ae0b5f1d-0d80-487f-9c19-a2aafff340e8",
   "metadata": {},
   "outputs": [],
   "source": []
  }
 ],
 "metadata": {
  "kernelspec": {
   "display_name": "Python 3 (ipykernel)",
   "language": "python",
   "name": "python3"
  },
  "language_info": {
   "codemirror_mode": {
    "name": "ipython",
    "version": 3
   },
   "file_extension": ".py",
   "mimetype": "text/x-python",
   "name": "python",
   "nbconvert_exporter": "python",
   "pygments_lexer": "ipython3",
   "version": "3.11.7"
  }
 },
 "nbformat": 4,
 "nbformat_minor": 5
}
