{
 "cells": [
  {
   "cell_type": "code",
   "execution_count": 1,
   "id": "626ad122-8daf-459f-83a5-5e04b45d2932",
   "metadata": {},
   "outputs": [],
   "source": [
    "import numpy as np\n",
    "import pandas as pd\n",
    "import nltk\n",
    "\n",
    "from nltk import word_tokenize"
   ]
  },
  {
   "cell_type": "code",
   "execution_count": 5,
   "id": "49ff79a5-4717-4a04-a25e-b346f094b434",
   "metadata": {},
   "outputs": [],
   "source": [
    "df = pd.read_csv('../Datasets/bbc_text_cls.csv')"
   ]
  },
  {
   "cell_type": "code",
   "execution_count": 7,
   "id": "8a469566-040e-497e-8279-2ffe550ad0ac",
   "metadata": {},
   "outputs": [
    {
     "data": {
      "text/html": [
       "<div>\n",
       "<style scoped>\n",
       "    .dataframe tbody tr th:only-of-type {\n",
       "        vertical-align: middle;\n",
       "    }\n",
       "\n",
       "    .dataframe tbody tr th {\n",
       "        vertical-align: top;\n",
       "    }\n",
       "\n",
       "    .dataframe thead th {\n",
       "        text-align: right;\n",
       "    }\n",
       "</style>\n",
       "<table border=\"1\" class=\"dataframe\">\n",
       "  <thead>\n",
       "    <tr style=\"text-align: right;\">\n",
       "      <th></th>\n",
       "      <th>text</th>\n",
       "      <th>labels</th>\n",
       "    </tr>\n",
       "  </thead>\n",
       "  <tbody>\n",
       "    <tr>\n",
       "      <th>0</th>\n",
       "      <td>Ad sales boost Time Warner profit\\n\\nQuarterly...</td>\n",
       "      <td>business</td>\n",
       "    </tr>\n",
       "    <tr>\n",
       "      <th>1</th>\n",
       "      <td>Dollar gains on Greenspan speech\\n\\nThe dollar...</td>\n",
       "      <td>business</td>\n",
       "    </tr>\n",
       "    <tr>\n",
       "      <th>2</th>\n",
       "      <td>Yukos unit buyer faces loan claim\\n\\nThe owner...</td>\n",
       "      <td>business</td>\n",
       "    </tr>\n",
       "    <tr>\n",
       "      <th>3</th>\n",
       "      <td>High fuel prices hit BA's profits\\n\\nBritish A...</td>\n",
       "      <td>business</td>\n",
       "    </tr>\n",
       "    <tr>\n",
       "      <th>4</th>\n",
       "      <td>Pernod takeover talk lifts Domecq\\n\\nShares in...</td>\n",
       "      <td>business</td>\n",
       "    </tr>\n",
       "  </tbody>\n",
       "</table>\n",
       "</div>"
      ],
      "text/plain": [
       "                                                text    labels\n",
       "0  Ad sales boost Time Warner profit\\n\\nQuarterly...  business\n",
       "1  Dollar gains on Greenspan speech\\n\\nThe dollar...  business\n",
       "2  Yukos unit buyer faces loan claim\\n\\nThe owner...  business\n",
       "3  High fuel prices hit BA's profits\\n\\nBritish A...  business\n",
       "4  Pernod takeover talk lifts Domecq\\n\\nShares in...  business"
      ]
     },
     "execution_count": 7,
     "metadata": {},
     "output_type": "execute_result"
    }
   ],
   "source": [
    "df.head()"
   ]
  },
  {
   "cell_type": "code",
   "execution_count": 9,
   "id": "ce636046-e8d5-4e54-b064-88d11a70320b",
   "metadata": {},
   "outputs": [],
   "source": [
    "# populate word2idx\n",
    "# convert documents into sequences of ints / ids / indices\n",
    "idx = 0\n",
    "word2idx = {}\n",
    "tokenized_docs = []\n",
    "for doc in df['text']:\n",
    "    words = word_tokenize(doc.lower())\n",
    "    doc_as_int = []\n",
    "    for word in words:\n",
    "        if word not in word2idx:\n",
    "            word2idx[word] = idx\n",
    "            idx += 1\n",
    "\n",
    "        # save for later\n",
    "        doc_as_int.append(word2idx[word])\n",
    "    tokenized_docs.append(doc_as_int)"
   ]
  },
  {
   "cell_type": "code",
   "execution_count": 11,
   "id": "381cfe7e-623b-4df6-9a9e-1b3603518de5",
   "metadata": {},
   "outputs": [],
   "source": [
    "# Number of words\n",
    "N = len(df['text'])"
   ]
  },
  {
   "cell_type": "code",
   "execution_count": 13,
   "id": "20549cba-8254-4b2b-99cf-456cde356392",
   "metadata": {},
   "outputs": [],
   "source": [
    "# number of words\n",
    "V = len(word2idx)"
   ]
  },
  {
   "cell_type": "code",
   "execution_count": 15,
   "id": "16a8f7c1-f7ee-46cd-a11a-24d2ae3f99d0",
   "metadata": {},
   "outputs": [],
   "source": [
    "# instantiate term-frequency matrix\n",
    "# note: could have also usd count vectorizer\n",
    "tf = np.zeros((N, V))"
   ]
  },
  {
   "cell_type": "code",
   "execution_count": 19,
   "id": "acd19a3e-9773-4305-8af8-3e93e3f2ea01",
   "metadata": {},
   "outputs": [],
   "source": [
    "# populate term-frequency counts\n",
    "for i, doc_as_int in enumerate(tokenized_docs):\n",
    "    for j in doc_as_int:\n",
    "        tf[i, j] += 1"
   ]
  },
  {
   "cell_type": "code",
   "execution_count": 23,
   "id": "ab19d701-1fec-43b6-bcd1-b1bfde0ab1b9",
   "metadata": {},
   "outputs": [],
   "source": [
    "# compute IDF\n",
    "document_freq = np.sum(tf > 0, axis = 0) # document frequency (shape = (V, ))\n",
    "idf = np.log(N / document_freq)"
   ]
  },
  {
   "cell_type": "code",
   "execution_count": 25,
   "id": "733711c7-5bda-4abf-a49b-606bc89c0ca3",
   "metadata": {},
   "outputs": [],
   "source": [
    "# compute TF-IDF\n",
    "tf_idf = tf * idf"
   ]
  },
  {
   "cell_type": "code",
   "execution_count": 31,
   "id": "56ce7c25-0d7e-4f79-8a48-2164ebfa4018",
   "metadata": {},
   "outputs": [],
   "source": [
    "idx2word = {idx:word for word, idx in word2idx.items()}"
   ]
  },
  {
   "cell_type": "code",
   "execution_count": 33,
   "id": "0e935228-ea9c-4a9e-99cb-5c0cfcc929ba",
   "metadata": {},
   "outputs": [
    {
     "name": "stdout",
     "output_type": "stream",
     "text": [
      "Label: entertainment\n",
      "Text: Scissor Sisters triumph at Brits\n",
      "Top 5 terms:\n",
      "song\n",
      "angels\n",
      "!\n",
      "robbie\n",
      "25\n"
     ]
    }
   ],
   "source": [
    "# pick a random document, show the top 5 terms (in terms of tf-idf score)\n",
    "i = np.random.choice(N)\n",
    "row = df.iloc[i]\n",
    "print(\"Label:\", row['labels'])\n",
    "print(\"Text:\", row['text'].split(\"\\n\", 1)[0])\n",
    "print('Top 5 terms:')\n",
    "scores = tf_idf[i]\n",
    "indices = (-scores).argsort()\n",
    "for j in indices[:5]:\n",
    "    print(idx2word[j])"
   ]
  }
 ],
 "metadata": {
  "kernelspec": {
   "display_name": "Python 3 (ipykernel)",
   "language": "python",
   "name": "python3"
  },
  "language_info": {
   "codemirror_mode": {
    "name": "ipython",
    "version": 3
   },
   "file_extension": ".py",
   "mimetype": "text/x-python",
   "name": "python",
   "nbconvert_exporter": "python",
   "pygments_lexer": "ipython3",
   "version": "3.11.7"
  }
 },
 "nbformat": 4,
 "nbformat_minor": 5
}
