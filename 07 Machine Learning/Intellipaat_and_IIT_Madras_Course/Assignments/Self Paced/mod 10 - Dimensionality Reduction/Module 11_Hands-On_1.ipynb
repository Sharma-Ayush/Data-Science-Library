{
 "cells": [
  {
   "cell_type": "code",
   "execution_count": 1,
   "id": "7fb043df",
   "metadata": {},
   "outputs": [],
   "source": [
    "import numpy as np\n",
    "import pandas as pd\n",
    "from sklearn.model_selection import train_test_split\n",
    "from sklearn.preprocessing import StandardScaler\n",
    "from sklearn.decomposition import PCA\n",
    "from sklearn.ensemble import RandomForestClassifier\n",
    "from sklearn.metrics import confusion_matrix\n",
    "from sklearn.metrics import accuracy_score"
   ]
  },
  {
   "cell_type": "code",
   "execution_count": 2,
   "id": "8a0fed74",
   "metadata": {},
   "outputs": [],
   "source": [
    "from sklearn import datasets\n",
    "\n",
    "iris = datasets.load_iris()"
   ]
  },
  {
   "cell_type": "code",
   "execution_count": 3,
   "id": "300658c9",
   "metadata": {},
   "outputs": [
    {
     "data": {
      "text/plain": [
       "{'data': array([[5.1, 3.5, 1.4, 0.2],\n",
       "        [4.9, 3. , 1.4, 0.2],\n",
       "        [4.7, 3.2, 1.3, 0.2],\n",
       "        [4.6, 3.1, 1.5, 0.2],\n",
       "        [5. , 3.6, 1.4, 0.2],\n",
       "        [5.4, 3.9, 1.7, 0.4],\n",
       "        [4.6, 3.4, 1.4, 0.3],\n",
       "        [5. , 3.4, 1.5, 0.2],\n",
       "        [4.4, 2.9, 1.4, 0.2],\n",
       "        [4.9, 3.1, 1.5, 0.1],\n",
       "        [5.4, 3.7, 1.5, 0.2],\n",
       "        [4.8, 3.4, 1.6, 0.2],\n",
       "        [4.8, 3. , 1.4, 0.1],\n",
       "        [4.3, 3. , 1.1, 0.1],\n",
       "        [5.8, 4. , 1.2, 0.2],\n",
       "        [5.7, 4.4, 1.5, 0.4],\n",
       "        [5.4, 3.9, 1.3, 0.4],\n",
       "        [5.1, 3.5, 1.4, 0.3],\n",
       "        [5.7, 3.8, 1.7, 0.3],\n",
       "        [5.1, 3.8, 1.5, 0.3],\n",
       "        [5.4, 3.4, 1.7, 0.2],\n",
       "        [5.1, 3.7, 1.5, 0.4],\n",
       "        [4.6, 3.6, 1. , 0.2],\n",
       "        [5.1, 3.3, 1.7, 0.5],\n",
       "        [4.8, 3.4, 1.9, 0.2],\n",
       "        [5. , 3. , 1.6, 0.2],\n",
       "        [5. , 3.4, 1.6, 0.4],\n",
       "        [5.2, 3.5, 1.5, 0.2],\n",
       "        [5.2, 3.4, 1.4, 0.2],\n",
       "        [4.7, 3.2, 1.6, 0.2],\n",
       "        [4.8, 3.1, 1.6, 0.2],\n",
       "        [5.4, 3.4, 1.5, 0.4],\n",
       "        [5.2, 4.1, 1.5, 0.1],\n",
       "        [5.5, 4.2, 1.4, 0.2],\n",
       "        [4.9, 3.1, 1.5, 0.2],\n",
       "        [5. , 3.2, 1.2, 0.2],\n",
       "        [5.5, 3.5, 1.3, 0.2],\n",
       "        [4.9, 3.6, 1.4, 0.1],\n",
       "        [4.4, 3. , 1.3, 0.2],\n",
       "        [5.1, 3.4, 1.5, 0.2],\n",
       "        [5. , 3.5, 1.3, 0.3],\n",
       "        [4.5, 2.3, 1.3, 0.3],\n",
       "        [4.4, 3.2, 1.3, 0.2],\n",
       "        [5. , 3.5, 1.6, 0.6],\n",
       "        [5.1, 3.8, 1.9, 0.4],\n",
       "        [4.8, 3. , 1.4, 0.3],\n",
       "        [5.1, 3.8, 1.6, 0.2],\n",
       "        [4.6, 3.2, 1.4, 0.2],\n",
       "        [5.3, 3.7, 1.5, 0.2],\n",
       "        [5. , 3.3, 1.4, 0.2],\n",
       "        [7. , 3.2, 4.7, 1.4],\n",
       "        [6.4, 3.2, 4.5, 1.5],\n",
       "        [6.9, 3.1, 4.9, 1.5],\n",
       "        [5.5, 2.3, 4. , 1.3],\n",
       "        [6.5, 2.8, 4.6, 1.5],\n",
       "        [5.7, 2.8, 4.5, 1.3],\n",
       "        [6.3, 3.3, 4.7, 1.6],\n",
       "        [4.9, 2.4, 3.3, 1. ],\n",
       "        [6.6, 2.9, 4.6, 1.3],\n",
       "        [5.2, 2.7, 3.9, 1.4],\n",
       "        [5. , 2. , 3.5, 1. ],\n",
       "        [5.9, 3. , 4.2, 1.5],\n",
       "        [6. , 2.2, 4. , 1. ],\n",
       "        [6.1, 2.9, 4.7, 1.4],\n",
       "        [5.6, 2.9, 3.6, 1.3],\n",
       "        [6.7, 3.1, 4.4, 1.4],\n",
       "        [5.6, 3. , 4.5, 1.5],\n",
       "        [5.8, 2.7, 4.1, 1. ],\n",
       "        [6.2, 2.2, 4.5, 1.5],\n",
       "        [5.6, 2.5, 3.9, 1.1],\n",
       "        [5.9, 3.2, 4.8, 1.8],\n",
       "        [6.1, 2.8, 4. , 1.3],\n",
       "        [6.3, 2.5, 4.9, 1.5],\n",
       "        [6.1, 2.8, 4.7, 1.2],\n",
       "        [6.4, 2.9, 4.3, 1.3],\n",
       "        [6.6, 3. , 4.4, 1.4],\n",
       "        [6.8, 2.8, 4.8, 1.4],\n",
       "        [6.7, 3. , 5. , 1.7],\n",
       "        [6. , 2.9, 4.5, 1.5],\n",
       "        [5.7, 2.6, 3.5, 1. ],\n",
       "        [5.5, 2.4, 3.8, 1.1],\n",
       "        [5.5, 2.4, 3.7, 1. ],\n",
       "        [5.8, 2.7, 3.9, 1.2],\n",
       "        [6. , 2.7, 5.1, 1.6],\n",
       "        [5.4, 3. , 4.5, 1.5],\n",
       "        [6. , 3.4, 4.5, 1.6],\n",
       "        [6.7, 3.1, 4.7, 1.5],\n",
       "        [6.3, 2.3, 4.4, 1.3],\n",
       "        [5.6, 3. , 4.1, 1.3],\n",
       "        [5.5, 2.5, 4. , 1.3],\n",
       "        [5.5, 2.6, 4.4, 1.2],\n",
       "        [6.1, 3. , 4.6, 1.4],\n",
       "        [5.8, 2.6, 4. , 1.2],\n",
       "        [5. , 2.3, 3.3, 1. ],\n",
       "        [5.6, 2.7, 4.2, 1.3],\n",
       "        [5.7, 3. , 4.2, 1.2],\n",
       "        [5.7, 2.9, 4.2, 1.3],\n",
       "        [6.2, 2.9, 4.3, 1.3],\n",
       "        [5.1, 2.5, 3. , 1.1],\n",
       "        [5.7, 2.8, 4.1, 1.3],\n",
       "        [6.3, 3.3, 6. , 2.5],\n",
       "        [5.8, 2.7, 5.1, 1.9],\n",
       "        [7.1, 3. , 5.9, 2.1],\n",
       "        [6.3, 2.9, 5.6, 1.8],\n",
       "        [6.5, 3. , 5.8, 2.2],\n",
       "        [7.6, 3. , 6.6, 2.1],\n",
       "        [4.9, 2.5, 4.5, 1.7],\n",
       "        [7.3, 2.9, 6.3, 1.8],\n",
       "        [6.7, 2.5, 5.8, 1.8],\n",
       "        [7.2, 3.6, 6.1, 2.5],\n",
       "        [6.5, 3.2, 5.1, 2. ],\n",
       "        [6.4, 2.7, 5.3, 1.9],\n",
       "        [6.8, 3. , 5.5, 2.1],\n",
       "        [5.7, 2.5, 5. , 2. ],\n",
       "        [5.8, 2.8, 5.1, 2.4],\n",
       "        [6.4, 3.2, 5.3, 2.3],\n",
       "        [6.5, 3. , 5.5, 1.8],\n",
       "        [7.7, 3.8, 6.7, 2.2],\n",
       "        [7.7, 2.6, 6.9, 2.3],\n",
       "        [6. , 2.2, 5. , 1.5],\n",
       "        [6.9, 3.2, 5.7, 2.3],\n",
       "        [5.6, 2.8, 4.9, 2. ],\n",
       "        [7.7, 2.8, 6.7, 2. ],\n",
       "        [6.3, 2.7, 4.9, 1.8],\n",
       "        [6.7, 3.3, 5.7, 2.1],\n",
       "        [7.2, 3.2, 6. , 1.8],\n",
       "        [6.2, 2.8, 4.8, 1.8],\n",
       "        [6.1, 3. , 4.9, 1.8],\n",
       "        [6.4, 2.8, 5.6, 2.1],\n",
       "        [7.2, 3. , 5.8, 1.6],\n",
       "        [7.4, 2.8, 6.1, 1.9],\n",
       "        [7.9, 3.8, 6.4, 2. ],\n",
       "        [6.4, 2.8, 5.6, 2.2],\n",
       "        [6.3, 2.8, 5.1, 1.5],\n",
       "        [6.1, 2.6, 5.6, 1.4],\n",
       "        [7.7, 3. , 6.1, 2.3],\n",
       "        [6.3, 3.4, 5.6, 2.4],\n",
       "        [6.4, 3.1, 5.5, 1.8],\n",
       "        [6. , 3. , 4.8, 1.8],\n",
       "        [6.9, 3.1, 5.4, 2.1],\n",
       "        [6.7, 3.1, 5.6, 2.4],\n",
       "        [6.9, 3.1, 5.1, 2.3],\n",
       "        [5.8, 2.7, 5.1, 1.9],\n",
       "        [6.8, 3.2, 5.9, 2.3],\n",
       "        [6.7, 3.3, 5.7, 2.5],\n",
       "        [6.7, 3. , 5.2, 2.3],\n",
       "        [6.3, 2.5, 5. , 1.9],\n",
       "        [6.5, 3. , 5.2, 2. ],\n",
       "        [6.2, 3.4, 5.4, 2.3],\n",
       "        [5.9, 3. , 5.1, 1.8]]),\n",
       " 'target': array([0, 0, 0, 0, 0, 0, 0, 0, 0, 0, 0, 0, 0, 0, 0, 0, 0, 0, 0, 0, 0, 0,\n",
       "        0, 0, 0, 0, 0, 0, 0, 0, 0, 0, 0, 0, 0, 0, 0, 0, 0, 0, 0, 0, 0, 0,\n",
       "        0, 0, 0, 0, 0, 0, 1, 1, 1, 1, 1, 1, 1, 1, 1, 1, 1, 1, 1, 1, 1, 1,\n",
       "        1, 1, 1, 1, 1, 1, 1, 1, 1, 1, 1, 1, 1, 1, 1, 1, 1, 1, 1, 1, 1, 1,\n",
       "        1, 1, 1, 1, 1, 1, 1, 1, 1, 1, 1, 1, 2, 2, 2, 2, 2, 2, 2, 2, 2, 2,\n",
       "        2, 2, 2, 2, 2, 2, 2, 2, 2, 2, 2, 2, 2, 2, 2, 2, 2, 2, 2, 2, 2, 2,\n",
       "        2, 2, 2, 2, 2, 2, 2, 2, 2, 2, 2, 2, 2, 2, 2, 2, 2, 2]),\n",
       " 'frame': None,\n",
       " 'target_names': array(['setosa', 'versicolor', 'virginica'], dtype='<U10'),\n",
       " 'DESCR': '.. _iris_dataset:\\n\\nIris plants dataset\\n--------------------\\n\\n**Data Set Characteristics:**\\n\\n    :Number of Instances: 150 (50 in each of three classes)\\n    :Number of Attributes: 4 numeric, predictive attributes and the class\\n    :Attribute Information:\\n        - sepal length in cm\\n        - sepal width in cm\\n        - petal length in cm\\n        - petal width in cm\\n        - class:\\n                - Iris-Setosa\\n                - Iris-Versicolour\\n                - Iris-Virginica\\n                \\n    :Summary Statistics:\\n\\n    ============== ==== ==== ======= ===== ====================\\n                    Min  Max   Mean    SD   Class Correlation\\n    ============== ==== ==== ======= ===== ====================\\n    sepal length:   4.3  7.9   5.84   0.83    0.7826\\n    sepal width:    2.0  4.4   3.05   0.43   -0.4194\\n    petal length:   1.0  6.9   3.76   1.76    0.9490  (high!)\\n    petal width:    0.1  2.5   1.20   0.76    0.9565  (high!)\\n    ============== ==== ==== ======= ===== ====================\\n\\n    :Missing Attribute Values: None\\n    :Class Distribution: 33.3% for each of 3 classes.\\n    :Creator: R.A. Fisher\\n    :Donor: Michael Marshall (MARSHALL%PLU@io.arc.nasa.gov)\\n    :Date: July, 1988\\n\\nThe famous Iris database, first used by Sir R.A. Fisher. The dataset is taken\\nfrom Fisher\\'s paper. Note that it\\'s the same as in R, but not as in the UCI\\nMachine Learning Repository, which has two wrong data points.\\n\\nThis is perhaps the best known database to be found in the\\npattern recognition literature.  Fisher\\'s paper is a classic in the field and\\nis referenced frequently to this day.  (See Duda & Hart, for example.)  The\\ndata set contains 3 classes of 50 instances each, where each class refers to a\\ntype of iris plant.  One class is linearly separable from the other 2; the\\nlatter are NOT linearly separable from each other.\\n\\n.. topic:: References\\n\\n   - Fisher, R.A. \"The use of multiple measurements in taxonomic problems\"\\n     Annual Eugenics, 7, Part II, 179-188 (1936); also in \"Contributions to\\n     Mathematical Statistics\" (John Wiley, NY, 1950).\\n   - Duda, R.O., & Hart, P.E. (1973) Pattern Classification and Scene Analysis.\\n     (Q327.D83) John Wiley & Sons.  ISBN 0-471-22361-1.  See page 218.\\n   - Dasarathy, B.V. (1980) \"Nosing Around the Neighborhood: A New System\\n     Structure and Classification Rule for Recognition in Partially Exposed\\n     Environments\".  IEEE Transactions on Pattern Analysis and Machine\\n     Intelligence, Vol. PAMI-2, No. 1, 67-71.\\n   - Gates, G.W. (1972) \"The Reduced Nearest Neighbor Rule\".  IEEE Transactions\\n     on Information Theory, May 1972, 431-433.\\n   - See also: 1988 MLC Proceedings, 54-64.  Cheeseman et al\"s AUTOCLASS II\\n     conceptual clustering system finds 3 classes in the data.\\n   - Many, many more ...',\n",
       " 'feature_names': ['sepal length (cm)',\n",
       "  'sepal width (cm)',\n",
       "  'petal length (cm)',\n",
       "  'petal width (cm)'],\n",
       " 'filename': 'iris.csv',\n",
       " 'data_module': 'sklearn.datasets.data'}"
      ]
     },
     "execution_count": 3,
     "metadata": {},
     "output_type": "execute_result"
    }
   ],
   "source": [
    "iris"
   ]
  },
  {
   "cell_type": "code",
   "execution_count": 5,
   "id": "74054339",
   "metadata": {},
   "outputs": [],
   "source": [
    "X = pd.DataFrame(iris.data, columns = ['sepal length',\n",
    "  'sepal width',\n",
    "  'petal length',\n",
    "  'petal width'])\n"
   ]
  },
  {
   "cell_type": "code",
   "execution_count": 6,
   "id": "0cd1f05a",
   "metadata": {},
   "outputs": [],
   "source": [
    "Y = iris.target"
   ]
  },
  {
   "cell_type": "code",
   "execution_count": 7,
   "id": "9481067d",
   "metadata": {},
   "outputs": [
    {
     "data": {
      "text/plain": [
       "array([0, 0, 0, 0, 0, 0, 0, 0, 0, 0, 0, 0, 0, 0, 0, 0, 0, 0, 0, 0, 0, 0,\n",
       "       0, 0, 0, 0, 0, 0, 0, 0, 0, 0, 0, 0, 0, 0, 0, 0, 0, 0, 0, 0, 0, 0,\n",
       "       0, 0, 0, 0, 0, 0, 1, 1, 1, 1, 1, 1, 1, 1, 1, 1, 1, 1, 1, 1, 1, 1,\n",
       "       1, 1, 1, 1, 1, 1, 1, 1, 1, 1, 1, 1, 1, 1, 1, 1, 1, 1, 1, 1, 1, 1,\n",
       "       1, 1, 1, 1, 1, 1, 1, 1, 1, 1, 1, 1, 2, 2, 2, 2, 2, 2, 2, 2, 2, 2,\n",
       "       2, 2, 2, 2, 2, 2, 2, 2, 2, 2, 2, 2, 2, 2, 2, 2, 2, 2, 2, 2, 2, 2,\n",
       "       2, 2, 2, 2, 2, 2, 2, 2, 2, 2, 2, 2, 2, 2, 2, 2, 2, 2])"
      ]
     },
     "execution_count": 7,
     "metadata": {},
     "output_type": "execute_result"
    }
   ],
   "source": [
    "Y"
   ]
  },
  {
   "cell_type": "code",
   "execution_count": 8,
   "id": "702c4669",
   "metadata": {},
   "outputs": [],
   "source": [
    "X_train, X_test, Y_train, Y_test = train_test_split(X, Y, test_size=0.3, random_state=0)"
   ]
  },
  {
   "cell_type": "code",
   "execution_count": 9,
   "id": "2572b63f",
   "metadata": {},
   "outputs": [],
   "source": [
    "scaler = StandardScaler()\n",
    "X_train_scaled = scaler.fit_transform(X_train)"
   ]
  },
  {
   "cell_type": "code",
   "execution_count": 10,
   "id": "da8d4d9e",
   "metadata": {},
   "outputs": [],
   "source": [
    "X_test_scaled = scaler.transform(X_test)"
   ]
  },
  {
   "cell_type": "code",
   "execution_count": 12,
   "id": "d4d61321",
   "metadata": {},
   "outputs": [
    {
     "data": {
      "text/plain": [
       "array([[-1.02366372, -2.37846268, -0.18295039, -0.29318114],\n",
       "       [ 0.69517462, -0.10190314,  0.93066067,  0.7372463 ],\n",
       "       [ 0.92435306,  0.58106472,  1.04202177,  1.63887031],\n",
       "       [ 0.1222285 , -1.92315077,  0.6522579 ,  0.35083601],\n",
       "       [ 0.92435306, -1.24018291,  1.09770233,  0.7372463 ],\n",
       "       [-0.33612839, -1.24018291,  0.03977182, -0.16437771],\n",
       "       [ 2.07024529, -0.10190314,  1.26474398,  1.38126345],\n",
       "       [ 0.46599617,  0.58106472,  0.48521625,  0.47963944],\n",
       "       [-0.45071761, -1.46783886, -0.01590873, -0.16437771],\n",
       "       [ 0.46599617, -0.784871  ,  0.59657735,  0.7372463 ],\n",
       "       [ 0.46599617, -0.55721505,  0.70793846,  0.35083601],\n",
       "       [-1.13825295, -1.24018291,  0.37385514,  0.60844287],\n",
       "       [ 0.46599617, -1.24018291,  0.6522579 ,  0.86604973],\n",
       "       [ 1.26812073,  0.35340877,  0.48521625,  0.22203258],\n",
       "       [ 0.69517462, -0.10190314,  0.76361901,  0.99485316],\n",
       "       [ 0.1222285 ,  0.80872067,  0.37385514,  0.47963944],\n",
       "       [-1.25284217,  0.12575281, -1.24088089, -1.32360858],\n",
       "       [-0.10694994, -0.784871  ,  0.70793846,  0.86604973],\n",
       "       [-0.33612839, -0.784871  ,  0.20681348,  0.09322915],\n",
       "       [-0.33612839, -0.32955909, -0.12726983,  0.09322915],\n",
       "       [-0.45071761, -1.24018291,  0.09545238,  0.09322915],\n",
       "       [ 0.23681773, -0.10190314,  0.42953569,  0.22203258],\n",
       "       [ 1.49729918,  0.35340877,  1.20906343,  0.7372463 ],\n",
       "       [-0.67989605,  1.49168853, -1.29656144, -1.32360858],\n",
       "       [-1.82578828, -0.10190314, -1.51928365, -1.45241201],\n",
       "       [ 0.5805854 , -0.784871  ,  0.81929956,  0.86604973],\n",
       "       [-0.22153916, -0.10190314,  0.20681348, -0.03557428],\n",
       "       [-0.56530683,  0.80872067, -1.18520034, -1.32360858],\n",
       "       [-0.22153916,  3.08528021, -1.29656144, -1.06600172],\n",
       "       [ 1.15353151,  0.12575281,  0.59657735,  0.35083601],\n",
       "       [-1.48202061,  0.12575281, -1.29656144, -1.32360858],\n",
       "       [ 0.00763928, -0.10190314,  0.70793846,  0.7372463 ],\n",
       "       [-0.9090745 , -1.24018291, -0.46135315, -0.16437771],\n",
       "       [-1.48202061,  0.80872067, -1.35224199, -1.19480515],\n",
       "       [ 0.35140695, -1.92315077,  0.37385514,  0.35083601],\n",
       "       [ 1.49729918,  1.26403258,  1.26474398,  1.63887031],\n",
       "       [-0.22153916, -0.32955909,  0.20681348,  0.09322915],\n",
       "       [-1.25284217, -0.10190314, -1.35224199, -1.45241201],\n",
       "       [ 1.38270995, -0.10190314,  1.15338288,  1.12365659],\n",
       "       [ 1.15353151,  0.35340877,  1.04202177,  1.38126345],\n",
       "       [ 0.69517462, -0.10190314,  1.09770233,  1.25246002],\n",
       "       [ 0.5805854 , -0.55721505,  0.98634122,  1.12365659],\n",
       "       [-0.9090745 ,  1.71934449, -1.24088089, -1.32360858],\n",
       "       [-1.25284217,  0.80872067, -1.24088089, -1.32360858],\n",
       "       [ 0.69517462,  0.35340877,  0.70793846,  0.99485316],\n",
       "       [ 0.92435306,  0.58106472,  1.04202177,  1.12365659],\n",
       "       [-1.59660984, -1.69549482, -1.40792255, -1.19480515],\n",
       "       [ 0.35140695,  0.80872067,  0.87498011,  1.38126345],\n",
       "       [-1.13825295, -0.10190314, -1.35224199, -1.32360858],\n",
       "       [-0.22153916, -1.24018291,  0.6522579 ,  0.99485316],\n",
       "       [ 1.15353151,  0.12575281,  0.87498011,  1.12365659],\n",
       "       [-1.71119906,  0.35340877, -1.40792255, -1.32360858],\n",
       "       [-1.02366372,  1.26403258, -1.35224199, -1.32360858],\n",
       "       [ 1.49729918, -0.10190314,  1.09770233,  0.47963944],\n",
       "       [-0.9090745 ,  1.03637663, -1.35224199, -1.19480515],\n",
       "       [-1.71119906, -0.10190314, -1.40792255, -1.32360858],\n",
       "       [-0.56530683,  1.94700044, -1.18520034, -1.06600172],\n",
       "       [-0.45071761, -1.69549482,  0.09545238,  0.09322915],\n",
       "       [ 1.03894229,  0.35340877,  1.15338288,  1.38126345],\n",
       "       [ 1.95565607, -0.10190314,  1.54314675,  1.12365659],\n",
       "       [-0.9090745 ,  1.03637663, -1.35224199, -1.32360858],\n",
       "       [-1.13825295,  0.12575281, -1.29656144, -1.32360858],\n",
       "       [-0.79448528,  0.80872067, -1.35224199, -1.32360858],\n",
       "       [-0.22153916, -0.55721505,  0.37385514,  0.09322915],\n",
       "       [ 0.80976384, -0.10190314,  0.31817459,  0.22203258],\n",
       "       [-1.02366372,  0.35340877, -1.4636031 , -1.32360858],\n",
       "       [-0.9090745 ,  0.58106472, -1.18520034, -0.93719829],\n",
       "       [ 0.5805854 , -0.32955909,  0.26249403,  0.09322915],\n",
       "       [-0.56530683,  0.80872067, -1.29656144, -1.06600172],\n",
       "       [ 2.07024529, -1.01252695,  1.71018841,  1.38126345],\n",
       "       [-1.13825295, -1.46783886, -0.29431149, -0.29318114],\n",
       "       [ 2.29942374,  1.71934449,  1.43178564,  0.99485316],\n",
       "       [ 0.92435306,  0.12575281,  0.31817459,  0.22203258],\n",
       "       [-0.79448528,  2.40231235, -1.29656144, -1.45241201],\n",
       "       [ 0.1222285 , -0.10190314,  0.5408968 ,  0.7372463 ],\n",
       "       [-0.10694994,  2.17465639, -1.4636031 , -1.32360858],\n",
       "       [ 2.07024529, -0.55721505,  1.5988273 ,  0.99485316],\n",
       "       [-0.9090745 ,  1.71934449, -1.29656144, -1.19480515],\n",
       "       [-1.36743139,  0.35340877, -1.24088089, -1.32360858],\n",
       "       [ 1.72647762, -0.55721505,  1.26474398,  0.86604973],\n",
       "       [-1.02366372,  0.58106472, -1.35224199, -1.32360858],\n",
       "       [ 0.46599617,  0.80872067,  0.98634122,  1.51006688],\n",
       "       [-0.22153916, -0.55721505,  0.15113293,  0.09322915],\n",
       "       [-0.10694994, -0.784871  ,  0.03977182, -0.03557428],\n",
       "       [-0.22153916, -1.01252695, -0.18295039, -0.29318114],\n",
       "       [ 0.5805854 ,  0.35340877,  0.81929956,  1.38126345],\n",
       "       [ 0.92435306, -0.10190314,  0.76361901,  1.38126345],\n",
       "       [ 0.46599617, -1.24018291,  0.59657735,  0.35083601],\n",
       "       [ 0.92435306, -0.10190314,  0.6522579 ,  0.60844287],\n",
       "       [-1.02366372, -0.10190314, -1.24088089, -1.32360858],\n",
       "       [-0.45071761, -1.46783886, -0.07158928, -0.29318114],\n",
       "       [ 0.92435306,  0.12575281,  0.98634122,  1.51006688],\n",
       "       [-0.10694994, -0.784871  ,  0.70793846,  0.86604973],\n",
       "       [-0.9090745 ,  0.80872067, -1.29656144, -1.32360858],\n",
       "       [ 0.80976384, -0.32955909,  0.42953569,  0.09322915],\n",
       "       [-0.33612839, -0.10190314,  0.15113293,  0.09322915],\n",
       "       [ 0.00763928,  0.35340877,  0.5408968 ,  0.7372463 ],\n",
       "       [ 0.46599617, -1.69549482,  0.31817459,  0.09322915],\n",
       "       [-0.45071761,  1.03637663, -1.40792255, -1.32360858],\n",
       "       [-0.9090745 ,  1.49168853, -1.29656144, -1.06600172],\n",
       "       [-1.13825295,  0.12575281, -1.29656144, -1.45241201],\n",
       "       [ 0.46599617, -0.32955909,  0.98634122,  0.7372463 ],\n",
       "       [-0.10694994, -0.784871  ,  0.15113293, -0.29318114],\n",
       "       [ 2.07024529,  1.71934449,  1.5988273 ,  1.25246002],\n",
       "       [-1.48202061,  0.35340877, -1.35224199, -1.32360858]])"
      ]
     },
     "execution_count": 12,
     "metadata": {},
     "output_type": "execute_result"
    }
   ],
   "source": [
    "X_train_scaled"
   ]
  },
  {
   "cell_type": "code",
   "execution_count": 13,
   "id": "cb1deb14",
   "metadata": {},
   "outputs": [],
   "source": [
    "pca = PCA()\n",
    "X_train_pca = pca.fit_transform(X_train_scaled)\n",
    "X_test_pca = pca.transform(X_test_scaled)"
   ]
  },
  {
   "cell_type": "code",
   "execution_count": 14,
   "id": "fbb237ef",
   "metadata": {},
   "outputs": [
    {
     "data": {
      "text/plain": [
       "array([0.71806894, 0.24442204, 0.0333455 , 0.00416351])"
      ]
     },
     "execution_count": 14,
     "metadata": {},
     "output_type": "execute_result"
    }
   ],
   "source": [
    "pca.explained_variance_ratio_"
   ]
  },
  {
   "cell_type": "code",
   "execution_count": 16,
   "id": "ee2efea7",
   "metadata": {},
   "outputs": [],
   "source": [
    "import seaborn as sns"
   ]
  },
  {
   "cell_type": "code",
   "execution_count": 20,
   "id": "84106510",
   "metadata": {},
   "outputs": [
    {
     "data": {
      "text/plain": [
       "<Axes: >"
      ]
     },
     "execution_count": 20,
     "metadata": {},
     "output_type": "execute_result"
    },
    {
     "data": {
      "image/png": "[encoded data removed]",
      "text/plain": [
       "<Figure size 640x480 with 1 Axes>"
      ]
     },
     "metadata": {},
     "output_type": "display_data"
    }
   ],
   "source": [
    "sns.scatterplot(x = X_train_pca[:, 0], y = X_train_pca[:, 1], size = X_train_pca[:, 2],hue = Y_train)"
   ]
  },
  {
   "cell_type": "code",
   "execution_count": 18,
   "id": "5733829b",
   "metadata": {},
   "outputs": [],
   "source": [
    "def perform_pca(n):\n",
    "    pca = PCA(n_components=n)\n",
    "    pca_x_train = pca.fit_transform(X_train)\n",
    "    pca_x_test = pca.transform(X_test)\n",
    "    classifier = RandomForestClassifier(max_depth=2, random_state=0)\n",
    "    classifier.fit(pca_x_train, Y_train)\n",
    "    y_pred = classifier.predict(pca_x_test)\n",
    "    cm = confusion_matrix(Y_test, y_pred)\n",
    "    print(cm)\n",
    "    print(f'Accuracy {accuracy_score(Y_test, y_pred)}\\n\\n')"
   ]
  },
  {
   "cell_type": "code",
   "execution_count": 19,
   "id": "704b905e",
   "metadata": {},
   "outputs": [
    {
     "name": "stdout",
     "output_type": "stream",
     "text": [
      "[[16  0  0]\n",
      " [ 0 15  3]\n",
      " [ 0  1 10]]\n",
      "Accuracy 0.9111111111111111\n",
      "\n",
      "\n",
      "[[16  0  0]\n",
      " [ 0 15  3]\n",
      " [ 0  1 10]]\n",
      "Accuracy 0.9111111111111111\n",
      "\n",
      "\n",
      "[[16  0  0]\n",
      " [ 0  9  9]\n",
      " [ 0  1 10]]\n",
      "Accuracy 0.7777777777777778\n",
      "\n",
      "\n",
      "[[16  0  0]\n",
      " [ 0 15  3]\n",
      " [ 0  1 10]]\n",
      "Accuracy 0.9111111111111111\n",
      "\n",
      "\n"
     ]
    }
   ],
   "source": [
    "for x in range(1, 5): perform_pca(x)"
   ]
  },
  {
   "cell_type": "code",
   "execution_count": null,
   "id": "e64f2eb8",
   "metadata": {},
   "outputs": [],
   "source": []
  }
 ],
 "metadata": {
  "kernelspec": {
   "display_name": "Python 3 (ipykernel)",
   "language": "python",
   "name": "python3"
  },
  "language_info": {
   "codemirror_mode": {
    "name": "ipython",
    "version": 3
   },
   "file_extension": ".py",
   "mimetype": "text/x-python",
   "name": "python",
   "nbconvert_exporter": "python",
   "pygments_lexer": "ipython3",
   "version": "3.10.9"
  }
 },
 "nbformat": 4,
 "nbformat_minor": 5
}
