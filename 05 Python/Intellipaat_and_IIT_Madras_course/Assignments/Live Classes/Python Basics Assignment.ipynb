{
 "cells": [
  {
   "cell_type": "markdown",
   "id": "291b02a2",
   "metadata": {},
   "source": [
    "# Python Basics Assignment"
   ]
  },
  {
   "cell_type": "markdown",
   "id": "64254643",
   "metadata": {},
   "source": [
    "Q1. Using Python script as a calculator  \n",
    "Create the variables n, r, p and assign them values 10, 5, and 100 respectively. Then evaluate the following expression in the Python console.  \n",
    "𝐴 = 𝑝 (1 + 𝑟/ 100)^n  \n",
    "a. 100  \n",
    "b. 162.89  \n",
    "c. 189  \n",
    "d. None of the above"
   ]
  },
  {
   "cell_type": "code",
   "execution_count": 1,
   "id": "4e4fb04c",
   "metadata": {},
   "outputs": [
    {
     "name": "stdout",
     "output_type": "stream",
     "text": [
      "162.8894626777442\n"
     ]
    }
   ],
   "source": [
    "#Answer: b\n",
    "n = 10\n",
    "r = 5\n",
    "p = 100\n",
    "A = p * (1 + r / 100) ** n\n",
    "print(A)"
   ]
  },
  {
   "cell_type": "markdown",
   "id": "5a53e50d",
   "metadata": {},
   "source": [
    "Q2. In a given string format operation, how will you print the given string.  \n",
    "A = 10  \n",
    "B = 20  \n",
    "string = \"There are {} students in the class, with {} who play at least one sport.\"  \n",
    "a. print(string.format(A,B))  \n",
    "b. print(string+A+B)  \n",
    "c. print(string.format(B,A))  \n",
    "d. None of the above"
   ]
  },
  {
   "cell_type": "code",
   "execution_count": 4,
   "id": "02a688d8",
   "metadata": {},
   "outputs": [
    {
     "name": "stdout",
     "output_type": "stream",
     "text": [
      "There are 20 students in the class, with 10 who play at least one sport.\n"
     ]
    }
   ],
   "source": [
    "#Answer: c\n",
    "A = 10  \n",
    "B = 20 \n",
    "string = \"There are {} students in the class, with {} who play at least one sport.\"\n",
    "print(string.format(B, A))"
   ]
  },
  {
   "cell_type": "markdown",
   "id": "b81d74aa",
   "metadata": {},
   "source": [
    "Q3. In a given sample string, How do you print a double quoted string in between a regular string using the escape character?  \n",
    "Sample output = It goes without saying, “Time is Money”, and none can deny it.  \n",
    "a. print(“It goes without saying, \\“Time is Money\\”, and none can deny it.”)  \n",
    "b. print(“It goes without saying, \\Time is Money\\, and none can deny it.”)  \n",
    "c. print(“It goes without saying” + “Time is Money” + “and none can deny it.”)  \n",
    "d. None of the above."
   ]
  },
  {
   "cell_type": "code",
   "execution_count": 6,
   "id": "4626eb80",
   "metadata": {},
   "outputs": [
    {
     "name": "stdout",
     "output_type": "stream",
     "text": [
      "It goes without saying, \"Time is Money\", and none can deny it.\n"
     ]
    }
   ],
   "source": [
    "#Answer: a\n",
    "print(\"It goes without saying, \\\"Time is Money\\\", and none can deny it.\")  "
   ]
  },
  {
   "cell_type": "markdown",
   "id": "d809d0be",
   "metadata": {},
   "source": [
    "Q4. What will be the output of the following code?  \n",
    "x = lambda a,b: a//b  \n",
    "x(10,3)  \n",
    "a. 3.3333333333  \n",
    "b. 3  \n",
    "c. 30  \n",
    "d. 1000"
   ]
  },
  {
   "cell_type": "code",
   "execution_count": 7,
   "id": "9b8529a4",
   "metadata": {},
   "outputs": [
    {
     "data": {
      "text/plain": [
       "3"
      ]
     },
     "execution_count": 7,
     "metadata": {},
     "output_type": "execute_result"
    }
   ],
   "source": [
    "#Answer: b\n",
    "x = lambda a,b: a//b\n",
    "x(10,3)"
   ]
  },
  {
   "cell_type": "markdown",
   "id": "40ce3f06",
   "metadata": {},
   "source": [
    "Q5. What will be the output of the following code?  \n",
    "A = 10  \n",
    "B = 12  \n",
    "print(\"Smaller\") if A == B else print(\"Greater\") if A < B else print(\"True\")  \n",
    "a. True  \n",
    "b. Smaller  \n",
    "c. Greater  \n",
    "d. None of the above"
   ]
  },
  {
   "cell_type": "code",
   "execution_count": 8,
   "id": "b9192436",
   "metadata": {},
   "outputs": [
    {
     "name": "stdout",
     "output_type": "stream",
     "text": [
      "Greater\n"
     ]
    }
   ],
   "source": [
    "#Answer: c\n",
    "A = 10  \n",
    "B = 12\n",
    "print(\"Smaller\") if A == B else print(\"Greater\") if A < B else print(\"True\") "
   ]
  },
  {
   "cell_type": "markdown",
   "id": "e75fd566",
   "metadata": {},
   "source": [
    "Q6. What will be the output of the following code?"
   ]
  },
  {
   "attachments": {
    "image.png": {
     "image/png": "[encoded data removed]"
    }
   },
   "cell_type": "markdown",
   "id": "8127f993",
   "metadata": {},
   "source": [
    "![image.png](attachment:image.png)"
   ]
  },
  {
   "cell_type": "markdown",
   "id": "e3293b50",
   "metadata": {},
   "source": [
    "a. [2 , 7, 3, 5, 4, 6]  \n",
    "b. TypeError  \n",
    "c. NameError: name 'numpy' is not defined  \n",
    "d. None of the above"
   ]
  },
  {
   "cell_type": "code",
   "execution_count": 9,
   "id": "cbb07396",
   "metadata": {},
   "outputs": [
    {
     "name": "stdout",
     "output_type": "stream",
     "text": [
      "[2, 7, 3, 5, 4, 6]\n"
     ]
    },
    {
     "ename": "NameError",
     "evalue": "name 'numpy' is not defined",
     "output_type": "error",
     "traceback": [
      "\u001b[1;31m---------------------------------------------------------------------------\u001b[0m",
      "\u001b[1;31mNameError\u001b[0m                                 Traceback (most recent call last)",
      "Cell \u001b[1;32mIn[9], line 6\u001b[0m\n\u001b[0;32m      4\u001b[0m my_list1 \u001b[38;5;241m=\u001b[39m [\u001b[38;5;241m2\u001b[39m, \u001b[38;5;241m7\u001b[39m, \u001b[38;5;241m3\u001b[39m, \u001b[38;5;241m5\u001b[39m, \u001b[38;5;241m4\u001b[39m, \u001b[38;5;241m6\u001b[39m]\n\u001b[0;32m      5\u001b[0m \u001b[38;5;28mprint\u001b[39m(my_list1)\n\u001b[1;32m----> 6\u001b[0m arr_1 \u001b[38;5;241m=\u001b[39m \u001b[43mnumpy\u001b[49m\u001b[38;5;241m.\u001b[39marray(my_list1, dtype \u001b[38;5;241m=\u001b[39m \u001b[38;5;28mint\u001b[39m)\n\u001b[0;32m      7\u001b[0m \u001b[38;5;28mprint\u001b[39m(arr_1)\n",
      "\u001b[1;31mNameError\u001b[0m: name 'numpy' is not defined"
     ]
    }
   ],
   "source": [
    "#Answer: c\n",
    "import os\n",
    "import numpy as np\n",
    "my_list1 = [2, 7, 3, 5, 4, 6]\n",
    "print(my_list1)\n",
    "arr_1 = numpy.array(my_list1, dtype = int)\n",
    "print(arr_1)"
   ]
  },
  {
   "cell_type": "markdown",
   "id": "669685d9",
   "metadata": {},
   "source": [
    "Q7. Create a string called ‘string’ with the value as “Machine Learning”. Which code(s) is/are appropriate to slice the substring “Learn”?  \n",
    "a. string[slice(13,8,1)]  \n",
    "b. string[slice(1,8,1)]  \n",
    "c. string[8:14]  \n",
    "d. string[slice(8,13,1)]  "
   ]
  },
  {
   "cell_type": "code",
   "execution_count": 10,
   "id": "92ba7143",
   "metadata": {},
   "outputs": [
    {
     "data": {
      "text/plain": [
       "'Learn'"
      ]
     },
     "execution_count": 10,
     "metadata": {},
     "output_type": "execute_result"
    }
   ],
   "source": [
    "#Answer: d\n",
    "string = 'Machine Learning'\n",
    "string[slice(8, 13, 1)]"
   ]
  },
  {
   "cell_type": "markdown",
   "id": "d2900cbc",
   "metadata": {},
   "source": [
    "Q8. Create a sequence of numbers from 10 to 25 and increment by 4. What is the index of the value 18?  \n",
    "a. 3  \n",
    "b. 2  \n",
    "c. 0  \n",
    "d. 1"
   ]
  },
  {
   "cell_type": "code",
   "execution_count": 11,
   "id": "e38f1bbd",
   "metadata": {},
   "outputs": [
    {
     "name": "stdout",
     "output_type": "stream",
     "text": [
      "2\n"
     ]
    }
   ],
   "source": [
    "#Answer: b\n",
    "lst = list(range(10, 26, 4))\n",
    "print(lst.index(18))"
   ]
  },
  {
   "cell_type": "markdown",
   "id": "6c923b74",
   "metadata": {},
   "source": [
    "Q9. Which of the following is true with respect to the below codes?"
   ]
  },
  {
   "attachments": {
    "image.png": {
     "image/png": "[encoded data removed]"
    }
   },
   "cell_type": "markdown",
   "id": "ccb3625a",
   "metadata": {},
   "source": [
    "![image.png](attachment:image.png)"
   ]
  },
  {
   "cell_type": "markdown",
   "id": "667d8254",
   "metadata": {},
   "source": [
    "a. num1 = num2  \n",
    "b. num1 ≠ num2  \n",
    "c. num1 < num2  \n",
    "d. num1 > num2"
   ]
  },
  {
   "cell_type": "code",
   "execution_count": 12,
   "id": "8a7f894e",
   "metadata": {},
   "outputs": [
    {
     "name": "stdout",
     "output_type": "stream",
     "text": [
      "True\n"
     ]
    }
   ],
   "source": [
    "#Answer: a\n",
    "num1 = 5**4\n",
    "num2 = pow(5, 4)\n",
    "print(num1 == num2)"
   ]
  },
  {
   "cell_type": "markdown",
   "id": "739cbfa9",
   "metadata": {},
   "source": [
    "Q10.A Python NameError exception is raised when:-  \n",
    "a. Trying to access a variable which has not been defined  \n",
    "b. Trying to access a key in a dictionary that does not exist  \n",
    "c. Accessing a column with misspelled column name  \n",
    "d. Accessing the function from a module that has not been imported"
   ]
  },
  {
   "cell_type": "code",
   "execution_count": 14,
   "id": "f7a42283",
   "metadata": {},
   "outputs": [],
   "source": [
    "#Answer: a, d "
   ]
  },
  {
   "cell_type": "markdown",
   "id": "e70b0e59",
   "metadata": {},
   "source": [
    "Q11.What type of exception will be raised for the code given below?"
   ]
  },
  {
   "attachments": {
    "image.png": {
     "image/png": "[encoded data removed]"
    }
   },
   "cell_type": "markdown",
   "id": "aa326802",
   "metadata": {},
   "source": [
    "![image.png](attachment:image.png)"
   ]
  },
  {
   "cell_type": "markdown",
   "id": "58f480f2",
   "metadata": {},
   "source": [
    "a. NameError  \n",
    "b. KeyError  \n",
    "c. ValueError  \n",
    "d. AttributeError"
   ]
  },
  {
   "cell_type": "code",
   "execution_count": 17,
   "id": "506ccba2",
   "metadata": {},
   "outputs": [],
   "source": [
    "#Answer: c"
   ]
  },
  {
   "cell_type": "markdown",
   "id": "66188a61",
   "metadata": {},
   "source": [
    "Q12.A FileNotFoundError exception is raised by operating system errors when: -  \n",
    "a. Trying to create a file or directory which already exists  \n",
    "b. A file or directory is requested but does not exist in the working directory  \n",
    "c. Trying to run an operation without the adequate access rights  \n",
    "d. A directory operation, os.listdir() is requested on something which is not a directory"
   ]
  },
  {
   "cell_type": "code",
   "execution_count": 18,
   "id": "bce49b9d",
   "metadata": {},
   "outputs": [],
   "source": [
    "#Answer: b, d"
   ]
  },
  {
   "cell_type": "markdown",
   "id": "a385f20d",
   "metadata": {},
   "source": [
    "Q13.Consider a variable Z. The value of Z is \"ID-5632\". Data type of Z is:-  \n",
    "a. Complex  \n",
    "b. Character  \n",
    "c. Integer  \n",
    "d. Boolean"
   ]
  },
  {
   "cell_type": "code",
   "execution_count": 22,
   "id": "5911ece2",
   "metadata": {},
   "outputs": [],
   "source": [
    "#Answer: b(it should actually be string)"
   ]
  },
  {
   "cell_type": "markdown",
   "id": "943e423c",
   "metadata": {},
   "source": [
    "Q14.Which of the following variable(s) are character data type?  \n",
    "a. K= “4”  \n",
    "b. J= “Welcome”  \n",
    "c. L= “?”  \n",
    "d. All of the above"
   ]
  },
  {
   "cell_type": "code",
   "execution_count": 23,
   "id": "9ddff6bb",
   "metadata": {},
   "outputs": [],
   "source": [
    "#Answer: d(actually they are of string data type)"
   ]
  },
  {
   "cell_type": "markdown",
   "id": "d459b380",
   "metadata": {},
   "source": [
    "Q15.Choose the symbol/s that does not have the ability to convert any values to string?  \n",
    "a. ( )  \n",
    "b. “ ”  \n",
    "c. {}  \n",
    "d. #"
   ]
  },
  {
   "cell_type": "code",
   "execution_count": 24,
   "id": "b0c152ab",
   "metadata": {},
   "outputs": [],
   "source": [
    "#Answer: a, c, d"
   ]
  },
  {
   "cell_type": "markdown",
   "id": "dd6d0f10",
   "metadata": {},
   "source": [
    "Q16.Create a dictionary ‘Country’ that maps the following countries to their capitalsrespectively:"
   ]
  },
  {
   "attachments": {
    "image.png": {
     "image/png": "[encoded data removed]"
    }
   },
   "cell_type": "markdown",
   "id": "0b206baf",
   "metadata": {},
   "source": [
    "![image.png](attachment:image.png)"
   ]
  },
  {
   "cell_type": "markdown",
   "id": "38896c71",
   "metadata": {},
   "source": [
    "Find 2 commands to replace “Marseilles” with “Paris”."
   ]
  },
  {
   "cell_type": "code",
   "execution_count": 26,
   "id": "b4362c8e",
   "metadata": {},
   "outputs": [],
   "source": [
    "#command 1\n",
    "d = {'India': 'Delhi', 'China': 'Beijing', 'Japan': 'Tokyo', 'Qatar': 'Doha', 'France': 'Marseilles'}\n",
    "d['France'] = 'Paris'"
   ]
  },
  {
   "cell_type": "code",
   "execution_count": 28,
   "id": "0a0b7159",
   "metadata": {},
   "outputs": [
    {
     "data": {
      "text/plain": [
       "{'India': 'Delhi',\n",
       " 'China': 'Beijing',\n",
       " 'Japan': 'Tokyo',\n",
       " 'Qatar': 'Doha',\n",
       " 'France': 'Paris'}"
      ]
     },
     "execution_count": 28,
     "metadata": {},
     "output_type": "execute_result"
    }
   ],
   "source": [
    "#command 2\n",
    "d = {'India': 'Delhi', 'China': 'Beijing', 'Japan': 'Tokyo', 'Qatar': 'Doha', 'France': 'Marseilles'}\n",
    "e = {'France':'Paris'}\n",
    "d.update(e)\n",
    "d"
   ]
  },
  {
   "cell_type": "markdown",
   "id": "f981b695",
   "metadata": {},
   "source": [
    "Q17. Create the tuples given below  \n",
    "tuple_1 = (1,5,6,7,8)  \n",
    "tuple_2 = (8,9,4)  \n",
    "Identify which of the following code does not work on a tuple.  \n",
    "a. sum(tuple_1)  \n",
    "b. len(tuple_2)  \n",
    "c. tuple_2 + tuple_1  \n",
    "d. tuple_1[3] = 45  "
   ]
  },
  {
   "cell_type": "code",
   "execution_count": 29,
   "id": "73822fcc",
   "metadata": {},
   "outputs": [],
   "source": [
    "#Answer: d"
   ]
  },
  {
   "cell_type": "markdown",
   "id": "32493c07",
   "metadata": {},
   "source": [
    "Q18. How many elements in the following data structure?"
   ]
  },
  {
   "attachments": {
    "image.png": {
     "image/png": "[encoded data removed]"
    }
   },
   "cell_type": "markdown",
   "id": "98e68712",
   "metadata": {},
   "source": [
    "![image.png](attachment:image.png)"
   ]
  },
  {
   "cell_type": "code",
   "execution_count": 30,
   "id": "e0e69f21",
   "metadata": {},
   "outputs": [],
   "source": [
    "#Answer: 6"
   ]
  },
  {
   "cell_type": "markdown",
   "id": "14ce2d92",
   "metadata": {},
   "source": [
    "Q19.Write a function which finds all pythagorean triplets of triangles whose sides are no\n",
    "greater than a natural number N."
   ]
  },
  {
   "cell_type": "code",
   "execution_count": 36,
   "id": "fbbb9db4",
   "metadata": {},
   "outputs": [],
   "source": [
    "def pythogorean_triplet(N):\n",
    "    for i in range(1, N + 1):\n",
    "        for j in range(i, N + 1):\n",
    "            for k in range(j, N + 1):\n",
    "                if i + j > k and j + k > i and k + i > j:\n",
    "                    print(i, j, k)"
   ]
  },
  {
   "cell_type": "code",
   "execution_count": 37,
   "id": "11f0de2a",
   "metadata": {},
   "outputs": [
    {
     "name": "stdout",
     "output_type": "stream",
     "text": [
      "1 1 1\n",
      "1 2 2\n",
      "1 3 3\n",
      "1 4 4\n",
      "1 5 5\n",
      "2 2 2\n",
      "2 2 3\n",
      "2 3 3\n",
      "2 3 4\n",
      "2 4 4\n",
      "2 4 5\n",
      "2 5 5\n",
      "3 3 3\n",
      "3 3 4\n",
      "3 3 5\n",
      "3 4 4\n",
      "3 4 5\n",
      "3 5 5\n",
      "4 4 4\n",
      "4 4 5\n",
      "4 5 5\n",
      "5 5 5\n"
     ]
    }
   ],
   "source": [
    "pythogorean_triplet(5)"
   ]
  }
 ],
 "metadata": {
  "kernelspec": {
   "display_name": "Python 3 (ipykernel)",
   "language": "python",
   "name": "python3"
  },
  "language_info": {
   "codemirror_mode": {
    "name": "ipython",
    "version": 3
   },
   "file_extension": ".py",
   "mimetype": "text/x-python",
   "name": "python",
   "nbconvert_exporter": "python",
   "pygments_lexer": "ipython3",
   "version": "3.10.9"
  }
 },
 "nbformat": 4,
 "nbformat_minor": 5
}
