{
 "cells": [
  {
   "cell_type": "markdown",
   "id": "c218a89a",
   "metadata": {},
   "source": [
    "# Python OOPs Assignment"
   ]
  },
  {
   "cell_type": "markdown",
   "id": "ad3b1f8c",
   "metadata": {},
   "source": [
    "Q1. Write a Python program to demonstrate multiple inheritance.\n",
    "1. Employee class has 3 data members EmployeeID, Gender (String), Salary and PerformanceRating(Out of 5) of type int. It has a get() function to get these details from the user.\n",
    "2. JoiningDetail class has a data member DateOfJoining of type Date and a function getDoJ to get the Date of joining of employees.\n",
    "3. Information Class uses the marks from Employee class and the DateOfJoining date from the JoiningDetail class to calculate the top 3 Employees based on their Ratings and then Display, using readData, all the details on these employees in Ascending order of their Date Of Joining."
   ]
  },
  {
   "cell_type": "code",
   "execution_count": 10,
   "id": "6736c8eb",
   "metadata": {},
   "outputs": [],
   "source": [
    "from datetime import date\n",
    "\n",
    "def get_int_input(var_name, min_val, max_val = None):\n",
    "    while True:\n",
    "        try:\n",
    "            user_input = input(f\"Enter the value for {var_name}: \")\n",
    "            assert not(user_input == '' or user_input.isspace() == True), f'Error: The input can\\'t be empty. Please enter {var_name} again.'\n",
    "            user_input = int(user_input)\n",
    "            if max_val == None:\n",
    "                assert user_input >= min_val, f'Error: The value for {var_name} should be greater than or equal to {min_val}. Please enter {var_name} again.'\n",
    "            else:\n",
    "                assert  min_val <= user_input <= max_val, f'Error: The value for {var_name} should be in range [{min_val}, {max_val}](both ends included). Please enter {var_name} again.'\n",
    "        except ValueError as e:\n",
    "            print(f'Error: Invalid input type for {var_name}. It should be of type integer. Please enter {var_name} again.')\n",
    "        except AssertionError as e:\n",
    "            print(e)\n",
    "        else:\n",
    "            return user_input\n",
    "\n",
    "def get_str_input(var_name, set_of_val):\n",
    "    while True:\n",
    "        try:\n",
    "            user_input = input(f\"Enter the value for {var_name} from following list {set_of_val}: \")\n",
    "            assert user_input in set_of_val\n",
    "        except AssertionError:\n",
    "            print(f'Error: The value for {var_name} should be a value from following set {set_of_val}. Please enter {var_name} again.')\n",
    "        else:\n",
    "            return user_input\n",
    "            \n",
    "class Employee():\n",
    "    def get(self):              \n",
    "        self.EmployeeID = get_int_input('EmployeeID', 1)\n",
    "        self.Gender = get_str_input('Gender', ('M', 'F'))\n",
    "        self.Salary = get_int_input('Salary', 0)\n",
    "        self.PerformanceRating = get_int_input('PerformanceRating', 1, 5)\n",
    "        \n",
    "class JoiningDetail():\n",
    "    def getDoJ(self):\n",
    "        print('Enter the values related to date of joining:')\n",
    "        year = get_int_input('year of joining', 1, 9999)\n",
    "        month = get_int_input('month of joining', 1, 12)\n",
    "        while True:\n",
    "            try:\n",
    "                date_of_month = get_int_input('date of joining', 1)\n",
    "                self.DateOfJoining = date(year, month, date_of_month)\n",
    "            except ValueError as e:\n",
    "                print(f'Error: The given date is invalid for the given month({month}) and year({year}). Please enter date again.')\n",
    "            else:\n",
    "                break\n",
    "                \n",
    "class Information(Employee, JoiningDetail):\n",
    "    def __init__(self):\n",
    "        self.employee_list = []\n",
    "        \n",
    "    def clear_emp_details(self):\n",
    "        del self.EmployeeID\n",
    "        del self.Gender\n",
    "        del self.Salary \n",
    "        del self.PerformanceRating\n",
    "        del self.DateOfJoining\n",
    "        \n",
    "    def add_employees(self):\n",
    "        while True:\n",
    "            try:\n",
    "                user_input = input(\"Do you want to add employee information(Y for yes and N for no):\")\n",
    "                assert user_input in ('Y', 'N'), 'Error: Invalid input. Please try again.'\n",
    "            except AssertionError as e:\n",
    "                print(e)\n",
    "            else:\n",
    "                if user_input == 'Y':\n",
    "                    self.get()\n",
    "                    self.getDoJ()\n",
    "                    self.employee_list.append((self.EmployeeID, self.Gender, self.Salary, self.PerformanceRating, self.DateOfJoining))\n",
    "                else:\n",
    "                    self.clear_emp_details()\n",
    "                    break\n",
    "        \n",
    "    def readData(self):\n",
    "        #assuming if there are a lot of people(more than 3) with same rating in top then the top 3 will be taken based on ascending order of dates\n",
    "        #that is sort order is (rating: descending, date: ascending) to choose top 3\n",
    "        if len(self.employee_list) == 0:\n",
    "            print('No employee data found to read.')\n",
    "        else:\n",
    "            rating = 5\n",
    "            rating_date_list = []\n",
    "            while rating > 0 and len(rating_date_list) < 3:\n",
    "                rating_date_list.extend(sorted([emp for emp in self.employee_list if emp[-2] == rating], key = lambda x:x[-1]))\n",
    "                rating -= 1\n",
    "            top_3_sort = sorted(rating_date_list[:3], key = lambda x:x[-1])#dispaying top 3 based on ascending order of date alone\n",
    "            for index, emp in enumerate(top_3_sort):\n",
    "                print(f'Employee {index + 1}:')\n",
    "                print(f'Employee ID : {emp[0]}')\n",
    "                print(f'Gender : {emp[1]}')\n",
    "                print(f'Salary : {emp[2]}')\n",
    "                print(f'Performance Rating : {emp[3]}')\n",
    "                print(f'Date Of Joining : {emp[4]}')"
   ]
  },
  {
   "cell_type": "code",
   "execution_count": 11,
   "id": "0ea1dfac",
   "metadata": {},
   "outputs": [],
   "source": [
    "emp_lst = Information()"
   ]
  },
  {
   "cell_type": "code",
   "execution_count": 13,
   "id": "0a2a99ea",
   "metadata": {},
   "outputs": [
    {
     "name": "stdout",
     "output_type": "stream",
     "text": [
      "Do you want to add employee information(Y for yes and N for no):Y\n",
      "Enter the value for EmployeeID: 1\n",
      "Enter the value for Gender from following list ('M', 'F'): M\n",
      "Enter the value for Salary: 12000\n",
      "Enter the value for PerformanceRating: 5\n",
      "Enter the values related to date of joining:\n",
      "Enter the value for year of joining: 2022\n",
      "Enter the value for month of joining: 05\n",
      "Enter the value for date of joining: 31\n",
      "Do you want to add employee information(Y for yes and N for no):Y\n",
      "Enter the value for EmployeeID: 2\n",
      "Enter the value for Gender from following list ('M', 'F'): F\n",
      "Enter the value for Salary: 20000\n",
      "Enter the value for PerformanceRating: 5\n",
      "Enter the values related to date of joining:\n",
      "Enter the value for year of joining: 2023\n",
      "Enter the value for month of joining: 010=\n",
      "Error: Invalid input type for month of joining. It should be of type integer. Please enter month of joining again.\n",
      "Enter the value for month of joining: 01\n",
      "Enter the value for date of joining: 01\n",
      "Do you want to add employee information(Y for yes and N for no):Y\n",
      "Enter the value for EmployeeID: 3\n",
      "Enter the value for Gender from following list ('M', 'F'): M\n",
      "Enter the value for Salary: 9000\n",
      "Enter the value for PerformanceRating: 4\n",
      "Enter the values related to date of joining:\n",
      "Enter the value for year of joining: 2020\n",
      "Enter the value for month of joining: 12\n",
      "Enter the value for date of joining: 01\n",
      "Do you want to add employee information(Y for yes and N for no):Y\n",
      "Enter the value for EmployeeID: 4\n",
      "Enter the value for Gender from following list ('M', 'F'): F\n",
      "Enter the value for Salary: 8000\n",
      "Enter the value for PerformanceRating: 4\n",
      "Enter the values related to date of joining:\n",
      "Enter the value for year of joining: 2023\n",
      "Enter the value for month of joining: 04\n",
      "Enter the value for date of joining: 12\n",
      "Do you want to add employee information(Y for yes and N for no):N\n"
     ]
    }
   ],
   "source": [
    "emp_lst.add_employees()"
   ]
  },
  {
   "cell_type": "code",
   "execution_count": 14,
   "id": "df367429",
   "metadata": {},
   "outputs": [
    {
     "name": "stdout",
     "output_type": "stream",
     "text": [
      "Employee 1:\n",
      "Employee ID : 3\n",
      "Gender : M\n",
      "Salary : 9000\n",
      "Performance Rating : 4\n",
      "Date Of Joining : 2020-12-01\n",
      "Employee 2:\n",
      "Employee ID : 1\n",
      "Gender : M\n",
      "Salary : 12000\n",
      "Performance Rating : 5\n",
      "Date Of Joining : 2022-05-31\n",
      "Employee 3:\n",
      "Employee ID : 2\n",
      "Gender : F\n",
      "Salary : 20000\n",
      "Performance Rating : 5\n",
      "Date Of Joining : 2023-01-01\n"
     ]
    }
   ],
   "source": [
    "emp_lst.readData()"
   ]
  },
  {
   "cell_type": "markdown",
   "id": "6bda2e2f",
   "metadata": {},
   "source": [
    "Q.2 Write a Python program to demonstrate Polymorphism.\n",
    "1. Class Vehicle with a parameterized function Fare, that takes input value as fare and\n",
    "returns it to calling Objects.\n",
    "2. Create five separate variables Bus, Car, Train, Truck and Ship that call the Fare\n",
    "function.\n",
    "3. Use a third variable TotalFare to store the sum of fare for each Vehicle Type.\n",
    "4. Print the TotalFare."
   ]
  },
  {
   "cell_type": "code",
   "execution_count": 5,
   "id": "572f6601",
   "metadata": {},
   "outputs": [
    {
     "name": "stdout",
     "output_type": "stream",
     "text": [
      "150\n"
     ]
    }
   ],
   "source": [
    "class Vehicle():\n",
    "    def Fare(self, fare):\n",
    "        return fare\n",
    "    \n",
    "class Bus(Vehicle):\n",
    "    pass\n",
    "\n",
    "class Car(Vehicle):\n",
    "    pass\n",
    "\n",
    "class Train(Vehicle):\n",
    "    pass\n",
    "\n",
    "class Truck(Vehicle):\n",
    "    pass\n",
    "\n",
    "class Ship(Vehicle):\n",
    "    pass\n",
    "        \n",
    "Bus_Var = Bus()\n",
    "Car_Var = Car()\n",
    "Train_Var = Train()\n",
    "Truck_Var = Truck()\n",
    "Ship_Var = Ship()\n",
    "#different objects of different types using same method to show polymorphism\n",
    "TotalFare = Bus_Var.Fare(10) + Car_Var.Fare(20) + Train_Var.Fare(30) + Truck_Var.Fare(40) + Ship_Var.Fare(50) \n",
    "\n",
    "print(TotalFare)"
   ]
  },
  {
   "cell_type": "markdown",
   "id": "10502b02",
   "metadata": {},
   "source": [
    "Q3. Consider an ongoing test cricket series. Following are the names of the players and their scores in the test1 and 2.  \n",
    "Test Match 1 :  \n",
    "Dhoni : 56 , Balaji : 94  \n",
    "Test Match 2 :  \n",
    "Balaji : 80 , Dravid : 105  \n",
    "Calculate the highest number of runs scored by an individual cricketer in both of the matches. Create a python function Max_Score (M) that reads a dictionary M that recognizes the player with the highest total score. This function will return ( Top player , Total Score ) . You can consider the Top player as String who is the highest scorer and Top score as Integer.  \n",
    "Input : Max_Score({‘test1’:{‘Dhoni’:56, ‘Balaji : 85}, ‘test2’:{‘Dhoni’ 87, ‘Balaji’’:200}})  \n",
    "Output : (‘Balaji ‘ , 200)"
   ]
  },
  {
   "cell_type": "code",
   "execution_count": 6,
   "id": "460457ea",
   "metadata": {},
   "outputs": [],
   "source": [
    "def Max_Score(test_dict):\n",
    "    max_score = -1\n",
    "    for test in test_dict:\n",
    "        test_max_name = max(test_dict[test], key = lambda x:test_dict[test][x])\n",
    "        test_max_score = test_dict[test][test_max_name]\n",
    "        if max_score < test_max_score:\n",
    "            max_score = test_max_score\n",
    "            max_name = test_max_name\n",
    "    return (max_name, max_score)"
   ]
  },
  {
   "cell_type": "code",
   "execution_count": 7,
   "id": "b48d2bae",
   "metadata": {},
   "outputs": [
    {
     "data": {
      "text/plain": [
       "('Balaji', 200)"
      ]
     },
     "execution_count": 7,
     "metadata": {},
     "output_type": "execute_result"
    }
   ],
   "source": [
    "Max_Score({'test1': {'Dhoni': 56, 'Balaji' : 85}, 'test2': {'Dhoni': 87, 'Balaji': 200}})"
   ]
  },
  {
   "cell_type": "markdown",
   "id": "0a793655",
   "metadata": {},
   "source": [
    "Q4. Create a simple Card game in which there are 8 cards which are randomly chosen from a deck. The first card is shown face up. The game asks the player to predict whether the next card\n",
    "in the selection will have a higher or lower value than the currently showing card.  \n",
    "For example, say the card that’s shown is a 3. The player chooses “higher,” and the next card is\n",
    "shown. If that card has a higher value, the player is correct. In this example, if the player had chosen “lower,” they would have been incorrect. If the player guesses correctly, they get 20\n",
    "points. If they choose incorrectly, they lose 15 points. If the next card to be turned over has the same value as the previous card, the player is incorrect."
   ]
  },
  {
   "cell_type": "code",
   "execution_count": 8,
   "id": "ba71a758",
   "metadata": {},
   "outputs": [],
   "source": [
    "import numpy as np\n",
    "from IPython.display import clear_output # to clear console output\n",
    "from time import sleep"
   ]
  },
  {
   "cell_type": "code",
   "execution_count": 11,
   "id": "37d95dad",
   "metadata": {},
   "outputs": [],
   "source": [
    "#Assuming the game is supposed to go till the end and total points are to be calculated\n",
    "def card_game():\n",
    "    card_dict = {1: 'A', 2: 2, 3: 3, 4: 4, 5: 5, 6:6, 7:7, 8:8, 9:9, 10:10, 11: 'Jack', 12: 'Queen', 13: 'King'}\n",
    "    cards_array = np.array(list(card_dict)*4)\n",
    "    chosen_cards = np.random.choice(cards_array, (8,), replace = False).tolist()\n",
    "    print(f\"The deck consists of following 13 cards:\\n{list(card_dict.values())} with four different suites of each card.\\n\\\n",
    "We will draw 8 random cards from the deck in order and show you the first card by flipping it over so that its face up.\\n\\\n",
    "You will have to tell your guess about the subsequent card in order of the draw, stating whether it will be a higher card or\\n\\\n",
    "lower compared to the last card turned over to face up.\\n\\\n",
    "Points system:\\n\\\n",
    "1. If your guess is correct for the subsequent card, you get 20 points added to your total tally.\\n\\\n",
    "2. If your guess is incorrect for the subsequent card, 15 points are reduced from your total tally.\\n\\\n",
    "3. If the subsequent card is found to be the same card as the current card in terms of its number, it is treated as incorrect response and thus, you \\n\\\n",
    "lose 15 points.\\n\\\n",
    "The game goes on until we have flipped all 8 randomly drawn cards and the total tally of points is reported.\")\n",
    "    while True:\n",
    "        try:\n",
    "            temp = input('Shall we start the game(Y for yes and N for no):')\n",
    "            assert temp in ('Y', 'N'), 'Error: Invalid input. Please enter again.'\n",
    "        except AssertionError as e:\n",
    "            print(e)\n",
    "        else:\n",
    "            if temp == 'N':\n",
    "                clear_output(wait = False)\n",
    "                print('User aborted. Quitting the game.')\n",
    "                return\n",
    "            else:\n",
    "                clear_output(wait = False)\n",
    "                print('Good to hear. Let\\'s play the game')\n",
    "                sleep(5)\n",
    "                break\n",
    "    total_points = 0\n",
    "    prediction_dict = {'higher':'>', 'lower':'<'}\n",
    "    flipped_over_cards = [card_dict[chosen_cards[0]]]\n",
    "    while len(chosen_cards) != 1:\n",
    "        clear_output(wait = False)\n",
    "        while True:\n",
    "            try:\n",
    "                if len(chosen_cards) == 8:\n",
    "                    print(f'The first drawn card is: {card_dict[chosen_cards[0]]}')\n",
    "                else:\n",
    "                    print(f'The drawn cards flipped till now are: {flipped_over_cards}')\n",
    "                user_choice = input('State your prediction for the next card(higher or lower): ')\n",
    "                user_choice = user_choice.casefold().replace(' ', '')\n",
    "                assert user_choice in ('higher', 'lower'), 'Error: Invalid input. Please enter again.'\n",
    "            except Exception as e:\n",
    "                print(e)\n",
    "                clear_output(wait = False)\n",
    "            else:\n",
    "                break\n",
    "        response = eval(f'chosen_cards[1] {prediction_dict[user_choice]} chosen_cards[0]')\n",
    "        if response == True:\n",
    "            total_points += 20\n",
    "            print(f'Next card drawn is {card_dict[chosen_cards[1]]}, which is {user_choice} than {card_dict[chosen_cards[0]]}.\\n\\\n",
    "Hurray! you are correct.\\n\\\n",
    "20 points added to your points tally.\\n\\\n",
    "Updated points tally = {total_points}')\n",
    "        else:\n",
    "            total_points -= 15\n",
    "            print(f'Next card drawn is {card_dict[chosen_cards[1]]}, which is not {user_choice} than {card_dict[chosen_cards[0]]}.\\n\\\n",
    "Sorry to say, you are incorrect.\\n\\\n",
    "15 points deducted from your points tally.\\n\\\n",
    "Updated points tally = {total_points}')\n",
    "        flipped_over_cards.append(card_dict[chosen_cards[1]])\n",
    "        chosen_cards.pop(0)\n",
    "        sleep(5)\n",
    "        \n",
    "    else:\n",
    "        clear_output(wait = False)\n",
    "        print(f'The total tally of points at the end of the game is : {total_points}')"
   ]
  },
  {
   "cell_type": "code",
   "execution_count": 10,
   "id": "6bf18ab2",
   "metadata": {},
   "outputs": [
    {
     "name": "stdout",
     "output_type": "stream",
     "text": [
      "The total tally of points at the end of the game is : 70\n"
     ]
    }
   ],
   "source": [
    "card_game()"
   ]
  },
  {
   "cell_type": "markdown",
   "id": "9351007a",
   "metadata": {},
   "source": [
    "Q5. Create an empty dictionary called car_0 . Then fill the dictionary with Keys : color, speed, x_position and y_position.  \n",
    "car_0 = {'x_position': 10, 'y_position': 72, 'speed': 'medium', 'color': 'green'}.  \n",
    "a) If the speed is slow the coordinates of the x_pos get incremented by 2.  \n",
    "b) If the speed is medium the coordinates of the x_pos gets incremented by 9.  \n",
    "c) Now if the speed is fast the coordinates of the x_pos gets incremented by 22.  \n",
    "Print the modified dictionary."
   ]
  },
  {
   "cell_type": "code",
   "execution_count": 12,
   "id": "8ab800e6",
   "metadata": {},
   "outputs": [
    {
     "name": "stdout",
     "output_type": "stream",
     "text": [
      "Modified dictionary:  {'x_position': 19, 'y_position': 72, 'speed': 'medium', 'color': 'green'}\n"
     ]
    }
   ],
   "source": [
    "car_0 = {}\n",
    "\n",
    "car_0['x_position'] = 10\n",
    "car_0['y_position'] = 72\n",
    "car_0['speed'] = 'medium'\n",
    "car_0['color'] = 'green'\n",
    "\n",
    "def modify_car(car):\n",
    "    if car['speed'] == 'slow':\n",
    "        car['x_position'] += 2\n",
    "    elif car['speed'] == 'medium':\n",
    "        car['x_position'] += 9\n",
    "    elif car['speed'] == 'fast':\n",
    "        car['x_position'] += 22\n",
    "    else:\n",
    "        print('Invalid speed. No modification done.')\n",
    "        return\n",
    "    print('Modified dictionary: ', car)\n",
    "    \n",
    "modify_car(car_0)"
   ]
  },
  {
   "cell_type": "markdown",
   "id": "d3b89296",
   "metadata": {},
   "source": [
    "Q6. Show a basic implementation of abstraction in python using the abstract classes.  \n",
    "1. Create an abstract class in python.  \n",
    "2. Implement abstraction with the other classes and base class as abstract class."
   ]
  },
  {
   "cell_type": "code",
   "execution_count": 18,
   "id": "2821b93c",
   "metadata": {},
   "outputs": [
    {
     "name": "stdout",
     "output_type": "stream",
     "text": [
      "Triangles have 3 sides\n",
      "Squares have 4 sides\n"
     ]
    }
   ],
   "source": [
    "from abc import ABC  \n",
    "  \n",
    "class Polygon(ABC):#abstract class\n",
    "    \n",
    "    def sides(self):#as method definition is empty, it automatically becomes abstract method\n",
    "        pass  \n",
    "\n",
    "    \n",
    "class Triangle(Polygon):\n",
    "    \n",
    "    def sides(self):#needs to be necessarily defined as its an abstract method\n",
    "        print(\"Triangles have 3 sides\")  \n",
    "        \n",
    "class square(Polygon):   \n",
    "  \n",
    "   def sides(self):#needs to be necessarily defined as its an abstract method   \n",
    "        print(\"Squares have 4 sides\")   \n",
    "        \n",
    "t = Triangle()   \n",
    "t.sides()   \n",
    "  \n",
    "s = square()   \n",
    "s.sides()   "
   ]
  },
  {
   "cell_type": "markdown",
   "id": "64b5a419",
   "metadata": {},
   "source": [
    "Q7. Create a program in python to demonstrate Polymorphism.  \n",
    "1. Make use of private and protected members using python name mangling techniques."
   ]
  },
  {
   "cell_type": "code",
   "execution_count": 17,
   "id": "0324bc76",
   "metadata": {},
   "outputs": [
    {
     "name": "stdout",
     "output_type": "stream",
     "text": [
      "Buddy says Woof!\n",
      "\n",
      "Whiskers says Meow!\n",
      "\n"
     ]
    }
   ],
   "source": [
    "class Animal:\n",
    "    def __init__(self, name):\n",
    "        self._name = name #protected variable\n",
    "        self.__species = \"Unknown\" #private variable\n",
    "        \n",
    "    def speak(self):\n",
    "        pass\n",
    "    \n",
    "    def get_name(self):\n",
    "        return self._name\n",
    "\n",
    "class Dog(Animal):\n",
    "    def __init__(self, name):\n",
    "        super().__init__(name)\n",
    "        self.__species = \"Dog\"\n",
    "\n",
    "    def speak(self):\n",
    "        return \"Woof!\"\n",
    "\n",
    "class Cat(Animal):\n",
    "    def __init__(self, name):\n",
    "        super().__init__(name)\n",
    "        self.__species = \"Cat\"\n",
    "\n",
    "    def speak(self):\n",
    "        return \"Meow!\"\n",
    "\n",
    "def animal_speak(animal): #function showing use of polymorphism\n",
    "    print(f\"{animal.get_name()} says {animal.speak()}\\n\")\n",
    "\n",
    "dog = Dog(\"Buddy\")\n",
    "cat = Cat(\"Whiskers\")\n",
    "\n",
    "animal_speak(dog)\n",
    "animal_speak(cat)"
   ]
  },
  {
   "cell_type": "markdown",
   "id": "d5a7e6e9",
   "metadata": {},
   "source": [
    "Q8. Given a list of 50 natural numbers from 1-50. Create a function that will take every element from the list and return the square of each element. Use the python map and filter methods to implement the function on the given list."
   ]
  },
  {
   "cell_type": "code",
   "execution_count": 19,
   "id": "163bacdb",
   "metadata": {},
   "outputs": [
    {
     "data": {
      "text/plain": [
       "[1,\n",
       " 4,\n",
       " 9,\n",
       " 16,\n",
       " 25,\n",
       " 36,\n",
       " 49,\n",
       " 64,\n",
       " 81,\n",
       " 100,\n",
       " 121,\n",
       " 144,\n",
       " 169,\n",
       " 196,\n",
       " 225,\n",
       " 256,\n",
       " 289,\n",
       " 324,\n",
       " 361,\n",
       " 400,\n",
       " 441,\n",
       " 484,\n",
       " 529,\n",
       " 576,\n",
       " 625,\n",
       " 676,\n",
       " 729,\n",
       " 784,\n",
       " 841,\n",
       " 900,\n",
       " 961,\n",
       " 1024,\n",
       " 1089,\n",
       " 1156,\n",
       " 1225,\n",
       " 1296,\n",
       " 1369,\n",
       " 1444,\n",
       " 1521,\n",
       " 1600,\n",
       " 1681,\n",
       " 1764,\n",
       " 1849,\n",
       " 1936,\n",
       " 2025,\n",
       " 2116,\n",
       " 2209,\n",
       " 2304,\n",
       " 2401,\n",
       " 2500]"
      ]
     },
     "execution_count": 19,
     "metadata": {},
     "output_type": "execute_result"
    }
   ],
   "source": [
    "'''there is no use of filter in the given question, so just for the purpose of using it\n",
    "i have used it as a dummy filter, which keeps all the elements as it is without any filtering'''\n",
    "\n",
    "def square(natural):\n",
    "    return list(map(lambda x:x**2, filter(lambda x: True if x * 1 == x else False, natural)))\n",
    "\n",
    "square([i for i in range(1, 51)])"
   ]
  },
  {
   "cell_type": "markdown",
   "id": "2d1d0387",
   "metadata": {},
   "source": [
    "Q9. Create a class, Triangle. Its init() method should take self, angle1, angle2, and angle3 as arguments.  \n",
    "Q10. Create a class variable named number_of_sides and set it equal to 3.  \n",
    "Q11. Create a method named check_angles. The sum of a triangle's three angles should return True if the sum is equal to 180, and False otherwise. The method should print whether the angles belong to a triangle or not.  \n",
    "Q11.1 Write methods to verify if the triangle is an acute triangle or obtuse triangle.  \n",
    "Q11.2 Create an instance of the triangle class and call all the defined methods."
   ]
  },
  {
   "cell_type": "code",
   "execution_count": 14,
   "id": "a1ec0363",
   "metadata": {},
   "outputs": [],
   "source": [
    "class Triangle():\n",
    "    \n",
    "    number_of_sides = 3\n",
    "    \n",
    "    def __init__(self, angle1, angle2, angle3):\n",
    "        self.angle1 = angle1\n",
    "        self.angle2 = angle2\n",
    "        self.angle3 = angle3\n",
    "        \n",
    "    def check_value(self):\n",
    "        return self.angle1 > 0 and self.angle2 > 0 and self.angle3 > 0\n",
    "        \n",
    "    def check_sum(self):\n",
    "        return (self.angle1 + self.angle2 + self.angle3) == 180\n",
    "        \n",
    "    def check_angles(self):\n",
    "        if self.check_sum() and self.check_value():\n",
    "            print(f'The given angles {self.angle1}, {self.angle2}, {self.angle3} forms a valid triangle.')\n",
    "            return True\n",
    "        else:\n",
    "            print(f'The given angles {self.angle1}, {self.angle2}, {self.angle3} don\\'t form a valid triangle.')\n",
    "            return False\n",
    "            \n",
    "    def check_acute(self):\n",
    "        return self.check_sum() and max([self.angle1, self.angle2, self.angle3]) < 90  and self.check_value()\n",
    "    \n",
    "    def check_obtuse(self):\n",
    "        return self.check_sum() and max([self.angle1, self.angle2, self.angle3]) > 90  and self.check_value()"
   ]
  },
  {
   "cell_type": "code",
   "execution_count": 15,
   "id": "1ca93296",
   "metadata": {},
   "outputs": [],
   "source": [
    "var = Triangle(120, 30, 30)"
   ]
  },
  {
   "cell_type": "code",
   "execution_count": 16,
   "id": "201f8f16",
   "metadata": {},
   "outputs": [
    {
     "name": "stdout",
     "output_type": "stream",
     "text": [
      "The given angles 120, 30, 30 forms a valid triangle.\n"
     ]
    },
    {
     "data": {
      "text/plain": [
       "True"
      ]
     },
     "execution_count": 16,
     "metadata": {},
     "output_type": "execute_result"
    }
   ],
   "source": [
    "var.check_angles()"
   ]
  },
  {
   "cell_type": "code",
   "execution_count": 17,
   "id": "68be772e",
   "metadata": {},
   "outputs": [
    {
     "data": {
      "text/plain": [
       "False"
      ]
     },
     "execution_count": 17,
     "metadata": {},
     "output_type": "execute_result"
    }
   ],
   "source": [
    "var.check_acute()"
   ]
  },
  {
   "cell_type": "code",
   "execution_count": 18,
   "id": "d986edb5",
   "metadata": {},
   "outputs": [
    {
     "data": {
      "text/plain": [
       "True"
      ]
     },
     "execution_count": 18,
     "metadata": {},
     "output_type": "execute_result"
    }
   ],
   "source": [
    "var.check_obtuse()"
   ]
  },
  {
   "cell_type": "markdown",
   "id": "2cfb3e31",
   "metadata": {},
   "source": [
    "11.3 Create three child classes of triangle class - isosceles_triangle, right_triangle and equilateral_triangle.  \n",
    "11.4 Define methods which check for their properties.  "
   ]
  },
  {
   "cell_type": "code",
   "execution_count": 19,
   "id": "e13b59e0",
   "metadata": {},
   "outputs": [],
   "source": [
    "class isosceles_triangle(Triangle):\n",
    "    def check_isosceles(self):\n",
    "        angle_list = [self.angle1, self.angle2, self.angle3]\n",
    "        return self.check_sum() and max(angle_list) + 2*min(angle_list) == sum(angle_list)\n",
    "\n",
    "class right_triangle(Triangle):\n",
    "    def check_right(self):\n",
    "        return self.check_sum() and max([self.angle1, self.angle2, self.angle3]) == 90\n",
    "\n",
    "class equilateral_triangle(Triangle):\n",
    "    def check_equilateral(self):\n",
    "        return self.angle1 == self.angle2 == self.angle3 == 60"
   ]
  },
  {
   "cell_type": "markdown",
   "id": "a3ac9de4",
   "metadata": {},
   "source": [
    "Q12. Create a class isosceles_right_triangle which inherits from isosceles_triangle and right_triangle.  \n",
    "12.1 Define methods which check for their properties."
   ]
  },
  {
   "cell_type": "code",
   "execution_count": 20,
   "id": "72fd63bb",
   "metadata": {},
   "outputs": [],
   "source": [
    "class isosceles_right_triangle(isosceles_triangle, right_triangle):\n",
    "    def check_isosceles_right(self):\n",
    "        return self.check_isosceles() and self.check_right()"
   ]
  }
 ],
 "metadata": {
  "kernelspec": {
   "display_name": "Python 3 (ipykernel)",
   "language": "python",
   "name": "python3"
  },
  "language_info": {
   "codemirror_mode": {
    "name": "ipython",
    "version": 3
   },
   "file_extension": ".py",
   "mimetype": "text/x-python",
   "name": "python",
   "nbconvert_exporter": "python",
   "pygments_lexer": "ipython3",
   "version": "3.10.9"
  }
 },
 "nbformat": 4,
 "nbformat_minor": 5
}
