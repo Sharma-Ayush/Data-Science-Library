{
 "cells": [
  {
   "cell_type": "markdown",
   "id": "35e602ea",
   "metadata": {},
   "source": [
    "# Module 1: Loops Assignment - 3"
   ]
  },
  {
   "cell_type": "markdown",
   "id": "a1754d47",
   "metadata": {},
   "source": [
    "### Problem Statement:"
   ]
  },
  {
   "cell_type": "markdown",
   "id": "6c28f004",
   "metadata": {},
   "source": [
    "You work in XYZ Corporation as a Data Analyst. Your company has told you to\n",
    "work with the looping statements."
   ]
  },
  {
   "cell_type": "markdown",
   "id": "13412c9a",
   "metadata": {},
   "source": [
    "### Tasks To Be Performed:"
   ]
  },
  {
   "cell_type": "markdown",
   "id": "d275a066",
   "metadata": {},
   "source": [
    "1. Create an array that has user defined inputs and with the help of for loop,\n",
    "fetch all the prime numbers and print the numbers."
   ]
  },
  {
   "cell_type": "code",
   "execution_count": 2,
   "id": "ea6ead01",
   "metadata": {},
   "outputs": [
    {
     "name": "stdout",
     "output_type": "stream",
     "text": [
      "Enter a non-negative integer(press q to quit): 1\n",
      "Enter a non-negative integer(press q to quit): 2\n",
      "Enter a non-negative integer(press q to quit): 3\n",
      "Enter a non-negative integer(press q to quit): 4\n",
      "Enter a non-negative integer(press q to quit): 5\n",
      "Enter a non-negative integer(press q to quit): 7\n",
      "Enter a non-negative integer(press q to quit): 10\n",
      "Enter a non-negative integer(press q to quit): 15\n",
      "Enter a non-negative integer(press q to quit): 12346556\n",
      "Enter a non-negative integer(press q to quit): q\n",
      "2\n",
      "3\n",
      "5\n",
      "7\n"
     ]
    }
   ],
   "source": [
    "from math import sqrt\n",
    "\n",
    "def check_prime_number(num):\n",
    "    if num == 2:\n",
    "        return True\n",
    "    elif num % 2 == 0 or num == 1:\n",
    "        return False\n",
    "    else:\n",
    "        divisor = 3\n",
    "        while divisor <= sqrt(num):\n",
    "            if num % divisor == 0:\n",
    "                return False\n",
    "            divisor += 2\n",
    "        return True\n",
    "    \n",
    "lst = []\n",
    "\n",
    "while True:\n",
    "    user_input = input(\"Enter a non-negative integer(press q to quit): \")\n",
    "    if user_input != 'q':\n",
    "        lst.append(int(user_input))\n",
    "    else:\n",
    "        break\n",
    "\n",
    "for num in lst:\n",
    "    if prime_number(num) == True:\n",
    "        print(num)"
   ]
  }
 ],
 "metadata": {
  "kernelspec": {
   "display_name": "Python 3 (ipykernel)",
   "language": "python",
   "name": "python3"
  },
  "language_info": {
   "codemirror_mode": {
    "name": "ipython",
    "version": 3
   },
   "file_extension": ".py",
   "mimetype": "text/x-python",
   "name": "python",
   "nbconvert_exporter": "python",
   "pygments_lexer": "ipython3",
   "version": "3.10.9"
  }
 },
 "nbformat": 4,
 "nbformat_minor": 5
}
