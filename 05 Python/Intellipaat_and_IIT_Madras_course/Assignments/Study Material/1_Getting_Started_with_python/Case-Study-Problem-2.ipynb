{
 "cells": [
  {
   "cell_type": "markdown",
   "id": "94944103",
   "metadata": {},
   "source": [
    "# Module 1: Case Study - 2"
   ]
  },
  {
   "cell_type": "markdown",
   "id": "c4497d86",
   "metadata": {},
   "source": [
    "### Problem Statement:"
   ]
  },
  {
   "cell_type": "markdown",
   "id": "22d5f860",
   "metadata": {},
   "source": [
    "Consider yourself to be Sam who is a data scientist. He has been invited as a\n",
    "guest lecturer at a college to take an introductory session on Python."
   ]
  },
  {
   "cell_type": "markdown",
   "id": "449040c3",
   "metadata": {},
   "source": [
    "### Tasks To Be Performed:"
   ]
  },
  {
   "cell_type": "markdown",
   "id": "bcfb1edb",
   "metadata": {},
   "source": [
    "1. Create 1st tuple with values -> (10, 20, 30), 2nd tuple with values -> (40, 50, 60):  \n",
    "a. Concatenate the two tuples and store it in “t_combine”  \n",
    "b. Repeat the elements of “t_combine” 3 times  \n",
    "c. Access the 3rd element from “t_combine”  \n",
    "d. Access the first three elements from “t_combine”  \n",
    "e. Access the last three elements from “t_combine”"
   ]
  },
  {
   "cell_type": "code",
   "execution_count": 1,
   "id": "d4cab067",
   "metadata": {},
   "outputs": [
    {
     "name": "stdout",
     "output_type": "stream",
     "text": [
      "(10, 20, 30, 40, 50, 60)\n",
      "(10, 20, 30, 40, 50, 60, 10, 20, 30, 40, 50, 60, 10, 20, 30, 40, 50, 60)\n",
      "(10, 20, 30)\n",
      "(40, 50, 60)\n"
     ]
    }
   ],
   "source": [
    "t1 = (10, 20, 30)\n",
    "t2 = (40, 50, 60)\n",
    "\n",
    "t_combine = t1 + t2\n",
    "print(t_combine)\n",
    "\n",
    "print(t_combine*3)\n",
    "\n",
    "print(t_combine[:3])\n",
    "\n",
    "print(t_combine[-3:])"
   ]
  },
  {
   "cell_type": "markdown",
   "id": "f3ada5c4",
   "metadata": {},
   "source": [
    "2. Create a list ‘my_list’ with these elements:  \n",
    "a. First element is a tuple with values 1, 2, 3  \n",
    "b. Second element is a tuple with values “a”, “b”, “c”  \n",
    "c. Third element is a tuple with values True, False"
   ]
  },
  {
   "cell_type": "code",
   "execution_count": 4,
   "id": "aeb24141",
   "metadata": {},
   "outputs": [],
   "source": [
    "my_list = [(1, 2, 3), ('a', 'b', 'c'), (True, False)]"
   ]
  },
  {
   "cell_type": "markdown",
   "id": "77a2a778",
   "metadata": {},
   "source": [
    "3. Append a new tuple – (1, ‘a’, True) to ‘my_list’:  \n",
    "a. Append a new list – *“sparta”, 123+ to my_list"
   ]
  },
  {
   "cell_type": "code",
   "execution_count": 5,
   "id": "10e322bc",
   "metadata": {},
   "outputs": [],
   "source": [
    "my_list.append((1, 'a', True))\n",
    "my_list.append(['sparta', 123])"
   ]
  },
  {
   "cell_type": "markdown",
   "id": "387680d9",
   "metadata": {},
   "source": [
    "4. Create a dictionary ‘fruit’ where:  \n",
    "a. The first key is ‘Fruit’ and the values are (“Apple”, “Banana”, “Mango”, “Guava”)  \n",
    "b. The second key is ‘Cost’ and the values are (85, 54, 120, 70)  \n",
    "c. Extract all the keys from ‘fruit’  \n",
    "d. Extract all the values from ‘fruit’"
   ]
  },
  {
   "cell_type": "code",
   "execution_count": 6,
   "id": "224ecbdd",
   "metadata": {},
   "outputs": [
    {
     "name": "stdout",
     "output_type": "stream",
     "text": [
      "keys: ['Fruit', 'Cost']\n",
      "values: [('Apple', 'Banana', 'Mango', 'Guava'), (85, 54, 120, 70)]\n"
     ]
    }
   ],
   "source": [
    "fruit = {'Fruit':('Apple', 'Banana', 'Mango', 'Guava'), 'Cost':(85, 54, 120, 70)}\n",
    "print(f'keys: {list(fruit.keys())}')\n",
    "print(f'values: {list(fruit.values())}')"
   ]
  },
  {
   "cell_type": "markdown",
   "id": "f75d7881",
   "metadata": {},
   "source": [
    "5. Create a set named 'my_set' wth values (1, 1, 'a', 'a', True, True) and print the result."
   ]
  },
  {
   "cell_type": "code",
   "execution_count": 7,
   "id": "8e36a2d2",
   "metadata": {},
   "outputs": [
    {
     "name": "stdout",
     "output_type": "stream",
     "text": [
      "{'a', 1}\n"
     ]
    }
   ],
   "source": [
    "my_set = set((1, 1, 'a', 'a', True, True))\n",
    "print(my_set)"
   ]
  }
 ],
 "metadata": {
  "kernelspec": {
   "display_name": "Python 3 (ipykernel)",
   "language": "python",
   "name": "python3"
  },
  "language_info": {
   "codemirror_mode": {
    "name": "ipython",
    "version": 3
   },
   "file_extension": ".py",
   "mimetype": "text/x-python",
   "name": "python",
   "nbconvert_exporter": "python",
   "pygments_lexer": "ipython3",
   "version": "3.10.9"
  }
 },
 "nbformat": 4,
 "nbformat_minor": 5
}
