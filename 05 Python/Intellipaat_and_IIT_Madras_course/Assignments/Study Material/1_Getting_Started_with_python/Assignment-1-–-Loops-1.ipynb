{
 "cells": [
  {
   "cell_type": "markdown",
   "id": "968013ff",
   "metadata": {},
   "source": [
    "# Module 1: Loops Assignment - 1"
   ]
  },
  {
   "cell_type": "markdown",
   "id": "02b103e9",
   "metadata": {},
   "source": [
    "### Problem Statement:"
   ]
  },
  {
   "cell_type": "markdown",
   "id": "25b61536",
   "metadata": {},
   "source": [
    "You work in XYZ Corporation as a Data Analyst. Your company has told you to\n",
    "work with the looping statements."
   ]
  },
  {
   "cell_type": "markdown",
   "id": "b3e44127",
   "metadata": {},
   "source": [
    "### Tasks To Be Performed:"
   ]
  },
  {
   "cell_type": "markdown",
   "id": "6b267e04",
   "metadata": {},
   "source": [
    "1. Print the numbers from 1 to 10 using while loop."
   ]
  },
  {
   "cell_type": "code",
   "execution_count": 11,
   "id": "aea8a98a",
   "metadata": {},
   "outputs": [
    {
     "name": "stdout",
     "output_type": "stream",
     "text": [
      "1\n",
      "2\n",
      "3\n",
      "4\n",
      "5\n",
      "6\n",
      "7\n",
      "8\n",
      "9\n",
      "10\n"
     ]
    }
   ],
   "source": [
    "start_num = 1\n",
    "end_num = 10\n",
    "\n",
    "increment = 1 if end_num >= start_num else -1\n",
    "\n",
    "end_num+=increment\n",
    "\n",
    "while start_num != end_num:\n",
    "    print(start_num)\n",
    "    start_num += increment"
   ]
  }
 ],
 "metadata": {
  "kernelspec": {
   "display_name": "Python 3 (ipykernel)",
   "language": "python",
   "name": "python3"
  },
  "language_info": {
   "codemirror_mode": {
    "name": "ipython",
    "version": 3
   },
   "file_extension": ".py",
   "mimetype": "text/x-python",
   "name": "python",
   "nbconvert_exporter": "python",
   "pygments_lexer": "ipython3",
   "version": "3.10.9"
  }
 },
 "nbformat": 4,
 "nbformat_minor": 5
}
