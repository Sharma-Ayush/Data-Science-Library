{
 "cells": [
  {
   "cell_type": "markdown",
   "id": "7b6762f4",
   "metadata": {},
   "source": [
    "# Module 1: Case Study - 1"
   ]
  },
  {
   "cell_type": "markdown",
   "id": "d43acc24",
   "metadata": {},
   "source": [
    "### Problem Statement:"
   ]
  },
  {
   "cell_type": "markdown",
   "id": "18ea61aa",
   "metadata": {},
   "source": [
    "Consider yourself to be Sam who is a data scientist. He has been invited as a\n",
    "guest lecturer at a college to take an introductory session on Python."
   ]
  },
  {
   "cell_type": "markdown",
   "id": "92df00aa",
   "metadata": {},
   "source": [
    "### Tasks To Be Performed:"
   ]
  },
  {
   "cell_type": "markdown",
   "id": "53812e73",
   "metadata": {},
   "source": [
    "1. Create a list containing squares of numbers from 1 to 10 (HINT: use List\n",
    "Comprehension)."
   ]
  },
  {
   "cell_type": "code",
   "execution_count": 1,
   "id": "5fb63e7e",
   "metadata": {},
   "outputs": [
    {
     "name": "stdout",
     "output_type": "stream",
     "text": [
      "[1, 4, 9, 16, 25, 36, 49, 64, 81, 100]\n"
     ]
    }
   ],
   "source": [
    "sq_of_num = [i**2 for i in range(1,11)]\n",
    "print(sq_of_num)"
   ]
  },
  {
   "cell_type": "markdown",
   "id": "b3a1b5bb",
   "metadata": {},
   "source": [
    "2. Write a function to check if the year number is a leap year."
   ]
  },
  {
   "cell_type": "code",
   "execution_count": 2,
   "id": "ed33868e",
   "metadata": {},
   "outputs": [],
   "source": [
    "def check_leap_year(year):\n",
    "    if year%4==0:\n",
    "        if year%100==0 and (not year%400==0):\n",
    "            return False\n",
    "        return True\n",
    "    return False"
   ]
  },
  {
   "cell_type": "code",
   "execution_count": 4,
   "id": "ee481261",
   "metadata": {},
   "outputs": [
    {
     "data": {
      "text/plain": [
       "True"
      ]
     },
     "execution_count": 4,
     "metadata": {},
     "output_type": "execute_result"
    }
   ],
   "source": [
    "check_leap_year(2016)"
   ]
  },
  {
   "cell_type": "code",
   "execution_count": 5,
   "id": "d5265da2",
   "metadata": {},
   "outputs": [
    {
     "data": {
      "text/plain": [
       "False"
      ]
     },
     "execution_count": 5,
     "metadata": {},
     "output_type": "execute_result"
    }
   ],
   "source": [
    "check_leap_year(1800)"
   ]
  },
  {
   "cell_type": "code",
   "execution_count": 6,
   "id": "b7ebe444",
   "metadata": {},
   "outputs": [
    {
     "data": {
      "text/plain": [
       "False"
      ]
     },
     "execution_count": 6,
     "metadata": {},
     "output_type": "execute_result"
    }
   ],
   "source": [
    "check_leap_year(2023)"
   ]
  },
  {
   "cell_type": "code",
   "execution_count": 7,
   "id": "3b9154d5",
   "metadata": {},
   "outputs": [
    {
     "data": {
      "text/plain": [
       "True"
      ]
     },
     "execution_count": 7,
     "metadata": {},
     "output_type": "execute_result"
    }
   ],
   "source": [
    "check_leap_year(2000)"
   ]
  },
  {
   "cell_type": "markdown",
   "id": "17fcf03e",
   "metadata": {},
   "source": [
    "3. Write a function to take an array and return another array that contains the\n",
    "members of the first array that are even."
   ]
  },
  {
   "cell_type": "code",
   "execution_count": 8,
   "id": "0cb7d7ce",
   "metadata": {},
   "outputs": [],
   "source": [
    "def get_even_num(array):\n",
    "    return [num for num in array if num%2==0]"
   ]
  },
  {
   "cell_type": "code",
   "execution_count": 9,
   "id": "c8845101",
   "metadata": {},
   "outputs": [
    {
     "data": {
      "text/plain": [
       "[2, 4, 6, 8]"
      ]
     },
     "execution_count": 9,
     "metadata": {},
     "output_type": "execute_result"
    }
   ],
   "source": [
    "get_even_num([1,2,3,4,5,6,7,8])"
   ]
  },
  {
   "cell_type": "markdown",
   "id": "5ac78500",
   "metadata": {},
   "source": [
    "4. Write a function that takes 2 arrays and prints the members of the first\n",
    "array that are present in the second array. (HINT: use Membership\n",
    "Comprehension)"
   ]
  },
  {
   "cell_type": "code",
   "execution_count": 10,
   "id": "9562c3e9",
   "metadata": {},
   "outputs": [],
   "source": [
    "def check_common(lst1, lst2):\n",
    "    return [num for num in lst1 if num in lst2]"
   ]
  },
  {
   "cell_type": "code",
   "execution_count": 11,
   "id": "98e2833c",
   "metadata": {},
   "outputs": [
    {
     "data": {
      "text/plain": [
       "[2, 4, 6, 8]"
      ]
     },
     "execution_count": 11,
     "metadata": {},
     "output_type": "execute_result"
    }
   ],
   "source": [
    "check_common([1,2,3,4,5,6,7,8], [2,4,6,8,10,12])"
   ]
  }
 ],
 "metadata": {
  "kernelspec": {
   "display_name": "Python 3 (ipykernel)",
   "language": "python",
   "name": "python3"
  },
  "language_info": {
   "codemirror_mode": {
    "name": "ipython",
    "version": 3
   },
   "file_extension": ".py",
   "mimetype": "text/x-python",
   "name": "python",
   "nbconvert_exporter": "python",
   "pygments_lexer": "ipython3",
   "version": "3.10.9"
  }
 },
 "nbformat": 4,
 "nbformat_minor": 5
}
