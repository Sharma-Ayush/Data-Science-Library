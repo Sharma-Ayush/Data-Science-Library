{
 "cells": [
  {
   "cell_type": "markdown",
   "id": "73ec5316",
   "metadata": {},
   "source": [
    "# Module 1: Loops Assignment - 2"
   ]
  },
  {
   "cell_type": "markdown",
   "id": "be1e39ef",
   "metadata": {},
   "source": [
    "### Problem Statement:"
   ]
  },
  {
   "cell_type": "markdown",
   "id": "f03cd4dd",
   "metadata": {},
   "source": [
    "You work in XYZ Corporation as a Data Analyst. Your company has told you to\n",
    "work with the looping statements."
   ]
  },
  {
   "cell_type": "markdown",
   "id": "5cec693a",
   "metadata": {},
   "source": [
    "### Tasks To Be Performed:"
   ]
  },
  {
   "cell_type": "markdown",
   "id": "1578af32",
   "metadata": {},
   "source": [
    "1. Create a list that has 10, 23, 4, 26, 4, 75, 24, 54 values and with the help\n",
    "of while loop fetch the even numbers and print the numbers."
   ]
  },
  {
   "cell_type": "code",
   "execution_count": 1,
   "id": "4409710a",
   "metadata": {},
   "outputs": [
    {
     "name": "stdout",
     "output_type": "stream",
     "text": [
      "10\n",
      "4\n",
      "26\n",
      "4\n",
      "24\n",
      "54\n"
     ]
    }
   ],
   "source": [
    "numbers = [10, 23, 4, 26, 4, 75, 24, 54]\n",
    "\n",
    "index = 0\n",
    "\n",
    "while index < len(numbers):\n",
    "    if numbers[index] % 2 == 0:\n",
    "        print(numbers[index])\n",
    "    index += 1"
   ]
  }
 ],
 "metadata": {
  "kernelspec": {
   "display_name": "Python 3 (ipykernel)",
   "language": "python",
   "name": "python3"
  },
  "language_info": {
   "codemirror_mode": {
    "name": "ipython",
    "version": 3
   },
   "file_extension": ".py",
   "mimetype": "text/x-python",
   "name": "python",
   "nbconvert_exporter": "python",
   "pygments_lexer": "ipython3",
   "version": "3.10.9"
  }
 },
 "nbformat": 4,
 "nbformat_minor": 5
}
