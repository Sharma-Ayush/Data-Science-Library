{
 "cells": [
  {
   "cell_type": "markdown",
   "id": "5e189ebc",
   "metadata": {},
   "source": [
    "# Module 1: Conditional Statements Assignment"
   ]
  },
  {
   "cell_type": "markdown",
   "id": "9f06e767",
   "metadata": {},
   "source": [
    "### Problem Statement:"
   ]
  },
  {
   "cell_type": "markdown",
   "id": "0ef87fa1",
   "metadata": {},
   "source": [
    "You work in XYZ Corporation as a Data Analyst. Your company has told you to\n",
    "work with the if-else condition."
   ]
  },
  {
   "cell_type": "markdown",
   "id": "75ccff6d",
   "metadata": {},
   "source": [
    "### Tasks To Be Performed:"
   ]
  },
  {
   "cell_type": "markdown",
   "id": "7da82448",
   "metadata": {},
   "source": [
    "1. Take three user inputs and print the greatest number from those inputs\n",
    "using if-else condition. Edge cases, if any, should also be handled."
   ]
  },
  {
   "cell_type": "code",
   "execution_count": 11,
   "id": "8ffa7ecd",
   "metadata": {},
   "outputs": [
    {
     "name": "stdout",
     "output_type": "stream",
     "text": [
      "Enter first number: 10\n",
      "Enter first number: 5\n",
      "Enter first number: 8\n",
      "Thre greatest num out of 10, 5 & 8 is 10\n"
     ]
    }
   ],
   "source": [
    "a = float(input(\"Enter first number: \"))\n",
    "b = float(input(\"Enter first number: \"))\n",
    "c = float(input(\"Enter first number: \"))\n",
    "\n",
    "if a >= b and a >= c:\n",
    "    greatest_num = a\n",
    "elif b >= c:\n",
    "    greatest_num = b\n",
    "else:\n",
    "    greatest_num = c\n",
    "\n",
    "print(\"Thre greatest num out of %g, %g & %g is %g\" % (a, b, c, greatest_num))"
   ]
  }
 ],
 "metadata": {
  "kernelspec": {
   "display_name": "Python 3 (ipykernel)",
   "language": "python",
   "name": "python3"
  },
  "language_info": {
   "codemirror_mode": {
    "name": "ipython",
    "version": 3
   },
   "file_extension": ".py",
   "mimetype": "text/x-python",
   "name": "python",
   "nbconvert_exporter": "python",
   "pygments_lexer": "ipython3",
   "version": "3.10.9"
  }
 },
 "nbformat": 4,
 "nbformat_minor": 5
}
