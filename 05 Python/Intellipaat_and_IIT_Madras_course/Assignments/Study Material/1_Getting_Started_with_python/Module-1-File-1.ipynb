{
 "cells": [
  {
   "cell_type": "markdown",
   "id": "8e7ebb92",
   "metadata": {},
   "source": [
    "# Getting Started with Python (Hands-on 1)"
   ]
  },
  {
   "cell_type": "markdown",
   "id": "7f412a77",
   "metadata": {},
   "source": [
    "### Problem Statement:"
   ]
  },
  {
   "cell_type": "markdown",
   "id": "3b732180",
   "metadata": {},
   "source": [
    "The computations on several operations can be a tedious task for some. Your company has\n",
    "assigned a task for you to minimize the effort and enhance the productivity for several of these\n",
    "tasks. Simple tasks like finding the larger number among the lot, or changing the digits of a\n",
    "given number, etc."
   ]
  },
  {
   "cell_type": "markdown",
   "id": "2bc56a1b",
   "metadata": {},
   "source": [
    "### Tasks To be Performed:"
   ]
  },
  {
   "cell_type": "markdown",
   "id": "e338ef87",
   "metadata": {},
   "source": [
    "1. Create a python file named Module.  \n",
    "a. Inside the file, define 4 methods named – addition, subtraction, multiplication,\n",
    "and division.  \n",
    "b. Each method should only accept 2 arguments and should return the result of the\n",
    "operation performed in each method. For e.g., addition() should return the sum of\n",
    "two arguments.  \n",
    "c. Save the Module file in .py format."
   ]
  },
  {
   "cell_type": "markdown",
   "id": "9a9352b3",
   "metadata": {},
   "source": [
    "#### Done"
   ]
  },
  {
   "cell_type": "markdown",
   "id": "bef762ba",
   "metadata": {},
   "source": [
    "2. Open a new python file and import the Module.py file.  \n",
    "a. Now call the 4 methods from the Module.py file, i.e., addition(), subtraction(),\n",
    "multiplication(), and division()."
   ]
  },
  {
   "cell_type": "markdown",
   "id": "77592158",
   "metadata": {},
   "source": [
    "#### Done"
   ]
  },
  {
   "cell_type": "markdown",
   "id": "0f18f691",
   "metadata": {},
   "source": [
    "3. From the Module file, import only the addition() and pass the arguments so that it can display the result from the method."
   ]
  },
  {
   "cell_type": "code",
   "execution_count": 2,
   "id": "c1f3f4e6",
   "metadata": {},
   "outputs": [
    {
     "name": "stdout",
     "output_type": "stream",
     "text": [
      "Addition of a=10 and b=5 is 15\n"
     ]
    }
   ],
   "source": [
    "from Module import addition\n",
    "a = 10\n",
    "b = 5\n",
    "print(f'Addition of {a=} and {b=} is {addition(a, b)}')"
   ]
  },
  {
   "cell_type": "markdown",
   "id": "06b5b2b2",
   "metadata": {},
   "source": [
    "4. From the Module file, import only the subtraction() and pass the arguments so that it can\n",
    "display the result from the method."
   ]
  },
  {
   "cell_type": "code",
   "execution_count": 3,
   "id": "03528238",
   "metadata": {},
   "outputs": [
    {
     "name": "stdout",
     "output_type": "stream",
     "text": [
      "Subtraction of a=10 and b=5 is 5\n"
     ]
    }
   ],
   "source": [
    "from Module import subtraction\n",
    "a = 10\n",
    "b = 5\n",
    "print(f'Subtraction of {a=} and {b=} is {subtraction(a, b)}')"
   ]
  },
  {
   "cell_type": "markdown",
   "id": "7f8d825d",
   "metadata": {},
   "source": [
    "5. From the Module file, import both the multiplication() and division() and pass the\n",
    "arguments so that it can display the result from the methods."
   ]
  },
  {
   "cell_type": "code",
   "execution_count": 4,
   "id": "c4243e0c",
   "metadata": {},
   "outputs": [
    {
     "name": "stdout",
     "output_type": "stream",
     "text": [
      "Multiplication of a=10 and b=5 is 50\n",
      "Division of a=10 and b=5 is 2.0\n"
     ]
    }
   ],
   "source": [
    "from Module import multiplication, division\n",
    "a = 10\n",
    "b = 5\n",
    "print(f'Multiplication of {a=} and {b=} is {multiplication(a, b)}')\n",
    "print(f'Division of {a=} and {b=} is {division(a, b)}')"
   ]
  },
  {
   "cell_type": "markdown",
   "id": "c6bc1d22",
   "metadata": {},
   "source": [
    "6. Create a python if-else program to check if the given numbers are greater or not, also\n",
    "check whether the given number is an armstrong number or not, and check whether the\n",
    "given number is a prime number or not. Make use of python if-else, and elif statements\n",
    "for the same."
   ]
  },
  {
   "cell_type": "code",
   "execution_count": 15,
   "id": "a240c48b",
   "metadata": {},
   "outputs": [],
   "source": [
    "from functools import reduce\n",
    "from math import sqrt\n",
    "\n",
    "def check_greater(a, b):\n",
    "    if a == b:\n",
    "        print(f\"{a} is equal to {b}\")\n",
    "        return\n",
    "    elif b > a:\n",
    "        a,b = b,a\n",
    "    print(f\"{a} is grater than {b}\")\n",
    "        \n",
    "def check_armstrong_number(num):\n",
    "    if reduce(lambda x,y:x+(int(y))**3,str(num),0) == num:\n",
    "        return True\n",
    "    return False    \n",
    "    \n",
    "def check_prime_number(num):\n",
    "    if num == 2:\n",
    "        return True\n",
    "    elif num % 2 == 0 or num == 1:\n",
    "        return False\n",
    "    else:\n",
    "        divisor = 3\n",
    "        while divisor <= sqrt(num):\n",
    "            if num % divisor == 0:\n",
    "                return False\n",
    "            divisor += 2\n",
    "        return True"
   ]
  },
  {
   "cell_type": "code",
   "execution_count": 6,
   "id": "5ad4285d",
   "metadata": {},
   "outputs": [
    {
     "name": "stdout",
     "output_type": "stream",
     "text": [
      "10 is grater than 5\n"
     ]
    }
   ],
   "source": [
    "check_greater(10,5)"
   ]
  },
  {
   "cell_type": "code",
   "execution_count": 7,
   "id": "750cc40e",
   "metadata": {},
   "outputs": [
    {
     "name": "stdout",
     "output_type": "stream",
     "text": [
      "10 is grater than 5\n"
     ]
    }
   ],
   "source": [
    "check_greater(5,10)"
   ]
  },
  {
   "cell_type": "code",
   "execution_count": 8,
   "id": "50f477a9",
   "metadata": {},
   "outputs": [
    {
     "name": "stdout",
     "output_type": "stream",
     "text": [
      "5 is equal to 5\n"
     ]
    }
   ],
   "source": [
    "check_greater(5,5)"
   ]
  },
  {
   "cell_type": "code",
   "execution_count": 9,
   "id": "da299f60",
   "metadata": {},
   "outputs": [
    {
     "data": {
      "text/plain": [
       "False"
      ]
     },
     "execution_count": 9,
     "metadata": {},
     "output_type": "execute_result"
    }
   ],
   "source": [
    "check_armstrong_number(10)"
   ]
  },
  {
   "cell_type": "code",
   "execution_count": 10,
   "id": "dbedcf85",
   "metadata": {},
   "outputs": [
    {
     "data": {
      "text/plain": [
       "True"
      ]
     },
     "execution_count": 10,
     "metadata": {},
     "output_type": "execute_result"
    }
   ],
   "source": [
    "check_armstrong_number(153)"
   ]
  },
  {
   "cell_type": "code",
   "execution_count": 11,
   "id": "7e978966",
   "metadata": {},
   "outputs": [
    {
     "data": {
      "text/plain": [
       "True"
      ]
     },
     "execution_count": 11,
     "metadata": {},
     "output_type": "execute_result"
    }
   ],
   "source": [
    "check_armstrong_number(371)"
   ]
  },
  {
   "cell_type": "code",
   "execution_count": 12,
   "id": "718ebe93",
   "metadata": {},
   "outputs": [
    {
     "data": {
      "text/plain": [
       "False"
      ]
     },
     "execution_count": 12,
     "metadata": {},
     "output_type": "execute_result"
    }
   ],
   "source": [
    "check_armstrong_number(23)"
   ]
  },
  {
   "cell_type": "code",
   "execution_count": 13,
   "id": "7763f44f",
   "metadata": {},
   "outputs": [
    {
     "data": {
      "text/plain": [
       "True"
      ]
     },
     "execution_count": 13,
     "metadata": {},
     "output_type": "execute_result"
    }
   ],
   "source": [
    "check_prime_number(2)"
   ]
  },
  {
   "cell_type": "code",
   "execution_count": 16,
   "id": "d232de4d",
   "metadata": {},
   "outputs": [
    {
     "data": {
      "text/plain": [
       "True"
      ]
     },
     "execution_count": 16,
     "metadata": {},
     "output_type": "execute_result"
    }
   ],
   "source": [
    "check_prime_number(3)"
   ]
  },
  {
   "cell_type": "code",
   "execution_count": 17,
   "id": "b53315c0",
   "metadata": {},
   "outputs": [
    {
     "data": {
      "text/plain": [
       "False"
      ]
     },
     "execution_count": 17,
     "metadata": {},
     "output_type": "execute_result"
    }
   ],
   "source": [
    "check_prime_number(10)"
   ]
  },
  {
   "cell_type": "code",
   "execution_count": 18,
   "id": "a59632b5",
   "metadata": {},
   "outputs": [
    {
     "data": {
      "text/plain": [
       "False"
      ]
     },
     "execution_count": 18,
     "metadata": {},
     "output_type": "execute_result"
    }
   ],
   "source": [
    "check_prime_number(1)"
   ]
  },
  {
   "cell_type": "code",
   "execution_count": 19,
   "id": "b036c112",
   "metadata": {},
   "outputs": [
    {
     "data": {
      "text/plain": [
       "True"
      ]
     },
     "execution_count": 19,
     "metadata": {},
     "output_type": "execute_result"
    }
   ],
   "source": [
    "check_prime_number(23)"
   ]
  },
  {
   "cell_type": "markdown",
   "id": "239abdd4",
   "metadata": {},
   "source": [
    "7. Create a calculator program for addition, subtraction, multiplication and floor division.\n",
    "Take the inputs from the user, and based on the choice of operation, return the results."
   ]
  },
  {
   "cell_type": "code",
   "execution_count": 30,
   "id": "e46bed54",
   "metadata": {},
   "outputs": [
    {
     "name": "stdout",
     "output_type": "stream",
     "text": [
      "Enter number 1:10\n",
      "Enter number 2:5\n",
      "Following operators available:\n",
      "addition(+)\n",
      "subtraction(-)\n",
      "multiplication(*)\n",
      "floor division(//)\n",
      "Enter the operator:/\n",
      "Invalid Operator.\n"
     ]
    }
   ],
   "source": [
    "def calculator(num1, num2, operator):\n",
    "    if operator == '+':\n",
    "        print(f\"Addition of {num1:g} and {num2:g} is {a+b:g}.\")\n",
    "    elif operator == '-':\n",
    "        print(f\"Subtraction of {num1:g} and {num2:g} is {a-b:g}.\")\n",
    "    elif operator == '*':\n",
    "        print(f\"Multiplication of {num1:g} and {num2:g} is {a*b:g}.\")\n",
    "    elif operator == '//':\n",
    "        print(f\"Floor division of {num1:g} and {num2:g} is {a//b:g}.\")\n",
    "    else:\n",
    "        print(\"Invalid Operator.\")\n",
    "\n",
    "num1 = float(input(\"Enter number 1:\"))\n",
    "num2 = float(input(\"Enter number 2:\"))\n",
    "operator = input('''Following operators available:\\naddition(+)\\nsubtraction(-)\\nmultiplication(*)\\nfloor division(//)\n",
    "Enter the operator:''')\n",
    "\n",
    "calculator(num1, num2, operator)"
   ]
  },
  {
   "cell_type": "markdown",
   "id": "b89a377d",
   "metadata": {},
   "source": [
    "8. Create a fibonacci sequence using python if-else statements."
   ]
  },
  {
   "cell_type": "code",
   "execution_count": 37,
   "id": "f33d1257",
   "metadata": {},
   "outputs": [],
   "source": [
    "def fibonacci(num):\n",
    "    a = b = 1\n",
    "    for i in range(num):\n",
    "        print(a)\n",
    "        a,b=b,b+a"
   ]
  },
  {
   "cell_type": "code",
   "execution_count": 44,
   "id": "aa3e5f9c",
   "metadata": {},
   "outputs": [
    {
     "name": "stdout",
     "output_type": "stream",
     "text": [
      "1\n",
      "1\n",
      "2\n",
      "3\n",
      "5\n",
      "8\n",
      "13\n",
      "21\n",
      "34\n",
      "55\n"
     ]
    }
   ],
   "source": [
    "fibonacci(10)"
   ]
  },
  {
   "cell_type": "markdown",
   "id": "e120ebd5",
   "metadata": {},
   "source": [
    "9. Create a nested dictionary with values as a nested list for each key in the dictionary."
   ]
  },
  {
   "cell_type": "code",
   "execution_count": 40,
   "id": "f6a5a674",
   "metadata": {},
   "outputs": [],
   "source": [
    "d = {'key':{'key':[[1,2],[3,4]]}}"
   ]
  },
  {
   "cell_type": "code",
   "execution_count": 41,
   "id": "ef171bc1",
   "metadata": {},
   "outputs": [
    {
     "data": {
      "text/plain": [
       "{'key': {'key': [[1, 2], [3, 4]]}}"
      ]
     },
     "execution_count": 41,
     "metadata": {},
     "output_type": "execute_result"
    }
   ],
   "source": [
    "d"
   ]
  },
  {
   "cell_type": "markdown",
   "id": "de70dd6f",
   "metadata": {},
   "source": [
    "10. Create two sets and perform the following:  \n",
    "a. Union of the two sets  \n",
    "b. Intersection of the two sets"
   ]
  },
  {
   "cell_type": "code",
   "execution_count": 42,
   "id": "df791b80",
   "metadata": {},
   "outputs": [
    {
     "name": "stdout",
     "output_type": "stream",
     "text": [
      "Union : {1, 2, 3, 4, 5, 6}\n",
      "Intersection : {3, 4}\n"
     ]
    }
   ],
   "source": [
    "s1 = {1,2,3,4}\n",
    "s2 = {3,4,5,6}\n",
    "print(f\"Union : {s1|s2}\")\n",
    "print(f\"Intersection : {s1&s2}\")"
   ]
  },
  {
   "cell_type": "markdown",
   "id": "fb7f7eaa",
   "metadata": {},
   "source": [
    "11. Create a nested tuple from the dictionary, with each item in the tuple as a key value pair\n",
    "from the dictionary."
   ]
  },
  {
   "cell_type": "code",
   "execution_count": 43,
   "id": "5fac4aae",
   "metadata": {},
   "outputs": [
    {
     "name": "stdout",
     "output_type": "stream",
     "text": [
      "((1, 2), (3, 4), (5, 6))\n"
     ]
    }
   ],
   "source": [
    "d = {1:2,3:4,5:6}\n",
    "print(tuple(d.items()))"
   ]
  },
  {
   "cell_type": "markdown",
   "id": "e2bbdae8",
   "metadata": {},
   "source": [
    "12. Create a list of the first 50 even natural numbers, and perform the following operations.  \n",
    "a. Count the number of elements in the list.  \n",
    "b. Reverse the sequence of the list.  \n",
    "c. Sort the list in ascending and descending order.  \n",
    "d. Get the index value for the element 44, and update the element with the number 100.  \n",
    "e. Return a copy of the list, with the resulting list containing the square of each\n",
    "element."
   ]
  },
  {
   "cell_type": "code",
   "execution_count": 46,
   "id": "b2a71b09",
   "metadata": {},
   "outputs": [
    {
     "name": "stdout",
     "output_type": "stream",
     "text": [
      "[2, 4, 6, 8, 10, 12, 14, 16, 18, 20, 22, 24, 26, 28, 30, 32, 34, 36, 38, 40, 42, 44, 46, 48, 50, 52, 54, 56, 58, 60, 62, 64, 66, 68, 70, 72, 74, 76, 78, 80, 82, 84, 86, 88, 90, 92, 94, 96, 98, 100]\n"
     ]
    }
   ],
   "source": [
    "even_natural_numbers = []\n",
    "num = 1\n",
    "length = 50\n",
    "while len(even_natural_numbers) < length:\n",
    "    if num % 2 == 0:\n",
    "        even_natural_numbers.append(num)\n",
    "    num += 1\n",
    "print(even_natural_numbers)    "
   ]
  },
  {
   "cell_type": "code",
   "execution_count": 47,
   "id": "c407c6d9",
   "metadata": {},
   "outputs": [
    {
     "data": {
      "text/plain": [
       "50"
      ]
     },
     "execution_count": 47,
     "metadata": {},
     "output_type": "execute_result"
    }
   ],
   "source": [
    "len(even_natural_numbers)"
   ]
  },
  {
   "cell_type": "code",
   "execution_count": 50,
   "id": "6c92d9da",
   "metadata": {},
   "outputs": [
    {
     "name": "stdout",
     "output_type": "stream",
     "text": [
      "[100, 98, 96, 94, 92, 90, 88, 86, 84, 82, 80, 78, 76, 74, 72, 70, 68, 66, 64, 62, 60, 58, 56, 54, 52, 50, 48, 46, 44, 42, 40, 38, 36, 34, 32, 30, 28, 26, 24, 22, 20, 18, 16, 14, 12, 10, 8, 6, 4, 2]\n"
     ]
    }
   ],
   "source": [
    "even_natural_numbers.reverse()\n",
    "print(even_natural_numbers)"
   ]
  },
  {
   "cell_type": "code",
   "execution_count": 52,
   "id": "14d83fb2",
   "metadata": {},
   "outputs": [
    {
     "name": "stdout",
     "output_type": "stream",
     "text": [
      "Ascending order:  [2, 4, 6, 8, 10, 12, 14, 16, 18, 20, 22, 24, 26, 28, 30, 32, 34, 36, 38, 40, 42, 44, 46, 48, 50, 52, 54, 56, 58, 60, 62, 64, 66, 68, 70, 72, 74, 76, 78, 80, 82, 84, 86, 88, 90, 92, 94, 96, 98, 100]\n"
     ]
    }
   ],
   "source": [
    "even_natural_numbers.sort()\n",
    "print(\"Ascending order: \",even_natural_numbers)"
   ]
  },
  {
   "cell_type": "code",
   "execution_count": 53,
   "id": "e8a8c247",
   "metadata": {},
   "outputs": [
    {
     "name": "stdout",
     "output_type": "stream",
     "text": [
      "Descending order:  [100, 98, 96, 94, 92, 90, 88, 86, 84, 82, 80, 78, 76, 74, 72, 70, 68, 66, 64, 62, 60, 58, 56, 54, 52, 50, 48, 46, 44, 42, 40, 38, 36, 34, 32, 30, 28, 26, 24, 22, 20, 18, 16, 14, 12, 10, 8, 6, 4, 2]\n"
     ]
    }
   ],
   "source": [
    "even_natural_numbers.sort(reverse=True)\n",
    "print(\"Descending order: \",even_natural_numbers)"
   ]
  },
  {
   "cell_type": "code",
   "execution_count": 54,
   "id": "842c9982",
   "metadata": {},
   "outputs": [
    {
     "name": "stdout",
     "output_type": "stream",
     "text": [
      "[10000, 9604, 9216, 8836, 8464, 8100, 7744, 7396, 7056, 6724, 6400, 6084, 5776, 5476, 5184, 4900, 4624, 4356, 4096, 3844, 3600, 3364, 3136, 2916, 2704, 2500, 2304, 2116, 1936, 1764, 1600, 1444, 1296, 1156, 1024, 900, 784, 676, 576, 484, 400, 324, 256, 196, 144, 100, 64, 36, 16, 4]\n"
     ]
    }
   ],
   "source": [
    "square_list = [num**2 for num in even_natural_numbers]\n",
    "print(square_list)"
   ]
  },
  {
   "cell_type": "markdown",
   "id": "c1b5e482",
   "metadata": {},
   "source": [
    "13. Create a nested dictionary and perform the following operations.  \n",
    "a. Return a list with the key value pairs from the dictionary.  \n",
    "b. Return a list with just the keys from the dictionary.  \n",
    "c. Remove the first and last key value from the dictionary.  \n",
    "d. Update the last key value pair in the dictionary after removing in the 3rd step."
   ]
  },
  {
   "cell_type": "code",
   "execution_count": 70,
   "id": "b4ae4539",
   "metadata": {},
   "outputs": [
    {
     "data": {
      "text/plain": [
       "{1: {2: 3, 4: 5}, 6: {7: 8, 9: 10}, 11: {12: 13, 14: 15}}"
      ]
     },
     "execution_count": 70,
     "metadata": {},
     "output_type": "execute_result"
    }
   ],
   "source": [
    "nested_dict = {1:{2:3,4:5},6:{7:8,9:10},11:{12:13,14:15}}\n",
    "nested_dict"
   ]
  },
  {
   "cell_type": "code",
   "execution_count": 71,
   "id": "7bf6d303",
   "metadata": {},
   "outputs": [
    {
     "data": {
      "text/plain": [
       "[(1, {2: 3, 4: 5}), (6, {7: 8, 9: 10}), (11, {12: 13, 14: 15})]"
      ]
     },
     "execution_count": 71,
     "metadata": {},
     "output_type": "execute_result"
    }
   ],
   "source": [
    "list(nested_dict.items())"
   ]
  },
  {
   "cell_type": "code",
   "execution_count": 72,
   "id": "2d404638",
   "metadata": {},
   "outputs": [
    {
     "data": {
      "text/plain": [
       "[1, 6, 11]"
      ]
     },
     "execution_count": 72,
     "metadata": {},
     "output_type": "execute_result"
    }
   ],
   "source": [
    "key_list = list(nested_dict)\n",
    "key_list"
   ]
  },
  {
   "cell_type": "code",
   "execution_count": 73,
   "id": "dde02094",
   "metadata": {},
   "outputs": [
    {
     "name": "stdout",
     "output_type": "stream",
     "text": [
      "{2: 3, 4: 5}\n",
      "{12: 13, 14: 15}\n",
      "{6: {7: 8, 9: 10}}\n"
     ]
    }
   ],
   "source": [
    "print(nested_dict.pop(key_list[0]))\n",
    "print(nested_dict.pop(key_list[-1]))\n",
    "print(nested_dict)"
   ]
  },
  {
   "cell_type": "code",
   "execution_count": 76,
   "id": "0b2c3efb",
   "metadata": {},
   "outputs": [
    {
     "name": "stdout",
     "output_type": "stream",
     "text": [
      "{6: None}\n"
     ]
    }
   ],
   "source": [
    "nested_dict.update({key_list[-2]:None})\n",
    "print(nested_dict)"
   ]
  },
  {
   "cell_type": "markdown",
   "id": "9960c202",
   "metadata": {},
   "source": [
    "14. For the given strings A = “Python Programming Language”, B = “Best in the World” , perform\n",
    "the following operations.  \n",
    "a. Using indexing operations, get the text “gram” from the string A.  \n",
    "b. Using indexing operations, get the text “World” from the string B.  \n",
    "c. Change the letters in both strings to Uppercase letters.  \n",
    "d. Concatenate the two strings."
   ]
  },
  {
   "cell_type": "code",
   "execution_count": 77,
   "id": "94bef193",
   "metadata": {},
   "outputs": [],
   "source": [
    "A = 'Python Programming Language'\n",
    "B = 'Best in the World'"
   ]
  },
  {
   "cell_type": "code",
   "execution_count": 78,
   "id": "5e1888b1",
   "metadata": {},
   "outputs": [
    {
     "data": {
      "text/plain": [
       "'gram'"
      ]
     },
     "execution_count": 78,
     "metadata": {},
     "output_type": "execute_result"
    }
   ],
   "source": [
    "A[10:14]"
   ]
  },
  {
   "cell_type": "code",
   "execution_count": 81,
   "id": "cfaa1ed6",
   "metadata": {},
   "outputs": [
    {
     "data": {
      "text/plain": [
       "'World'"
      ]
     },
     "execution_count": 81,
     "metadata": {},
     "output_type": "execute_result"
    }
   ],
   "source": [
    "B[12:17]"
   ]
  },
  {
   "cell_type": "code",
   "execution_count": 83,
   "id": "6bcdb455",
   "metadata": {},
   "outputs": [
    {
     "name": "stdout",
     "output_type": "stream",
     "text": [
      "PYTHON PROGRAMMING LANGUAGE\n",
      "BEST IN THE WORLD\n"
     ]
    }
   ],
   "source": [
    "print(A.upper())\n",
    "print(B.upper())"
   ]
  },
  {
   "cell_type": "code",
   "execution_count": 86,
   "id": "c8f19391",
   "metadata": {},
   "outputs": [
    {
     "data": {
      "text/plain": [
       "'Python Programming Language Best in the World'"
      ]
     },
     "execution_count": 86,
     "metadata": {},
     "output_type": "execute_result"
    }
   ],
   "source": [
    "A + \" \" + B"
   ]
  },
  {
   "cell_type": "markdown",
   "id": "88feafc6",
   "metadata": {},
   "source": [
    "15. Create a list with n numbers, and using negative indexing return the list starting from the 5th\n",
    "index to the n-2th index."
   ]
  },
  {
   "cell_type": "code",
   "execution_count": 89,
   "id": "da1f60ee",
   "metadata": {},
   "outputs": [
    {
     "name": "stdout",
     "output_type": "stream",
     "text": [
      "[0, 1, 2, 3, 4, 5, 6, 7, 8, 9]\n",
      "5\n",
      "8\n",
      "[5, 6, 7, 8]\n"
     ]
    }
   ],
   "source": [
    "n = 10\n",
    "lst = [num for num in range(n)]\n",
    "print(lst)\n",
    "print(lst[5])\n",
    "print(lst[n-2])\n",
    "print(lst[-n+5:-1])"
   ]
  },
  {
   "cell_type": "markdown",
   "id": "3ce3533d",
   "metadata": {},
   "source": [
    "16. Using range(), create a list with numbers ranging from 5-100, and the number of elements\n",
    "should be exactly 19."
   ]
  },
  {
   "cell_type": "code",
   "execution_count": 112,
   "id": "d4e3f083",
   "metadata": {},
   "outputs": [],
   "source": [
    "start = 5\n",
    "end = 100\n",
    "num_of_elem = 19\n",
    "step = (end-start)//(num_of_elem-1)\n",
    "lst = [num for num in range(start, end+1, step)]"
   ]
  },
  {
   "cell_type": "code",
   "execution_count": 113,
   "id": "71a0580d",
   "metadata": {},
   "outputs": [
    {
     "data": {
      "text/plain": [
       "20"
      ]
     },
     "execution_count": 113,
     "metadata": {},
     "output_type": "execute_result"
    }
   ],
   "source": [
    "len(lst)"
   ]
  },
  {
   "cell_type": "code",
   "execution_count": 114,
   "id": "c7a5222a",
   "metadata": {},
   "outputs": [
    {
     "data": {
      "text/plain": [
       "[5,\n",
       " 10,\n",
       " 15,\n",
       " 20,\n",
       " 25,\n",
       " 30,\n",
       " 35,\n",
       " 40,\n",
       " 45,\n",
       " 50,\n",
       " 55,\n",
       " 60,\n",
       " 65,\n",
       " 70,\n",
       " 75,\n",
       " 80,\n",
       " 85,\n",
       " 90,\n",
       " 95,\n",
       " 100]"
      ]
     },
     "execution_count": 114,
     "metadata": {},
     "output_type": "execute_result"
    }
   ],
   "source": [
    "lst"
   ]
  }
 ],
 "metadata": {
  "kernelspec": {
   "display_name": "Python 3 (ipykernel)",
   "language": "python",
   "name": "python3"
  },
  "language_info": {
   "codemirror_mode": {
    "name": "ipython",
    "version": 3
   },
   "file_extension": ".py",
   "mimetype": "text/x-python",
   "name": "python",
   "nbconvert_exporter": "python",
   "pygments_lexer": "ipython3",
   "version": "3.10.9"
  }
 },
 "nbformat": 4,
 "nbformat_minor": 5
}
