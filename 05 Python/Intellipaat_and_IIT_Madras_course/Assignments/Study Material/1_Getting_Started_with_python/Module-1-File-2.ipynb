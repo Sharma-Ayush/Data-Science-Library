{
 "cells": [
  {
   "cell_type": "markdown",
   "id": "54f94c6c",
   "metadata": {},
   "source": [
    "# Getting Started with Python (Hands-on 2)"
   ]
  },
  {
   "cell_type": "markdown",
   "id": "1775f2d4",
   "metadata": {},
   "source": [
    "## Module 1 -"
   ]
  },
  {
   "cell_type": "markdown",
   "id": "f68683ef",
   "metadata": {},
   "source": [
    "### Problem Statement:"
   ]
  },
  {
   "cell_type": "markdown",
   "id": "7ef31253",
   "metadata": {},
   "source": [
    "The computations on several operations can be a tedious task for some. Your company has\n",
    "assigned a task for you to minimize the effort and enhance the productivity for several of these\n",
    "tasks. Simple tasks like finding the larger number among the lot, or changing the digits of a\n",
    "given number, etc."
   ]
  },
  {
   "cell_type": "markdown",
   "id": "2fa9a912",
   "metadata": {},
   "source": [
    "### Tasks To be Performed:"
   ]
  },
  {
   "cell_type": "markdown",
   "id": "1f0c9207",
   "metadata": {},
   "source": [
    "1. For a given list that contains numbers from 1 to 20. Using a for loop, create a new list\n",
    "that contains the square of each element from the given list."
   ]
  },
  {
   "cell_type": "code",
   "execution_count": 2,
   "id": "8cd5d6ad",
   "metadata": {},
   "outputs": [
    {
     "name": "stdout",
     "output_type": "stream",
     "text": [
      "[1, 4, 9, 16, 25, 36, 49, 64, 81, 100, 121, 144, 169, 196, 225, 256, 289, 324, 361, 400]\n"
     ]
    }
   ],
   "source": [
    "lst = [num for num in range(1,21)]\n",
    "square_lst = []\n",
    "for num in lst:\n",
    "    square_lst.append(num**2)\n",
    "print(square_lst)"
   ]
  },
  {
   "cell_type": "markdown",
   "id": "8a47ccf4",
   "metadata": {},
   "source": [
    "2. For a given dictionary that contains numbers from 1-10 as keys, and their square as\n",
    "values, display each key-value pair using a for loop."
   ]
  },
  {
   "cell_type": "code",
   "execution_count": 3,
   "id": "d1562b67",
   "metadata": {},
   "outputs": [
    {
     "name": "stdout",
     "output_type": "stream",
     "text": [
      "1-1\n",
      "2-4\n",
      "3-9\n",
      "4-16\n",
      "5-25\n",
      "6-36\n",
      "7-49\n",
      "8-64\n",
      "9-81\n",
      "10-100\n"
     ]
    }
   ],
   "source": [
    "d = {i:i**2 for i in range(1,11)}\n",
    "for key, value in d.items():\n",
    "    print(f\"{key}-{value}\")"
   ]
  },
  {
   "cell_type": "markdown",
   "id": "88d095bc",
   "metadata": {},
   "source": [
    "3. A tuple contains even numbers from 1-20. Display all the items in a tuple using a for\n",
    "loop."
   ]
  },
  {
   "cell_type": "code",
   "execution_count": 4,
   "id": "d495f875",
   "metadata": {},
   "outputs": [
    {
     "name": "stdout",
     "output_type": "stream",
     "text": [
      "1\n",
      "2\n",
      "3\n",
      "4\n",
      "5\n",
      "6\n",
      "7\n",
      "8\n",
      "9\n",
      "10\n",
      "11\n",
      "12\n",
      "13\n",
      "14\n",
      "15\n",
      "16\n",
      "17\n",
      "18\n",
      "19\n",
      "20\n"
     ]
    }
   ],
   "source": [
    "t = tuple([num for num in range(1,21)])\n",
    "for num in t:\n",
    "    print(num)"
   ]
  },
  {
   "cell_type": "markdown",
   "id": "e1ae3d74",
   "metadata": {},
   "source": [
    "4. A set contains odd numbers from 1-20. Display the items in a set using a for loop."
   ]
  },
  {
   "cell_type": "code",
   "execution_count": 5,
   "id": "8d27b719",
   "metadata": {},
   "outputs": [
    {
     "name": "stdout",
     "output_type": "stream",
     "text": [
      "1\n",
      "3\n",
      "5\n",
      "7\n",
      "9\n",
      "11\n",
      "13\n",
      "15\n",
      "17\n",
      "19\n"
     ]
    }
   ],
   "source": [
    "s = {num for num in range(1,21) if num%2!=0}\n",
    "for num in s:\n",
    "    print(num)"
   ]
  },
  {
   "cell_type": "markdown",
   "id": "fd8e3a90",
   "metadata": {},
   "source": [
    "5. For a given sequence of nested lists, display the elements using a for loop.  \n",
    "a = [[1,2],[3,4],[5,6],[7,8]]"
   ]
  },
  {
   "cell_type": "code",
   "execution_count": 6,
   "id": "b26b7883",
   "metadata": {},
   "outputs": [
    {
     "name": "stdout",
     "output_type": "stream",
     "text": [
      "[1, 2]\n",
      "[3, 4]\n",
      "[5, 6]\n",
      "[7, 8]\n"
     ]
    }
   ],
   "source": [
    "a = [[1,2],[3,4],[5,6],[7,8]]\n",
    "for elem in a:\n",
    "    print(elem)"
   ]
  },
  {
   "cell_type": "code",
   "execution_count": 7,
   "id": "2afd3a7d",
   "metadata": {},
   "outputs": [
    {
     "name": "stdout",
     "output_type": "stream",
     "text": [
      "1\n",
      "2\n",
      "3\n",
      "4\n",
      "5\n",
      "6\n",
      "7\n",
      "8\n"
     ]
    }
   ],
   "source": [
    "a = [[1,2],[3,4],[5,6],[7,8]]\n",
    "for elem in a:\n",
    "    for i in elem:\n",
    "        print(i)"
   ]
  },
  {
   "cell_type": "markdown",
   "id": "0c963dba",
   "metadata": {},
   "source": [
    "6. For a given sequence of nested dictionaries, display all the values in the dictionary.\n",
    "a = {1: {'one':1}, 2: {'two':2}, 3: {'three':3}}"
   ]
  },
  {
   "cell_type": "code",
   "execution_count": 11,
   "id": "82036e88",
   "metadata": {},
   "outputs": [
    {
     "name": "stdout",
     "output_type": "stream",
     "text": [
      "{'one': 1}\n",
      "1\n",
      "{'two': 2}\n",
      "2\n",
      "{'three': 3}\n",
      "3\n"
     ]
    }
   ],
   "source": [
    "a = {1: {'one':1}, 2: {'two':2}, 3: {'three':3}}\n",
    "\n",
    "for i in a:\n",
    "    print(a[i])\n",
    "    for j in a[i]:\n",
    "        print(a[i][j])"
   ]
  },
  {
   "cell_type": "markdown",
   "id": "4ea430e9",
   "metadata": {},
   "source": [
    "7. For a given list of natural numbers from 1-100, using the while loop, print only the\n",
    "numbers that are divisible by 2."
   ]
  },
  {
   "cell_type": "code",
   "execution_count": 10,
   "id": "910b9798",
   "metadata": {},
   "outputs": [],
   "source": [
    "lst = [num for num in range(1,101)]"
   ]
  },
  {
   "cell_type": "code",
   "execution_count": 11,
   "id": "421026d0",
   "metadata": {},
   "outputs": [
    {
     "name": "stdout",
     "output_type": "stream",
     "text": [
      "2\n",
      "4\n",
      "6\n",
      "8\n",
      "10\n",
      "12\n",
      "14\n",
      "16\n",
      "18\n",
      "20\n",
      "22\n",
      "24\n",
      "26\n",
      "28\n",
      "30\n",
      "32\n",
      "34\n",
      "36\n",
      "38\n",
      "40\n",
      "42\n",
      "44\n",
      "46\n",
      "48\n",
      "50\n",
      "52\n",
      "54\n",
      "56\n",
      "58\n",
      "60\n",
      "62\n",
      "64\n",
      "66\n",
      "68\n",
      "70\n",
      "72\n",
      "74\n",
      "76\n",
      "78\n",
      "80\n",
      "82\n",
      "84\n",
      "86\n",
      "88\n",
      "90\n",
      "92\n",
      "94\n",
      "96\n",
      "98\n",
      "100\n"
     ]
    }
   ],
   "source": [
    "index = 0\n",
    "while index < len(lst):\n",
    "    if lst[index]%2==0:\n",
    "        print(lst[index])\n",
    "    index+=1"
   ]
  },
  {
   "cell_type": "markdown",
   "id": "d068f194",
   "metadata": {},
   "source": [
    "8. Print the first 5 multiples of 3 using a while loop."
   ]
  },
  {
   "cell_type": "code",
   "execution_count": 12,
   "id": "23990d19",
   "metadata": {},
   "outputs": [
    {
     "name": "stdout",
     "output_type": "stream",
     "text": [
      "3\n",
      "6\n",
      "9\n",
      "12\n",
      "15\n"
     ]
    }
   ],
   "source": [
    "num_of_multiples = 5\n",
    "multiplier = 1\n",
    "num = 3\n",
    "while multiplier <= num_of_multiples:\n",
    "    print(num*multiplier)\n",
    "    multiplier+=1\n",
    "    "
   ]
  },
  {
   "cell_type": "markdown",
   "id": "1185d9e3",
   "metadata": {},
   "source": [
    "9. For a given dictionary that contains the first 10 natural numbers as keys, and their cubes\n",
    "as values, display the key value pairs using a while loop."
   ]
  },
  {
   "cell_type": "code",
   "execution_count": 15,
   "id": "77d1124e",
   "metadata": {},
   "outputs": [
    {
     "name": "stdout",
     "output_type": "stream",
     "text": [
      "1 1\n",
      "2 8\n",
      "3 27\n",
      "4 64\n",
      "5 125\n",
      "6 216\n",
      "7 343\n",
      "8 512\n",
      "9 729\n",
      "10 1000\n"
     ]
    }
   ],
   "source": [
    "d = {i:i**3 for i in range(1,11)}\n",
    "key_list = list(d)\n",
    "count = 0\n",
    "while count < len(d):\n",
    "    print(key_list[count],d[key_list[count]])\n",
    "    count+=1"
   ]
  },
  {
   "cell_type": "markdown",
   "id": "30a84f32",
   "metadata": {},
   "source": [
    "10. Write a program using a while loop demonstrating the usage of break, continue and pass\n",
    "statements along with if else statements."
   ]
  },
  {
   "cell_type": "code",
   "execution_count": 10,
   "id": "7d04d264",
   "metadata": {},
   "outputs": [
    {
     "name": "stdout",
     "output_type": "stream",
     "text": [
      "Enter even integers only(press q to quit, odd numbers will be ignored):2\n",
      "Appended : 2\n",
      "Enter even integers only(press q to quit, odd numbers will be ignored):4\n",
      "Appended : 4\n",
      "Enter even integers only(press q to quit, odd numbers will be ignored):6\n",
      "Appended : 6\n",
      "Enter even integers only(press q to quit, odd numbers will be ignored):1\n",
      "Skipped : 1\n",
      "Enter even integers only(press q to quit, odd numbers will be ignored):53\n",
      "Skipped : 53\n",
      "Enter even integers only(press q to quit, odd numbers will be ignored):2\n",
      "Appended : 2\n",
      "Enter even integers only(press q to quit, odd numbers will be ignored):7\n",
      "Skipped : 7\n",
      "Enter even integers only(press q to quit, odd numbers will be ignored):q\n",
      "User entered q. Quitting...\n",
      "lst=[2, 4, 6, 2]\n"
     ]
    }
   ],
   "source": [
    "lst = []\n",
    "while True:\n",
    "    user_input = input(\"Enter even integers only(press q to quit, odd numbers will be ignored):\")\n",
    "    if user_input == 'q':\n",
    "        print(\"User entered q. Quitting...\")\n",
    "        break\n",
    "    else:\n",
    "        user_input = int(user_input)\n",
    "        if user_input % 2 == 0:\n",
    "            print(f\"Appended : {user_input}\")\n",
    "            lst.append(user_input)\n",
    "            continue\n",
    "        pass\n",
    "        print(f\"Skipped : {user_input}\")\n",
    "print(f'{lst=}')"
   ]
  },
  {
   "cell_type": "markdown",
   "id": "6a33cfdd",
   "metadata": {},
   "source": [
    "11. Write a program using a for loop demonstrating the usage of break, continue and pass\n",
    "statements along with if else statements."
   ]
  },
  {
   "cell_type": "code",
   "execution_count": 8,
   "id": "2a46e120",
   "metadata": {},
   "outputs": [
    {
     "name": "stdout",
     "output_type": "stream",
     "text": [
      "Skipped : -10\n",
      "Appended : -9\n",
      "Skipped : -8\n",
      "Skipped : -7\n",
      "Appended : -6\n",
      "Skipped : -5\n",
      "Skipped : -4\n",
      "Appended : -3\n",
      "Skipped : -2\n",
      "Skipped : -1\n",
      "Encountered zero. Quitting...\n",
      "lst=[-9, -6, -3]\n"
     ]
    }
   ],
   "source": [
    "start= -10\n",
    "end = 10\n",
    "lst = []\n",
    "for i in range(start, end):\n",
    "    if i == 0:\n",
    "        print(\"Encountered zero. Quitting...\")\n",
    "        break\n",
    "    elif i%3 == 0:\n",
    "        lst.append(i)\n",
    "        print(f'Appended : {i}')\n",
    "        continue\n",
    "    else:\n",
    "        print(f\"Skipped : {i}\")\n",
    "        pass\n",
    "print(f'{lst=}')"
   ]
  },
  {
   "cell_type": "markdown",
   "id": "038fe58f",
   "metadata": {},
   "source": [
    "12. Create a nested for loop to print a pyramid pattern program in python."
   ]
  },
  {
   "cell_type": "code",
   "execution_count": 3,
   "id": "c86676cc",
   "metadata": {},
   "outputs": [
    {
     "name": "stdout",
     "output_type": "stream",
     "text": [
      "    *\n",
      "   ***\n",
      "  *****\n",
      " *******\n",
      "*********\n"
     ]
    }
   ],
   "source": [
    "no_of_lines = 5\n",
    "mark = '*'\n",
    "for i in range(no_of_lines):\n",
    "    print(' '*(no_of_lines-1-i), end = \"\")\n",
    "    for j in  range(2*i+1):\n",
    "        print(mark, end='')\n",
    "    print()"
   ]
  }
 ],
 "metadata": {
  "kernelspec": {
   "display_name": "Python 3 (ipykernel)",
   "language": "python",
   "name": "python3"
  },
  "language_info": {
   "codemirror_mode": {
    "name": "ipython",
    "version": 3
   },
   "file_extension": ".py",
   "mimetype": "text/x-python",
   "name": "python",
   "nbconvert_exporter": "python",
   "pygments_lexer": "ipython3",
   "version": "3.10.9"
  }
 },
 "nbformat": 4,
 "nbformat_minor": 5
}
