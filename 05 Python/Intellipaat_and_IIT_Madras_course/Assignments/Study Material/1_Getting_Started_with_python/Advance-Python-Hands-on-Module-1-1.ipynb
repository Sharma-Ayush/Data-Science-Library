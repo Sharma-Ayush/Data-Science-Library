{
 "cells": [
  {
   "cell_type": "markdown",
   "id": "a88b6b08",
   "metadata": {},
   "source": [
    "# Advance Python Hands-on"
   ]
  },
  {
   "cell_type": "markdown",
   "id": "548253e2",
   "metadata": {},
   "source": [
    "1. You have a bag of chocolates which you need to distribute to a queue of people.  \n",
    "Assuming you have more chocolates than people, write a program that distributes chocolates using the following logic  \n",
    "a. ith person in the queue gets 2ichocolates.  \n",
    "b. If chocolates are still left over after the first iteration of the queue, continue distribution till all chocolates are exhausted or they cannot be distributed any further while conforming to our logic.  \n",
    "Print the total chocolates each person has at the end of this process"
   ]
  },
  {
   "cell_type": "code",
   "execution_count": 20,
   "id": "cfb4e8db",
   "metadata": {},
   "outputs": [],
   "source": [
    "chocolates = 1000\n",
    "people = 10\n",
    "choc_distribution = {}.fromkeys([num for num in range(1, people+1)],0)"
   ]
  },
  {
   "cell_type": "code",
   "execution_count": 21,
   "id": "65a31d83",
   "metadata": {},
   "outputs": [
    {
     "data": {
      "text/plain": [
       "{1: 0, 2: 0, 3: 0, 4: 0, 5: 0, 6: 0, 7: 0, 8: 0, 9: 0, 10: 0}"
      ]
     },
     "execution_count": 21,
     "metadata": {},
     "output_type": "execute_result"
    }
   ],
   "source": [
    "choc_distribution"
   ]
  },
  {
   "cell_type": "code",
   "execution_count": 22,
   "id": "99fa6d84",
   "metadata": {},
   "outputs": [],
   "source": [
    "def distirbute_choc(choc_distribution, chocolates, position=1):\n",
    "    if chocolates < 2*position:\n",
    "        return None\n",
    "    else:\n",
    "        choc_distribution[position]+=2*position\n",
    "        chocolates-=2*position\n",
    "        if position == len(choc_distribution):\n",
    "            return distirbute_choc(choc_distribution, chocolates)\n",
    "        else:\n",
    "            return distirbute_choc(choc_distribution, chocolates, position+1)"
   ]
  },
  {
   "cell_type": "code",
   "execution_count": 23,
   "id": "5b8fb365",
   "metadata": {},
   "outputs": [],
   "source": [
    "distirbute_choc(choc_distribution, chocolates)"
   ]
  },
  {
   "cell_type": "code",
   "execution_count": 24,
   "id": "9d12678f",
   "metadata": {},
   "outputs": [
    {
     "name": "stdout",
     "output_type": "stream",
     "text": [
      "{1: 20, 2: 40, 3: 54, 4: 72, 5: 90, 6: 108, 7: 126, 8: 144, 9: 162, 10: 180}\n"
     ]
    }
   ],
   "source": [
    "print(choc_distribution)"
   ]
  },
  {
   "cell_type": "markdown",
   "id": "16255712",
   "metadata": {},
   "source": [
    "2. You are given a list of lists. Each element of the nested list is a tuple of three positive values, each of them between 0 and 255. Write a function which, when given such a list of lists as input, and a target tuple value (x,y,z) returns the\n",
    "following :  \n",
    "a. A list of dictionaries where the first dictionary in the list represents the points closest to the target tuple value and dictionary contains the following keys  \n",
    "i. “Points” : contains a list of the tuples from our list of lists   \n",
    "ii. “Distances”: contains the corresponding list of distances between the target tuple and the list of tuples present under the key “Point”.  \n",
    "The above structure is used to address the scenario where multiple points are the same distance away from the target tuple  \n",
    "e.g the list of lists looks like so  \n",
    "[[(0,23,55), (100,34,2)], [(255,3,0), (55,250,77)]] and a target tuple looks like (9,9,9)"
   ]
  },
  {
   "cell_type": "code",
   "execution_count": 29,
   "id": "24b870f5",
   "metadata": {},
   "outputs": [
    {
     "name": "stdout",
     "output_type": "stream",
     "text": [
      "[{'Points': [(0, 23, 55)], 'Distances': [48.91829923454004]}, {'Points': [(100, 34, 2)], 'Distances': [94.63086177352503]}, {'Points': [(255, 3, 0)], 'Distances': [246.23769004764483]}, {'Points': [(55, 250, 77)], 'Distances': [254.5996857814243]}]\n"
     ]
    }
   ],
   "source": [
    "lst = [[(0,23,55), (100,34,2)], [(255,3,0), (55,250,77)]]\n",
    "target_tuple = (9, 9, 9)\n",
    "\n",
    "def calc_distance(coord1, coord2):\n",
    "    square_sum = 0\n",
    "    for i, j in zip(coord1, coord2):\n",
    "        square_sum += (i-j)**2\n",
    "    return square_sum**0.5\n",
    "\n",
    "distance_dict = {}\n",
    "\n",
    "for elem in lst:\n",
    "    for coord in elem:\n",
    "        distance = calc_distance(coord, target_tuple)\n",
    "        distance_dict.setdefault(distance, [])\n",
    "        distance_dict[distance].append(coord)\n",
    "        \n",
    "result = []\n",
    "\n",
    "for dist in sorted(distance_dict):\n",
    "    result.append({'Points':distance_dict[dist], 'Distances':[dist]*len(distance_dict[dist])})\n",
    "    \n",
    "print(result)"
   ]
  },
  {
   "cell_type": "code",
   "execution_count": 27,
   "id": "f697a6bf",
   "metadata": {},
   "outputs": [
    {
     "data": {
      "text/plain": [
       "[48.91829923454004, 94.63086177352503, 246.23769004764483, 254.5996857814243]"
      ]
     },
     "execution_count": 27,
     "metadata": {},
     "output_type": "execute_result"
    }
   ],
   "source": [
    "sorted(distance_dict)"
   ]
  },
  {
   "cell_type": "markdown",
   "id": "522b49f0",
   "metadata": {},
   "source": [
    "3. Write a function that takes in a list of lists and two indices i and j as input and prints the following  \n",
    "a. the ith row of the matrix  \n",
    "b. the jth column of the matrix  \n",
    "c. the ijth element of the matrix  \n",
    "e.g. a equivalence between matrix and list is shown below  \n",
    "[1,2,3 [[1,2,3],[4,5,6],[7,8,9]]  \n",
    "4,5,6 →  \n",
    "7,8,9]"
   ]
  },
  {
   "cell_type": "code",
   "execution_count": 50,
   "id": "277a8d1b",
   "metadata": {},
   "outputs": [],
   "source": [
    "matrix = [[1,2,3],[4,5,6],[7,8,9]]\n",
    "\n",
    "def get_row(matrix, row):\n",
    "    return matrix[row-1]        \n",
    "\n",
    "def get_column(matrix, column):\n",
    "    return [elem[column-1] for elem in matrix]\n",
    "    \n",
    "def get_elem(matrix, row, column):\n",
    "    return get_column([get_row(matrix, row)], column)[0]\n",
    "\n",
    "def get_data(matrix, row, column):\n",
    "    if len(matrix) == 0:\n",
    "        print(\"Unable to find data in the matrix\")\n",
    "    elif not(0 < row < len(matrix) + 1):\n",
    "        print(f\"Unable to find given row number:{row}\")\n",
    "    elif not(0 < column < len(matrix[0]) + 1):\n",
    "        print(f\"Unable to find given column number:{column}\")\n",
    "    else:\n",
    "        print(f\"Row {row} = {get_row(matrix, row)}\")\n",
    "        print(f\"Column {column} = {get_column(matrix, column)}\")\n",
    "        print(f\"Element in {row} row and {column} column = {get_elem(matrix, row, column)}\")"
   ]
  },
  {
   "cell_type": "code",
   "execution_count": 52,
   "id": "444b1824",
   "metadata": {},
   "outputs": [
    {
     "name": "stdout",
     "output_type": "stream",
     "text": [
      "Row 1 = [1, 2, 3]\n",
      "Column 2 = [2, 5, 8]\n",
      "Element in 1 row and 2 column = 2\n"
     ]
    }
   ],
   "source": [
    "get_data(matrix, 1, 2)"
   ]
  },
  {
   "cell_type": "markdown",
   "id": "f7d3c375",
   "metadata": {},
   "source": [
    "4. Given a list of numbers (which can either be positive or negative), write a function which performs the following  \n",
    "a. Accepts an offset as a positive integer  \n",
    "b. Accepts a sort order string i.e. “asc” or “desc”. If “asc” is given as input it sorts this list of numbers in ascending order, and if “desc” is given as input it\n",
    "sorts this list of numbers in descending order  \n",
    "c. After sorting generates a new ordered sequence of numbers where the jthnumber (j starts from 1) in the sequence is the product of the jth number in\n",
    "the list till ith number (i starts from 1) where i = j - offset  \n",
    "e.g. if the sorted list is [5,6,7,8,9] and if offset is 3 then the sequence would be [None,None, None,\n",
    "1680, 3024] where 1680 = 8\\*7\\*6\\*5 and 3024 = 9\\*8\\*7\\*6  \n",
    "d. Write another function for the new condition where the jth number in the sequence is the product of the jth number in the list till ith number where i =\n",
    "j+offset"
   ]
  },
  {
   "cell_type": "code",
   "execution_count": 64,
   "id": "f8301611",
   "metadata": {},
   "outputs": [],
   "source": [
    "from functools import reduce\n",
    "def func_1(lst):\n",
    "    offset = int(input(\"Enter the offset(positive integer): \"))\n",
    "    sort = input(\"Enter the sort order(asc - Ascending, dsc - Descending): \")\n",
    "    if sort == 'asc':\n",
    "        lst.sort()\n",
    "    else:\n",
    "        lst.sort(reverse=True)\n",
    "    new_seq = []\n",
    "    for index in range(0,len(lst)):\n",
    "        sliced_lst = lst[index-offset:index+1]\n",
    "        if len(sliced_lst) != offset+1:\n",
    "            new_seq.append(None)\n",
    "        else:\n",
    "            new_seq.append(reduce(lambda x,y:x*y,sliced_lst))\n",
    "    print(new_seq)\n",
    "    "
   ]
  },
  {
   "cell_type": "code",
   "execution_count": 67,
   "id": "72ad1779",
   "metadata": {},
   "outputs": [
    {
     "name": "stdout",
     "output_type": "stream",
     "text": [
      "Enter the offset(positive integer): 3\n",
      "Enter the sort order(asc - Ascending, dsc - Descending): asc\n",
      "[None, None, None, 1680, 3024]\n"
     ]
    }
   ],
   "source": [
    "func_1([5,6,7,8,9])"
   ]
  },
  {
   "cell_type": "code",
   "execution_count": 62,
   "id": "7cb2157d",
   "metadata": {},
   "outputs": [],
   "source": [
    "def func_2(lst):\n",
    "    offset = int(input(\"Enter the offset(positive integer): \"))\n",
    "    sort = input(\"Enter the sort order(asc - Ascending, dsc - Descending): \")\n",
    "    if sort == 'asc':\n",
    "        lst.sort()\n",
    "    else:\n",
    "        lst.sort(reverse=True)\n",
    "    new_seq = []\n",
    "    for index in range(0,len(lst)):\n",
    "        sliced_lst = lst[index:index+offset+1]\n",
    "        if len(sliced_lst) != offset+1:\n",
    "            new_seq.append(None)\n",
    "        else:\n",
    "            new_seq.append(reduce(lambda x,y:x*y,sliced_lst))\n",
    "    print(new_seq)"
   ]
  },
  {
   "cell_type": "code",
   "execution_count": 63,
   "id": "218b8c5b",
   "metadata": {},
   "outputs": [
    {
     "name": "stdout",
     "output_type": "stream",
     "text": [
      "Enter the offset(positive integer): 3\n",
      "Enter the sort order(asc - Ascending, dsc - Descending): asc\n",
      "[1680, 3024, None, None, None]\n"
     ]
    }
   ],
   "source": [
    "func_2([5,6,7,8,9])"
   ]
  },
  {
   "cell_type": "markdown",
   "id": "ce6d8f6d",
   "metadata": {},
   "source": [
    "5. Given a string containing opening and closing braces verify if the string is balanced or\n",
    "not with regards to opening and closing braces. The braces can be () or {} or [] and\n",
    "any combination of these"
   ]
  },
  {
   "cell_type": "code",
   "execution_count": 70,
   "id": "b5104d00",
   "metadata": {},
   "outputs": [],
   "source": [
    "def check_balanced(string):\n",
    "    bracket_dict = {}.fromkeys('([{', 0)\n",
    "    for char in string:\n",
    "        if char == ')':\n",
    "            bracket_dict['('] -= 1\n",
    "        elif char == ']':\n",
    "            bracket_dict['['] -= 1\n",
    "        elif char == '}':\n",
    "            bracket_dict['{'] -= 1\n",
    "        else:\n",
    "            bracket_dict[char] += 1\n",
    "        if min(bracket_dict.values())==-1:\n",
    "            return False\n",
    "    if set(bracket_dict.values()) == {0}:\n",
    "        return True        "
   ]
  },
  {
   "cell_type": "code",
   "execution_count": 77,
   "id": "f84047b1",
   "metadata": {},
   "outputs": [
    {
     "data": {
      "text/plain": [
       "False"
      ]
     },
     "execution_count": 77,
     "metadata": {},
     "output_type": "execute_result"
    }
   ],
   "source": [
    "check_balanced('(((){}}[]]')"
   ]
  },
  {
   "cell_type": "markdown",
   "id": "8c3a1580",
   "metadata": {},
   "source": [
    "6. Implement horner’s method for polynomial evaluation"
   ]
  },
  {
   "cell_type": "code",
   "execution_count": 78,
   "id": "e452bb2e",
   "metadata": {},
   "outputs": [],
   "source": [
    "def horner_method(coeff_lst, x):\n",
    "    result = 0\n",
    "    for coeff in coeff_lst[:-1]:\n",
    "        result = (result + coeff)*x\n",
    "    return result + coeff_lst[-1]"
   ]
  },
  {
   "cell_type": "code",
   "execution_count": 89,
   "id": "57b58550",
   "metadata": {},
   "outputs": [
    {
     "data": {
      "text/plain": [
       "-8.665066886237582e-09"
      ]
     },
     "execution_count": 89,
     "metadata": {},
     "output_type": "execute_result"
    }
   ],
   "source": [
    "horner_method([2,0,3,1],2)"
   ]
  },
  {
   "cell_type": "markdown",
   "id": "ad5f5229",
   "metadata": {},
   "source": [
    "7. Compute the autocorrelation of a signal for a given lag. Lag can go from 1 to N-2\n",
    "where N is the length of the signal"
   ]
  },
  {
   "cell_type": "code",
   "execution_count": 80,
   "id": "9308d0df",
   "metadata": {},
   "outputs": [],
   "source": [
    "from functools import reduce\n",
    "\n",
    "def autocorrelation(data, lag):\n",
    "    N = len(data)\n",
    "    if Lag < 1 or Lag > N-2:\n",
    "        print(\"Invalid lag\")\n",
    "        return\n",
    "    else:\n",
    "        avg = sum(data)/N\n",
    "        ac = 0\n",
    "        for index in range(0, N-k):\n",
    "            ac += (data[index + lag] - avg)*(data[index] - avg)\n",
    "        return ac/(reduce(lambda x,y:x+(y-avg)**2,data,0))\n",
    "        "
   ]
  },
  {
   "cell_type": "markdown",
   "id": "54d3830b",
   "metadata": {},
   "source": [
    "8. Implement the Newton-Raphson method for finding the real roots of an nth degree polynomial with real valued coefficients. If the polynomial has no real roots your function should throw an error indicating the same. Your function should also take a debug boolean flag variable, which when set to true prints the following:  \n",
    "a. The iteration number  \n",
    "b. The function value  \n",
    "c. The gradient of the function  \n",
    "d. The residual error"
   ]
  },
  {
   "cell_type": "code",
   "execution_count": 87,
   "id": "27f8cd55",
   "metadata": {},
   "outputs": [],
   "source": [
    "def horner_method(coeff_lst, x):\n",
    "    result = 0\n",
    "    for coeff in coeff_lst[:-1]:\n",
    "        result = (result + coeff)*x\n",
    "    return result + coeff_lst[-1]\n",
    "\n",
    "def newton_raphson(coeff_lst, root, debug = False, error = 0.001):\n",
    "    count = 1\n",
    "    N = len(coeff_lst) - 1\n",
    "    diff_coeff_lst = [coeff * (N-index) for index, coeff in enumerate(coeff_lst[:-1])]\n",
    "    while count < 1000:\n",
    "        func_val = horner_method(coeff_lst, root)\n",
    "        gradient = horner_method(diff_coeff_lst, root)\n",
    "        root_new = root - func_val/gradient\n",
    "        residual_error = root_new - root\n",
    "        if debug == True:\n",
    "            print(f\"{count}, {func_val}, {gradient}, {residual_error}\")\n",
    "        if abs(root_new - root) < error:\n",
    "            print(f\"root = {root_new}\")\n",
    "            \n",
    "        count+=1\n",
    "        root = root_new"
   ]
  },
  {
   "cell_type": "code",
   "execution_count": 88,
   "id": "59b10092",
   "metadata": {},
   "outputs": [
    {
     "name": "stdout",
     "output_type": "stream",
     "text": [
      "1, 23, 27, -0.8518518518518519\n",
      "2, 7.471523649850123, 10.909465020576132, -0.6848661814083666\n",
      "3, 2.588714484697985, 4.287781084237681, -0.6037422232712305\n",
      "4, 0.573076926100254, 3.118374501989283, -0.18377424704270606\n",
      "5, -0.04087576913576463, 3.6307680798478725, 0.011258160322230593\n",
      "6, -0.0002437190390407462, 3.587725148612079, 6.793135732124922e-05\n",
      "root = -0.3129084118946032\n"
     ]
    }
   ],
   "source": [
    "newton_raphson([2,0,3,1],2,True)"
   ]
  },
  {
   "cell_type": "markdown",
   "id": "82fda9b0",
   "metadata": {},
   "source": [
    "9. Implement taylor series expansion of the sine function. Show that with increasing number of terms, the error in the value of the function drops 10.Given a positive integer N, find the closest number to N which can be written as 2p"
   ]
  },
  {
   "cell_type": "code",
   "execution_count": 96,
   "id": "ce622243",
   "metadata": {},
   "outputs": [],
   "source": [
    "from math import sin\n",
    "def factorial(n):\n",
    "    if n == 0:\n",
    "        return 1\n",
    "    else:\n",
    "        return n*factorial(n-1)\n",
    "    \n",
    "def taylor_sin(x, N):\n",
    "    result = 0\n",
    "    for num in range(N):\n",
    "        power = 2*num+1\n",
    "        result += ((-1)**num)*((x**power)/factorial(power))\n",
    "    return (sin(x), result, abs(sin(x)-result))"
   ]
  },
  {
   "cell_type": "code",
   "execution_count": 97,
   "id": "7fb6325b",
   "metadata": {},
   "outputs": [
    {
     "data": {
      "text/plain": [
       "(0.9999966104448353, 0.9999966104448352, 1.1102230246251565e-16)"
      ]
     },
     "execution_count": 97,
     "metadata": {},
     "output_type": "execute_result"
    }
   ],
   "source": [
    "taylor_sin(3.1468/2, 10)"
   ]
  },
  {
   "cell_type": "code",
   "execution_count": 98,
   "id": "cef88439",
   "metadata": {},
   "outputs": [
    {
     "data": {
      "text/plain": [
       "(0.9999966104448353, 1.000000217971362, 3.607526526727689e-06)"
      ]
     },
     "execution_count": 98,
     "metadata": {},
     "output_type": "execute_result"
    }
   ],
   "source": [
    "taylor_sin(3.1468/2, 5)"
   ]
  }
 ],
 "metadata": {
  "kernelspec": {
   "display_name": "Python 3 (ipykernel)",
   "language": "python",
   "name": "python3"
  },
  "language_info": {
   "codemirror_mode": {
    "name": "ipython",
    "version": 3
   },
   "file_extension": ".py",
   "mimetype": "text/x-python",
   "name": "python",
   "nbconvert_exporter": "python",
   "pygments_lexer": "ipython3",
   "version": "3.10.9"
  }
 },
 "nbformat": 4,
 "nbformat_minor": 5
}
