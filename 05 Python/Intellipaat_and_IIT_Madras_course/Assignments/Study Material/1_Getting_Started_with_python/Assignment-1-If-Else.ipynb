{
 "cells": [
  {
   "cell_type": "markdown",
   "id": "0ac61914",
   "metadata": {},
   "source": [
    "# Module 1: If-Else Assignment"
   ]
  },
  {
   "cell_type": "markdown",
   "id": "5b4e47fa",
   "metadata": {},
   "source": [
    "### Problem Statement:"
   ]
  },
  {
   "cell_type": "markdown",
   "id": "fb7f8854",
   "metadata": {},
   "source": [
    "You work in XYZ Corporation as a Data Analyst. Your company has told you to\n",
    "work with the if-else condition."
   ]
  },
  {
   "cell_type": "markdown",
   "id": "78d58d50",
   "metadata": {},
   "source": [
    "### Tasks To Be Performed:"
   ]
  },
  {
   "cell_type": "markdown",
   "id": "eba66924",
   "metadata": {},
   "source": [
    "1. Input the values of a and b as 10 and 20 respectively. Now check if a is\n",
    "greater or b is greater using if condition. Think about all the edge cases,\n",
    "and print the statements accordingly."
   ]
  },
  {
   "cell_type": "code",
   "execution_count": 1,
   "id": "beb14d69",
   "metadata": {},
   "outputs": [
    {
     "name": "stdout",
     "output_type": "stream",
     "text": [
      "a=10 is lesser than b=20\n"
     ]
    }
   ],
   "source": [
    "a, b = 10, 20\n",
    "if a > b:\n",
    "    print(f'{a=} is greater than {b=}')\n",
    "elif a < b:\n",
    "    print(f'{a=} is lesser than {b=}')\n",
    "else:\n",
    "    print(f'{a=} is equal to {b=}')"
   ]
  }
 ],
 "metadata": {
  "kernelspec": {
   "display_name": "Python 3 (ipykernel)",
   "language": "python",
   "name": "python3"
  },
  "language_info": {
   "codemirror_mode": {
    "name": "ipython",
    "version": 3
   },
   "file_extension": ".py",
   "mimetype": "text/x-python",
   "name": "python",
   "nbconvert_exporter": "python",
   "pygments_lexer": "ipython3",
   "version": "3.10.9"
  }
 },
 "nbformat": 4,
 "nbformat_minor": 5
}
