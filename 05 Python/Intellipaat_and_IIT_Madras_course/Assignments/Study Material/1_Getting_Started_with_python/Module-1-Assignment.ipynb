{
 "cells": [
  {
   "cell_type": "markdown",
   "id": "4e425010",
   "metadata": {},
   "source": [
    "# Python Basics Assignment"
   ]
  },
  {
   "cell_type": "markdown",
   "id": "5aa51efc",
   "metadata": {},
   "source": [
    "Q1. Using Python script as a calculator  \n",
    "Create the variables n, r, p and assign them values 10, 5, and 100 respectively.  \n",
    "Then evaluate the following expression in the Python console.  \n",
    "𝐴 = 𝑝 (1 + 𝑟/ 100)^n  \n",
    "a. 100  \n",
    "b. 162.89  \n",
    "c. 189  \n",
    "d. None of the above"
   ]
  },
  {
   "cell_type": "code",
   "execution_count": 2,
   "id": "2787559a",
   "metadata": {},
   "outputs": [
    {
     "name": "stdout",
     "output_type": "stream",
     "text": [
      "162.8894626777442\n"
     ]
    }
   ],
   "source": [
    "n, r, p = 10, 5, 100\n",
    "A = p * (1 + r / 100)**n\n",
    "print(A)"
   ]
  },
  {
   "cell_type": "markdown",
   "id": "aaa9d522",
   "metadata": {},
   "source": [
    "Q2. In a given string format operation, how will you print the given string.  \n",
    "A = 10  \n",
    "B = 20  \n",
    "Str = \"There are {} students in the class, with {} who play at least one sport.\"  \n",
    "a. print(string.format(a,b))  \n",
    "b. print(string+a+b)  \n",
    "c. print(string.format(b,a))  \n",
    "d. None of the above"
   ]
  },
  {
   "cell_type": "code",
   "execution_count": 5,
   "id": "f8fdef16",
   "metadata": {},
   "outputs": [
    {
     "name": "stdout",
     "output_type": "stream",
     "text": [
      "There are 20 students in the class, with 10 who play at least one sport.\n"
     ]
    }
   ],
   "source": [
    "A = 10\n",
    "B = 20\n",
    "Str = \"There are {} students in the class, with {} who play at least one sport.\"\n",
    "print(Str.format(B,A))"
   ]
  },
  {
   "cell_type": "markdown",
   "id": "59a45b2a",
   "metadata": {},
   "source": [
    "Q3. In a given sample string, How do you print a double quoted string in between a regular string using the escape character?  \n",
    "Sample output = It goes without saying, “Time is Money”, and none can deny it.  \n",
    "a. print(“It goes without saying, \\“Time is Money\\”, and none can deny it.”)  \n",
    "b. print(“It goes without saying, \\Time is Money\\, and none can deny it.”)  \n",
    "c. print(“It goes without saying” + “Time is Money” + “and none can deny it.”)  \n",
    "d. None of the above."
   ]
  },
  {
   "cell_type": "code",
   "execution_count": 6,
   "id": "893c5227",
   "metadata": {},
   "outputs": [
    {
     "name": "stdout",
     "output_type": "stream",
     "text": [
      "It goes without saying, \"Time is Money\", and none can deny it.\n"
     ]
    }
   ],
   "source": [
    "print(\"It goes without saying, \\\"Time is Money\\\", and none can deny it.\")"
   ]
  },
  {
   "cell_type": "markdown",
   "id": "ac199df3",
   "metadata": {},
   "source": [
    "Q4. What will be the output of the following code?  \n",
    "x = lambda a,b: a//b  \n",
    "x(10,3)  \n",
    "a. 3.3333333333  \n",
    "b. 3  \n",
    "c. 30  \n",
    "d. 1000"
   ]
  },
  {
   "cell_type": "markdown",
   "id": "e237a79d",
   "metadata": {},
   "source": [
    "##### b. 3"
   ]
  },
  {
   "cell_type": "markdown",
   "id": "323605aa",
   "metadata": {},
   "source": [
    "Q5. What will be the output of the following code?  \n",
    "A = 10  \n",
    "B = 12  \n",
    "print(\"Smaller\") if A == B else print(\"Greater\") if A < B else print(\"True\")  \n",
    "a. True  \n",
    "b. Smaller  \n",
    "c. Greater  \n",
    "d. None of the above"
   ]
  },
  {
   "cell_type": "markdown",
   "id": "27e78467",
   "metadata": {},
   "source": [
    "##### c. Greater"
   ]
  },
  {
   "cell_type": "markdown",
   "id": "6e4f08eb",
   "metadata": {},
   "source": [
    "Q6. What will be the output of the following code?"
   ]
  },
  {
   "attachments": {
    "image.png": {
     "image/png": "[encoded data removed]"
    }
   },
   "cell_type": "markdown",
   "id": "f882a9d2",
   "metadata": {},
   "source": [
    "![image.png](attachment:image.png)"
   ]
  },
  {
   "cell_type": "markdown",
   "id": "b9ce43bb",
   "metadata": {},
   "source": [
    "a. [2, 7, 3 , 5, 4, 6]  \n",
    "b. TypeError  \n",
    "c. NameError: name 'numpy' is not defined  \n",
    "d. None of the above"
   ]
  },
  {
   "cell_type": "markdown",
   "id": "cbfc5e5b",
   "metadata": {},
   "source": [
    "##### c. NameError: name 'numpy' is not defined"
   ]
  },
  {
   "cell_type": "markdown",
   "id": "f7e62eef",
   "metadata": {},
   "source": [
    "Q7. Create a string called ‘string’ with the value as “Machine Learning”. Which code(s)\n",
    "is/are appropriate to slice the substring “Learn”?  \n",
    "a. string[slice(13,8,1)]  \n",
    "b. string[slice(1,8,1)]  \n",
    "c. string[8:14]  \n",
    "d. string[slice(8,13,1)]  "
   ]
  },
  {
   "cell_type": "markdown",
   "id": "a82d7520",
   "metadata": {},
   "source": [
    "##### d. string[slice(8,13,1)]"
   ]
  },
  {
   "cell_type": "markdown",
   "id": "5cf82549",
   "metadata": {},
   "source": [
    "Q8. Create a sequence of numbers from 10 to 25 and increment by 4. What is the index of the value 18?  \n",
    "a. 3  \n",
    "b. 2  \n",
    "c. 0  \n",
    "d. 1"
   ]
  },
  {
   "cell_type": "code",
   "execution_count": 11,
   "id": "ead84ef0",
   "metadata": {},
   "outputs": [
    {
     "name": "stdout",
     "output_type": "stream",
     "text": [
      "2\n"
     ]
    }
   ],
   "source": [
    "lst = [num for num in range(10, 26, 4)]\n",
    "print(lst.index(18))"
   ]
  },
  {
   "cell_type": "markdown",
   "id": "457be995",
   "metadata": {},
   "source": [
    "Q9. Which of the following is true with respect to the below codes?"
   ]
  },
  {
   "attachments": {
    "image.png": {
     "image/png": "[encoded data removed]"
    }
   },
   "cell_type": "markdown",
   "id": "78292687",
   "metadata": {},
   "source": [
    "![image.png](attachment:image.png)"
   ]
  },
  {
   "cell_type": "markdown",
   "id": "4ee29b49",
   "metadata": {},
   "source": [
    "a. num1 = num2  \n",
    "b. num1 ≠ num2  \n",
    "c. num1 < num2  \n",
    "d. num1 > num2"
   ]
  },
  {
   "cell_type": "markdown",
   "id": "241142f1",
   "metadata": {},
   "source": [
    "##### a. num1 = num2"
   ]
  },
  {
   "cell_type": "markdown",
   "id": "0d98195b",
   "metadata": {},
   "source": [
    "Q10.A Python NameError exception is raised when: - (more than 1 answers are correct)  \n",
    "a. Trying to access a variable which has not been defined  \n",
    "b. Trying to access a key in a dictionary that does not exist  \n",
    "c. Accessing a column with misspelled column name  \n",
    "d. Accessing the function from a module that has not been imported"
   ]
  },
  {
   "cell_type": "markdown",
   "id": "5dbc3c94",
   "metadata": {},
   "source": [
    "##### a. Trying to access a variable which has not been defined\n",
    "##### d. Accessing the function from a module that has not been imported"
   ]
  },
  {
   "cell_type": "markdown",
   "id": "14c4609f",
   "metadata": {},
   "source": [
    "Q11.What type of exception will be raised for the code given below?"
   ]
  },
  {
   "attachments": {
    "image.png": {
     "image/png": "[encoded data removed]"
    }
   },
   "cell_type": "markdown",
   "id": "f0d62f95",
   "metadata": {},
   "source": [
    "![image.png](attachment:image.png)"
   ]
  },
  {
   "cell_type": "markdown",
   "id": "fc2b2c34",
   "metadata": {},
   "source": [
    "a. NameError  \n",
    "b. KeyError  \n",
    "c. ValueError  \n",
    "d. AttributeError"
   ]
  },
  {
   "cell_type": "markdown",
   "id": "4dc75fdb",
   "metadata": {},
   "source": [
    "##### c. ValueError"
   ]
  },
  {
   "cell_type": "markdown",
   "id": "a9a70e1d",
   "metadata": {},
   "source": [
    "Q12.A FileNotFoundError exception is raised by operating system errors when: -  \n",
    "a. Trying to create a file or directory which already exists  \n",
    "b. A file or directory is requested but does not exist in the working directory  \n",
    "c. Trying to run an operation without the adequate access rights  \n",
    "d. A directory operation, os.listdir() is requested on something which is not a directory"
   ]
  },
  {
   "cell_type": "markdown",
   "id": "65572980",
   "metadata": {},
   "source": [
    "##### b. A file or directory is requested but does not exist in the working directory"
   ]
  },
  {
   "cell_type": "markdown",
   "id": "d5d1ba69",
   "metadata": {},
   "source": [
    "Q13.Consider a variable Z. The value of Z is \"ID-5632\". Data type of Z is: -  \n",
    "a. Complex  \n",
    "b. Character  \n",
    "c. Integer  \n",
    "d. Boolean"
   ]
  },
  {
   "cell_type": "markdown",
   "id": "8f93d1e2",
   "metadata": {},
   "source": [
    "##### b. Character"
   ]
  },
  {
   "cell_type": "markdown",
   "id": "8ee733f9",
   "metadata": {},
   "source": [
    "Q14.Which of the following variable(s) are string data type?  \n",
    "a. K= “4”  \n",
    "b. J= “Welcome”  \n",
    "c. L= “?”  \n",
    "d. All of the above"
   ]
  },
  {
   "cell_type": "markdown",
   "id": "a29ab164",
   "metadata": {},
   "source": [
    "##### d. All of the above"
   ]
  },
  {
   "cell_type": "markdown",
   "id": "b71e611d",
   "metadata": {},
   "source": [
    "Q15.Choose the symbol/s that does not have the ability to convert any values to string?  \n",
    "a. ( )  \n",
    "b. “ ”  \n",
    "c. {}  \n",
    "d. #"
   ]
  },
  {
   "cell_type": "markdown",
   "id": "60f274c7",
   "metadata": {},
   "source": [
    "##### d. \\#"
   ]
  },
  {
   "cell_type": "markdown",
   "id": "a555aaef",
   "metadata": {},
   "source": [
    "Q16.Create a dictionary ‘Country’ that maps the following countries to their capitals respectively:"
   ]
  },
  {
   "attachments": {
    "image.png": {
     "image/png": "[encoded data removed]"
    }
   },
   "cell_type": "markdown",
   "id": "fe879d3d",
   "metadata": {},
   "source": [
    "![image.png](attachment:image.png)"
   ]
  },
  {
   "cell_type": "markdown",
   "id": "bec70adc",
   "metadata": {},
   "source": [
    "Find 2 commands to replace “Marseilles” with “Paris” is:"
   ]
  },
  {
   "cell_type": "code",
   "execution_count": 16,
   "id": "4ff5477f",
   "metadata": {},
   "outputs": [],
   "source": [
    "Country = {'India':'Delhi', 'China':'Beijing', 'Japan':'Tokyo', 'Qatar':'Doha', 'France':'Marseilles'}"
   ]
  },
  {
   "cell_type": "code",
   "execution_count": 17,
   "id": "a87ec9c9",
   "metadata": {},
   "outputs": [],
   "source": [
    "Country['France'] = 'Paris'"
   ]
  },
  {
   "cell_type": "code",
   "execution_count": 18,
   "id": "bfd99946",
   "metadata": {},
   "outputs": [],
   "source": [
    "Country.update({'France':'Paris'})"
   ]
  },
  {
   "cell_type": "markdown",
   "id": "91774841",
   "metadata": {},
   "source": [
    "Q17. Create the tuples given below  \n",
    "tuple_1 = (1,5,6,7,8)  \n",
    "tuple_2 = (8,9,4)  \n",
    "Identify which of the following code does not work on a tuple.  \n",
    "a. sum(tuple_1)  \n",
    "b. len(tuple_2)  \n",
    "c. tuple_2 + tuple_1  \n",
    "d. tuple_1[3] = 45"
   ]
  },
  {
   "cell_type": "markdown",
   "id": "229a110a",
   "metadata": {},
   "source": [
    "##### d. tuple_1[3] = 45"
   ]
  },
  {
   "cell_type": "markdown",
   "id": "b86c58d2",
   "metadata": {},
   "source": [
    "Q18. How many elements in the following data structure?"
   ]
  },
  {
   "attachments": {
    "image.png": {
     "image/png": "[encoded data removed]"
    }
   },
   "cell_type": "markdown",
   "id": "ece3c208",
   "metadata": {},
   "source": [
    "![image.png](attachment:image.png)"
   ]
  },
  {
   "cell_type": "markdown",
   "id": "b4765ca9",
   "metadata": {},
   "source": [
    "##### 6"
   ]
  },
  {
   "cell_type": "markdown",
   "id": "c7653fb4",
   "metadata": {},
   "source": [
    "Q19.Write a function which finds all pythagorean triplets of triangles whose sides are no\n",
    "greater than a natural number N."
   ]
  },
  {
   "cell_type": "code",
   "execution_count": 22,
   "id": "83e602e9",
   "metadata": {},
   "outputs": [
    {
     "name": "stdout",
     "output_type": "stream",
     "text": [
      "220\n"
     ]
    },
    {
     "data": {
      "text/plain": [
       "[(1, 1, 1),\n",
       " (1, 2, 2),\n",
       " (1, 3, 3),\n",
       " (1, 4, 4),\n",
       " (1, 5, 5),\n",
       " (1, 6, 6),\n",
       " (1, 7, 7),\n",
       " (1, 8, 8),\n",
       " (1, 9, 9),\n",
       " (1, 10, 10),\n",
       " (2, 2, 2),\n",
       " (2, 2, 3),\n",
       " (2, 3, 3),\n",
       " (2, 3, 4),\n",
       " (2, 4, 4),\n",
       " (2, 4, 5),\n",
       " (2, 5, 5),\n",
       " (2, 5, 6),\n",
       " (2, 6, 6),\n",
       " (2, 6, 7),\n",
       " (2, 7, 7),\n",
       " (2, 7, 8),\n",
       " (2, 8, 8),\n",
       " (2, 8, 9),\n",
       " (2, 9, 9),\n",
       " (2, 9, 10),\n",
       " (2, 10, 10),\n",
       " (3, 3, 3),\n",
       " (3, 3, 4),\n",
       " (3, 3, 5),\n",
       " (3, 4, 4),\n",
       " (3, 4, 5),\n",
       " (3, 4, 6),\n",
       " (3, 5, 5),\n",
       " (3, 5, 6),\n",
       " (3, 5, 7),\n",
       " (3, 6, 6),\n",
       " (3, 6, 7),\n",
       " (3, 6, 8),\n",
       " (3, 7, 7),\n",
       " (3, 7, 8),\n",
       " (3, 7, 9),\n",
       " (3, 8, 8),\n",
       " (3, 8, 9),\n",
       " (3, 8, 10),\n",
       " (3, 9, 9),\n",
       " (3, 9, 10),\n",
       " (3, 10, 10),\n",
       " (4, 4, 4),\n",
       " (4, 4, 5),\n",
       " (4, 4, 6),\n",
       " (4, 4, 7),\n",
       " (4, 5, 5),\n",
       " (4, 5, 6),\n",
       " (4, 5, 7),\n",
       " (4, 5, 8),\n",
       " (4, 6, 6),\n",
       " (4, 6, 7),\n",
       " (4, 6, 8),\n",
       " (4, 6, 9),\n",
       " (4, 7, 7),\n",
       " (4, 7, 8),\n",
       " (4, 7, 9),\n",
       " (4, 7, 10),\n",
       " (4, 8, 8),\n",
       " (4, 8, 9),\n",
       " (4, 8, 10),\n",
       " (4, 9, 9),\n",
       " (4, 9, 10),\n",
       " (4, 10, 10),\n",
       " (5, 5, 5),\n",
       " (5, 5, 6),\n",
       " (5, 5, 7),\n",
       " (5, 5, 8),\n",
       " (5, 5, 9),\n",
       " (5, 6, 6),\n",
       " (5, 6, 7),\n",
       " (5, 6, 8),\n",
       " (5, 6, 9),\n",
       " (5, 6, 10),\n",
       " (5, 7, 7),\n",
       " (5, 7, 8),\n",
       " (5, 7, 9),\n",
       " (5, 7, 10),\n",
       " (5, 8, 8),\n",
       " (5, 8, 9),\n",
       " (5, 8, 10),\n",
       " (5, 9, 9),\n",
       " (5, 9, 10),\n",
       " (5, 10, 10),\n",
       " (6, 6, 6),\n",
       " (6, 6, 7),\n",
       " (6, 6, 8),\n",
       " (6, 6, 9),\n",
       " (6, 6, 10),\n",
       " (6, 7, 7),\n",
       " (6, 7, 8),\n",
       " (6, 7, 9),\n",
       " (6, 7, 10),\n",
       " (6, 8, 8),\n",
       " (6, 8, 9),\n",
       " (6, 8, 10),\n",
       " (6, 9, 9),\n",
       " (6, 9, 10),\n",
       " (6, 10, 10),\n",
       " (7, 7, 7),\n",
       " (7, 7, 8),\n",
       " (7, 7, 9),\n",
       " (7, 7, 10),\n",
       " (7, 8, 8),\n",
       " (7, 8, 9),\n",
       " (7, 8, 10),\n",
       " (7, 9, 9),\n",
       " (7, 9, 10),\n",
       " (7, 10, 10),\n",
       " (8, 8, 8),\n",
       " (8, 8, 9),\n",
       " (8, 8, 10),\n",
       " (8, 9, 9),\n",
       " (8, 9, 10),\n",
       " (8, 10, 10),\n",
       " (9, 9, 9),\n",
       " (9, 9, 10),\n",
       " (9, 10, 10),\n",
       " (10, 10, 10)]"
      ]
     },
     "execution_count": 22,
     "metadata": {},
     "output_type": "execute_result"
    }
   ],
   "source": [
    "N = 10\n",
    "combinations = []\n",
    "lst = []\n",
    "for i in range(1, N+1):\n",
    "    for j in range(i, N+1):\n",
    "        for k in range(j, N+1):\n",
    "            if i + j > k and i + k > j and j + k > i:\n",
    "                lst.append((i,j,k))           \n",
    "lst"
   ]
  }
 ],
 "metadata": {
  "kernelspec": {
   "display_name": "Python 3 (ipykernel)",
   "language": "python",
   "name": "python3"
  },
  "language_info": {
   "codemirror_mode": {
    "name": "ipython",
    "version": 3
   },
   "file_extension": ".py",
   "mimetype": "text/x-python",
   "name": "python",
   "nbconvert_exporter": "python",
   "pygments_lexer": "ipython3",
   "version": "3.10.9"
  }
 },
 "nbformat": 4,
 "nbformat_minor": 5
}
