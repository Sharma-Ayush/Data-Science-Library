{
 "cells": [
  {
   "cell_type": "code",
   "execution_count": 2,
   "id": "7776c03a",
   "metadata": {},
   "outputs": [],
   "source": [
    "import pandas as pd\n",
    "import numpy as np"
   ]
  },
  {
   "cell_type": "code",
   "execution_count": 3,
   "id": "a8cb1f27",
   "metadata": {},
   "outputs": [],
   "source": [
    "churn = pd.read_csv('customer_churn-1.csv')"
   ]
  },
  {
   "cell_type": "markdown",
   "id": "b72045e9",
   "metadata": {},
   "source": [
    "# Problem Statement:\n"
   ]
  },
  {
   "cell_type": "markdown",
   "id": "83f273e9",
   "metadata": {},
   "source": [
    "You work in XYZ Corporation as a Data Analyst. Your corporation has told you to\n",
    "analyze the customer_churn dataset with various functions."
   ]
  },
  {
   "cell_type": "markdown",
   "id": "a67db27b",
   "metadata": {},
   "source": [
    "### Tasks To Be Performed:"
   ]
  },
  {
   "cell_type": "markdown",
   "id": "83b8b2be",
   "metadata": {},
   "source": [
    "1. Use a for loop to calculate the number of customers that are getting the\n",
    "tech support and are male senior citizens."
   ]
  },
  {
   "cell_type": "code",
   "execution_count": 53,
   "id": "ae6f77a2",
   "metadata": {},
   "outputs": [
    {
     "name": "stdout",
     "output_type": "stream",
     "text": [
      "Count: 119\n"
     ]
    }
   ],
   "source": [
    "count = 0\n",
    "index = churn.index\n",
    "for ind in index:\n",
    "    row = churn.iloc[ind]\n",
    "    if row['SeniorCitizen'] == 1 and row['gender'] == 'Male' and row['TechSupport'] == 'Yes':\n",
    "        count += 1\n",
    "print(f\"Count: {count}\")        "
   ]
  }
 ],
 "metadata": {
  "kernelspec": {
   "display_name": "Python 3 (ipykernel)",
   "language": "python",
   "name": "python3"
  },
  "language_info": {
   "codemirror_mode": {
    "name": "ipython",
    "version": 3
   },
   "file_extension": ".py",
   "mimetype": "text/x-python",
   "name": "python",
   "nbconvert_exporter": "python",
   "pygments_lexer": "ipython3",
   "version": "3.10.9"
  }
 },
 "nbformat": 4,
 "nbformat_minor": 5
}
