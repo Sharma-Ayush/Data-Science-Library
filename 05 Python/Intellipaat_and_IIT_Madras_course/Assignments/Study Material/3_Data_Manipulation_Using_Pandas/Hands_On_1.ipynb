{
 "cells": [
  {
   "cell_type": "code",
   "execution_count": 1,
   "id": "2dfda287",
   "metadata": {},
   "outputs": [],
   "source": [
    "import pandas as pd"
   ]
  },
  {
   "cell_type": "code",
   "execution_count": 2,
   "id": "b18fbc57",
   "metadata": {},
   "outputs": [],
   "source": [
    "import numpy as np"
   ]
  },
  {
   "cell_type": "code",
   "execution_count": 3,
   "id": "f3972f8a",
   "metadata": {},
   "outputs": [
    {
     "data": {
      "text/plain": [
       "0    1\n",
       "1    2\n",
       "2    3\n",
       "3    4\n",
       "4    5\n",
       "5    6\n",
       "dtype: int32"
      ]
     },
     "execution_count": 3,
     "metadata": {},
     "output_type": "execute_result"
    }
   ],
   "source": [
    "# Create a pandas series using np.array with default index\n",
    "series = pd.Series(np.array([1, 2, 3, 4, 5, 6]))\n",
    "series"
   ]
  },
  {
   "cell_type": "code",
   "execution_count": 5,
   "id": "bb4ad6c6",
   "metadata": {},
   "outputs": [
    {
     "data": {
      "text/plain": [
       "a    1\n",
       "b    2\n",
       "c    3\n",
       "d    4\n",
       "e    5\n",
       "f    6\n",
       "dtype: int32"
      ]
     },
     "execution_count": 5,
     "metadata": {},
     "output_type": "execute_result"
    }
   ],
   "source": [
    "# Create a pandas series using np.array with custom index\n",
    "series = pd.Series(np.array([1, 2, 3, 4, 5, 6]), index = ['a', 'b', 'c', 'd', 'e', 'f'])\n",
    "series"
   ]
  },
  {
   "cell_type": "code",
   "execution_count": 6,
   "id": "8ba56d4f",
   "metadata": {},
   "outputs": [
    {
     "data": {
      "text/plain": [
       "x    0.0\n",
       "y    1.0\n",
       "z    2.0\n",
       "dtype: float64"
      ]
     },
     "execution_count": 6,
     "metadata": {},
     "output_type": "execute_result"
    }
   ],
   "source": [
    "# Create a pandas series using a dcitionary with default index\n",
    "series = pd.Series({'x' : 0, 'y' : 1., 'z' : 2.})\n",
    "series"
   ]
  }
 ],
 "metadata": {
  "kernelspec": {
   "display_name": "Python 3 (ipykernel)",
   "language": "python",
   "name": "python3"
  },
  "language_info": {
   "codemirror_mode": {
    "name": "ipython",
    "version": 3
   },
   "file_extension": ".py",
   "mimetype": "text/x-python",
   "name": "python",
   "nbconvert_exporter": "python",
   "pygments_lexer": "ipython3",
   "version": "3.10.9"
  }
 },
 "nbformat": 4,
 "nbformat_minor": 5
}
