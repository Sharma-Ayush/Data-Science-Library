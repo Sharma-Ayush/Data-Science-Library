{
 "cells": [
  {
   "cell_type": "code",
   "execution_count": 1,
   "id": "53cd525e",
   "metadata": {},
   "outputs": [],
   "source": [
    "import numpy"
   ]
  },
  {
   "cell_type": "markdown",
   "id": "6f839d37",
   "metadata": {},
   "source": [
    "Q1. For a given numpy array, how will you change the dimensions to 5 using the existing parameters in the numpy array.  \n",
    "my_array = numpy.array([[[[1,3,4]]]])  \n",
    "a. numpy.array(my_array, ndim=5)  \n",
    "b. numpy.array(my_array, ndim=1)  \n",
    "**c. numpy.array(my_array, ndmin=5)**  \n",
    "d. numpy.array(my_array, ndim= my_array.ndmin + 1)"
   ]
  },
  {
   "cell_type": "code",
   "execution_count": 2,
   "id": "f7696dac",
   "metadata": {},
   "outputs": [
    {
     "data": {
      "text/plain": [
       "array([[[[[1, 3, 4]]]]])"
      ]
     },
     "execution_count": 2,
     "metadata": {},
     "output_type": "execute_result"
    }
   ],
   "source": [
    "my_array = numpy.array([[[[1, 3, 4]]]])\n",
    "numpy.array(my_array, ndmin = 5)"
   ]
  },
  {
   "cell_type": "markdown",
   "id": "de236814",
   "metadata": {},
   "source": [
    "Q2. For the given numpy arrays, Array1 and Array2, what will be the dot product for the same.  \n",
    "Array1 = array([[1, 2, 3], [4, 5, 6]])  \n",
    "Array2 = array([[2, 3],[3, 2]])  \n",
    "a. Keyerror  \n",
    "**b. Valueerror**  \n",
    "c. array([[ -9, 6, -1],[-12, 18, -7]])  \n",
    "d. None of the Above"
   ]
  },
  {
   "cell_type": "code",
   "execution_count": 3,
   "id": "9ee2ae21",
   "metadata": {},
   "outputs": [],
   "source": [
    "Array1 = numpy.array([[1, 2, 3], [4, 5, 6]])\n",
    "Array2 = numpy.array([[2, 3],[3, 2]])"
   ]
  },
  {
   "cell_type": "code",
   "execution_count": 7,
   "id": "8b76393d",
   "metadata": {},
   "outputs": [
    {
     "ename": "ValueError",
     "evalue": "shapes (2,3) and (2,2) not aligned: 3 (dim 1) != 2 (dim 0)",
     "output_type": "error",
     "traceback": [
      "\u001b[1;31m---------------------------------------------------------------------------\u001b[0m",
      "\u001b[1;31mValueError\u001b[0m                                Traceback (most recent call last)",
      "Cell \u001b[1;32mIn[7], line 1\u001b[0m\n\u001b[1;32m----> 1\u001b[0m \u001b[43mnumpy\u001b[49m\u001b[38;5;241;43m.\u001b[39;49m\u001b[43mdot\u001b[49m\u001b[43m(\u001b[49m\u001b[43mArray1\u001b[49m\u001b[43m,\u001b[49m\u001b[43m \u001b[49m\u001b[43mArray2\u001b[49m\u001b[43m)\u001b[49m\n",
      "File \u001b[1;32m<__array_function__ internals>:180\u001b[0m, in \u001b[0;36mdot\u001b[1;34m(*args, **kwargs)\u001b[0m\n",
      "\u001b[1;31mValueError\u001b[0m: shapes (2,3) and (2,2) not aligned: 3 (dim 1) != 2 (dim 0)"
     ]
    }
   ],
   "source": [
    "numpy.dot(Array1, Array2)"
   ]
  },
  {
   "cell_type": "markdown",
   "id": "8580e741",
   "metadata": {},
   "source": [
    "Q3. In a given numpy array, using the slicing operations print the reverse of the array.  \n",
    "array = np.array([10,3,1,203,404,204,20,302,30,402,192])  \n",
    "a. array[-1:0]  \n",
    "b. array1[len(array1):0]  \n",
    "**c. array[::-1]**  \n",
    "d. array1[-1:-len(array1)]"
   ]
  },
  {
   "cell_type": "code",
   "execution_count": 8,
   "id": "192714b1",
   "metadata": {},
   "outputs": [
    {
     "name": "stdout",
     "output_type": "stream",
     "text": [
      "[192 402  30 302  20 204 404 203   1   3  10]\n"
     ]
    }
   ],
   "source": [
    "array = numpy.array([10,3,1,203,404,204,20,302,30,402,192]) \n",
    "print(array[::-1])"
   ]
  },
  {
   "cell_type": "markdown",
   "id": "01871453",
   "metadata": {},
   "source": [
    "Q4. What is the output of the below code:  \n",
    "a = [[1, 0], [0, 1]]  \n",
    "b = [[4, 1], [2, 2]]  \n",
    "np.dot(a, b)  \n",
    "a. array([[1, 1], [2, 2]])  \n",
    "**b. array([[4, 1],[2, 2]])**  \n",
    "c. array([[4, 4],[2, 4]])  \n",
    "d. None of the above"
   ]
  },
  {
   "cell_type": "code",
   "execution_count": 9,
   "id": "82730370",
   "metadata": {},
   "outputs": [
    {
     "data": {
      "text/plain": [
       "array([[4, 1],\n",
       "       [2, 2]])"
      ]
     },
     "execution_count": 9,
     "metadata": {},
     "output_type": "execute_result"
    }
   ],
   "source": [
    "a = [[1, 0], [0, 1]]\n",
    "b = [[4, 1], [2, 2]]\n",
    "numpy.dot(a, b)"
   ]
  },
  {
   "cell_type": "markdown",
   "id": "6c2122b5",
   "metadata": {},
   "source": [
    "Q5. What is the output of the following code:  \n",
    "a = np.arange(3\\*4\\*5\\*6).reshape((3,4,5,6))  \n",
    "b = np.arange(3\\*4\\*5\\*6)[::-1].reshape((5,4,6,3))  \n",
    "np.dot(a, b)[2,3,2,1,2,2]  \n",
    "**a. 499128**  \n",
    "b. 399118  \n",
    "c. 909128  \n",
    "d. Value Error  "
   ]
  },
  {
   "cell_type": "code",
   "execution_count": 11,
   "id": "1046b38e",
   "metadata": {},
   "outputs": [
    {
     "data": {
      "text/plain": [
       "499128"
      ]
     },
     "execution_count": 11,
     "metadata": {},
     "output_type": "execute_result"
    }
   ],
   "source": [
    "a = numpy.arange(3*4*5*6).reshape((3,4,5,6))  \n",
    "b = numpy.arange(3*4*5*6)[::-1].reshape((5,4,6,3))  \n",
    "numpy.dot(a, b)[2,3,2,1,2,2]"
   ]
  },
  {
   "cell_type": "markdown",
   "id": "740d3aad",
   "metadata": {},
   "source": [
    "Q6. What will be output for the following code?  \n",
    "import numpy as np  \n",
    "a = np.array([3, 7, 32], dtype = complex)  \n",
    "print(a)  \n",
    "**a. [ 3.+0.j 7.+0.j 32.+0.j]**  \n",
    "b. [ 3.0+0.j 7.0+0.j 32.0+0.j]  \n",
    "c. [ 3.+0.k 7.+0.j 32.+0.l]  \n",
    "d. Error"
   ]
  },
  {
   "cell_type": "code",
   "execution_count": 12,
   "id": "55cf9685",
   "metadata": {},
   "outputs": [
    {
     "name": "stdout",
     "output_type": "stream",
     "text": [
      "[ 3.+0.j  7.+0.j 32.+0.j]\n"
     ]
    }
   ],
   "source": [
    "a = numpy.array([3, 7, 32], dtype = complex)\n",
    "print(a)"
   ]
  },
  {
   "cell_type": "markdown",
   "id": "497bfaba",
   "metadata": {},
   "source": [
    "Q7. How to replace all values greater than a given value with a given cutoff?  \n",
    "For example: In array ‘ar1’, replace all values greater than 30 to 30 and less than 10 to 10.  \n",
    "Input:  \n",
    "np.random.seed(100)  \n",
    "ar1 = np.random.uniform(1,50, 20)  \n",
    "a. np.clip(a, a_min=10, a_max=30)  \n",
    "b. np.where(a < 10, 10, np.where(a > 30, 30, a))  \n",
    "**c. Both of the above**  \n",
    "d. None of the above"
   ]
  },
  {
   "cell_type": "code",
   "execution_count": 14,
   "id": "8415b906",
   "metadata": {},
   "outputs": [
    {
     "data": {
      "text/plain": [
       "array([27.62684215, 14.64009987, 21.80136195, 30.        , 10.        ,\n",
       "       10.        , 30.        , 30.        , 10.        , 29.17957314,\n",
       "       30.        , 11.25090398, 10.08108276, 10.        , 11.76517714,\n",
       "       30.        , 30.        , 10.        , 30.        , 14.42961361])"
      ]
     },
     "execution_count": 14,
     "metadata": {},
     "output_type": "execute_result"
    }
   ],
   "source": [
    "numpy.random.seed(100)  \n",
    "ar1 = numpy.random.uniform(1,50, 20)\n",
    "numpy.where(ar1 < 10, 10, numpy.where(ar1 > 30, 30, ar1))"
   ]
  },
  {
   "cell_type": "code",
   "execution_count": 16,
   "id": "942ff130",
   "metadata": {},
   "outputs": [
    {
     "data": {
      "text/plain": [
       "array([27.62684215, 14.64009987, 21.80136195, 30.        , 10.        ,\n",
       "       10.        , 30.        , 30.        , 10.        , 29.17957314,\n",
       "       30.        , 11.25090398, 10.08108276, 10.        , 11.76517714,\n",
       "       30.        , 30.        , 10.        , 30.        , 14.42961361])"
      ]
     },
     "execution_count": 16,
     "metadata": {},
     "output_type": "execute_result"
    }
   ],
   "source": [
    "numpy.clip(ar1, a_min = 10, a_max = 30)"
   ]
  },
  {
   "cell_type": "markdown",
   "id": "96370100",
   "metadata": {},
   "source": [
    "Q8. For a given numpy array, how are you going to insert a new value at the specified position?  \n",
    "array = np.array([10,3,1,203,404,204,20,302,30,402,192])  \n",
    "Elem_to_be_inserted = [1,2,3,4]  \n",
    "The position to be inserted at = before 404  \n",
    "a. numpy.insert(array, 404, Elem_to_be_inserted)  \n",
    "b. numpy.insert(array, np.index(404), Elem_to_be_inserted)  \n",
    "c. numpy.insert(array, np.where(404), Elem_to_be_inserted)  \n",
    "**d. numpy.insert(array, 4, Elem_to_be_inserted)**"
   ]
  },
  {
   "cell_type": "code",
   "execution_count": 17,
   "id": "cc0681aa",
   "metadata": {},
   "outputs": [],
   "source": [
    "array = numpy.array([10,3,1,203,404,204,20,302,30,402,192])\n",
    "Elem_to_be_inserted = [1,2,3,4]"
   ]
  },
  {
   "cell_type": "code",
   "execution_count": 18,
   "id": "339fbc79",
   "metadata": {},
   "outputs": [
    {
     "data": {
      "text/plain": [
       "array([ 10,   3,   1, 203,   1,   2,   3,   4, 404, 204,  20, 302,  30,\n",
       "       402, 192])"
      ]
     },
     "execution_count": 18,
     "metadata": {},
     "output_type": "execute_result"
    }
   ],
   "source": [
    "numpy.insert(array, 4, Elem_to_be_inserted)"
   ]
  },
  {
   "cell_type": "markdown",
   "id": "9dc11b07",
   "metadata": {},
   "source": [
    "Q9. Create a 3x3 matrix using numpy, and all the values of the matrix must be a constant k.  \n",
    "a. numpy.eye(‘k’)  \n",
    "b. numpy.random.random((3,3), ‘k’)  \n",
    "**c. numpy.full((3,3), ‘k’)**  \n",
    "d. numpy.ones(3,3)"
   ]
  },
  {
   "cell_type": "code",
   "execution_count": 22,
   "id": "f3fff98f",
   "metadata": {},
   "outputs": [
    {
     "data": {
      "text/plain": [
       "array([['k', 'k', 'k'],\n",
       "       ['k', 'k', 'k'],\n",
       "       ['k', 'k', 'k']], dtype='<U1')"
      ]
     },
     "execution_count": 22,
     "metadata": {},
     "output_type": "execute_result"
    }
   ],
   "source": [
    "numpy.full((3, 3), 'k')"
   ]
  },
  {
   "cell_type": "markdown",
   "id": "22d50241",
   "metadata": {},
   "source": [
    "Q10. For the given python code that implements bubble sort, what will be the output for the given numpy array.\n",
    "def bub_sort(array):  \n",
    "    for i in range(0, len(array)):  \n",
    "        for j in range(0, len(array) - i - 1):  \n",
    "            if array[j] < array[j + 1]:  \n",
    "                temp = array[j]  \n",
    "                array[j] = array[j + 1]  \n",
    "                array[j+1] = temp  \n",
    "return array  \n",
    "my_array = numpy.array([20,14,25,16,45,60,12,9])  \n",
    "a. array([ 9, 12, 14, 16, 20, 25, 45, 60])  \n",
    "**b. array([60, 45, 25, 20, 16, 14, 12, 9])**\n",
    "c. array([60, 45, 20, 25, 16, 14, 12, 9])  \n",
    "d. array([ 9, 12, 16, 14, 20, 25, 45, 60])"
   ]
  },
  {
   "cell_type": "code",
   "execution_count": 24,
   "id": "854fc435",
   "metadata": {},
   "outputs": [
    {
     "data": {
      "text/plain": [
       "array([60, 45, 25, 20, 16, 14, 12,  9])"
      ]
     },
     "execution_count": 24,
     "metadata": {},
     "output_type": "execute_result"
    }
   ],
   "source": [
    "def bub_sort(array):  \n",
    "    for i in range(0, len(array)):  \n",
    "        for j in range(0, len(array) - i - 1):  \n",
    "            if array[j] < array[j + 1]:  \n",
    "                temp = array[j]  \n",
    "                array[j] = array[j + 1]  \n",
    "                array[j+1] = temp  \n",
    "    return array\n",
    "my_array = numpy.array([20,14,25,16,45,60,12,9]) \n",
    "bub_sort(my_array)"
   ]
  },
  {
   "cell_type": "markdown",
   "id": "59aa3008",
   "metadata": {},
   "source": [
    "Q11. For a given numpy array of the shape (2,5) ,How will you reshape the array in the shape (5,2).  \n",
    "a. numpy.shape(5,2)  \n",
    "b. numpy.arange(5,2)  \n",
    "c. numpy.reshape((2,5) == (5,2))  \n",
    "**d. numpy.reshape(5,2)**  "
   ]
  },
  {
   "cell_type": "code",
   "execution_count": 26,
   "id": "41e239af",
   "metadata": {},
   "outputs": [
    {
     "data": {
      "text/plain": [
       "array([[0.43170418, 0.94002982],\n",
       "       [0.81764938, 0.33611195],\n",
       "       [0.17541045, 0.37283205],\n",
       "       [0.00568851, 0.25242635],\n",
       "       [0.79566251, 0.01525497]])"
      ]
     },
     "execution_count": 26,
     "metadata": {},
     "output_type": "execute_result"
    }
   ],
   "source": [
    "arr = numpy.random.random((2, 5))\n",
    "arr.reshape((5,2)) # returns view, so no permanent change"
   ]
  },
  {
   "cell_type": "code",
   "execution_count": 27,
   "id": "12e088a1",
   "metadata": {},
   "outputs": [
    {
     "data": {
      "text/plain": [
       "array([[0.43170418, 0.94002982],\n",
       "       [0.81764938, 0.33611195],\n",
       "       [0.17541045, 0.37283205],\n",
       "       [0.00568851, 0.25242635],\n",
       "       [0.79566251, 0.01525497]])"
      ]
     },
     "execution_count": 27,
     "metadata": {},
     "output_type": "execute_result"
    }
   ],
   "source": [
    "arr.shape = (5, 2) # permanent change\n",
    "arr"
   ]
  },
  {
   "cell_type": "markdown",
   "id": "8a756589",
   "metadata": {},
   "source": [
    "Q12. What will be the shape of the sample numpy array after flattening it?  \n",
    "Sample = numpy.array([[1,2],[3,4],[5,6],[7,8]])  \n",
    "**a. array([1, 2, 3, 4, 5, 6, 7, 8])**  \n",
    "b. array([1, 2], [3, 4], [5, 6], [7, 8])  \n",
    "c. array([1], [2], [3], [4], [5], [6], [7], [8])  \n",
    "d. None of the above"
   ]
  },
  {
   "cell_type": "code",
   "execution_count": 29,
   "id": "9a09891d",
   "metadata": {},
   "outputs": [
    {
     "name": "stdout",
     "output_type": "stream",
     "text": [
      "[[1 2]\n",
      " [3 4]\n",
      " [5 6]\n",
      " [7 8]]\n",
      "[1 2 3 4 5 6 7 8]\n",
      "(8,)\n"
     ]
    }
   ],
   "source": [
    "Sample = numpy.array([[1,2],[3,4],[5,6],[7,8]])\n",
    "new_Sample = Sample.ravel()\n",
    "print(Sample)\n",
    "print(new_Sample)\n",
    "print(new_Sample.shape)"
   ]
  },
  {
   "cell_type": "markdown",
   "id": "f6dfcb0e",
   "metadata": {},
   "source": [
    "Q13. In the given array, how can we get the following output - array([2, 5, 8]).  \n",
    "Sample = numpy.array([[1,2,3],[4,5,6],[7,8,9],[10,11,12],[13,14,15]])  \n",
    "**a. array[0:3, 1]**  \n",
    "b. array[0:3][1]  \n",
    "c. array[[0:3], [1]]  \n",
    "d. None of the above"
   ]
  },
  {
   "cell_type": "code",
   "execution_count": 31,
   "id": "a8f4b81d",
   "metadata": {},
   "outputs": [
    {
     "data": {
      "text/plain": [
       "array([[ 1,  2,  3],\n",
       "       [ 4,  5,  6],\n",
       "       [ 7,  8,  9],\n",
       "       [10, 11, 12],\n",
       "       [13, 14, 15]])"
      ]
     },
     "execution_count": 31,
     "metadata": {},
     "output_type": "execute_result"
    }
   ],
   "source": [
    "Sample = numpy.array([[1,2,3],[4,5,6],[7,8,9],[10,11,12],[13,14,15]])\n",
    "Sample"
   ]
  },
  {
   "cell_type": "code",
   "execution_count": 32,
   "id": "abf57db4",
   "metadata": {},
   "outputs": [
    {
     "data": {
      "text/plain": [
       "array([2, 5, 8])"
      ]
     },
     "execution_count": 32,
     "metadata": {},
     "output_type": "execute_result"
    }
   ],
   "source": [
    "Sample[:3, 1]"
   ]
  },
  {
   "cell_type": "markdown",
   "id": "0479d0b6",
   "metadata": {},
   "source": [
    "Q14. Given two numpy arrays, we will perform Horizontally stack the given arrays array1 and array2.  \n",
    "What will be the output of the above operation?  \n",
    "The sample arrays are as follows:  \n",
    "Array1 = numpy.arange(1,20,2)  \n",
    "Array2 = numpy.array([1,2,3,4,5,6,7,8,9,10])  \n",
    "**A. array([ 1, 3, 5, 7, 9, 11, 13, 15, 17, 19, 1, 2, 3, 4, 5, 6, 7, 8, 9, 10])**  \n",
    "B. array([[ 1, 3, 5, 7, 9, 11, 13, 15, 17, 19], [1, 2, 3, 4, 5, 6, 7, 8, 9, 10]])  \n",
    "C. array([[ 1, 3, 5, 7, 9, 11, 13, 15, 17, 19], [1, 2, 3, 4, 5, 6, 7, 8, 9, 10]])  \n",
    "D. None of the above"
   ]
  },
  {
   "cell_type": "code",
   "execution_count": 36,
   "id": "53c3745b",
   "metadata": {},
   "outputs": [],
   "source": [
    "Array1 = numpy.arange(1, 20, 2)  \n",
    "Array2 = numpy.array([1,2,3,4,5,6,7,8,9,10])"
   ]
  },
  {
   "cell_type": "code",
   "execution_count": 37,
   "id": "63511f52",
   "metadata": {},
   "outputs": [
    {
     "data": {
      "text/plain": [
       "array([ 1,  3,  5,  7,  9, 11, 13, 15, 17, 19,  1,  2,  3,  4,  5,  6,  7,\n",
       "        8,  9, 10])"
      ]
     },
     "execution_count": 37,
     "metadata": {},
     "output_type": "execute_result"
    }
   ],
   "source": [
    "numpy.hstack([Array1, Array2])"
   ]
  },
  {
   "cell_type": "markdown",
   "id": "2c1d92b0",
   "metadata": {},
   "source": [
    "Q15. For the given arrays, array1 and array2, if we stack the two arrays row wise, what will be the output?  \n",
    "array1 = np.array([[1,2],[3,4]])  \n",
    "array2 = np.array([[1,2],[3,4],[5,6],[7,8],[9,10]])  \n",
    "**a. array([[ 1, 2],[ 3, 4],[ 1, 2],[ 3, 4],[ 5, 6],[ 7, 8],[ 9, 10]])**  \n",
    "b. array([[ 1, 2, 3, 4],[ 1, 2, 3, 4],[ 5, 6, 7, 8],[ 9, 10]])  \n",
    "c. array([[ 1, 2, 3, 4, 1], [2, 3, 4, 5, 6],[ 7, 8, 9, 10]])  \n",
    "d. None of the above"
   ]
  },
  {
   "cell_type": "code",
   "execution_count": 38,
   "id": "67038ded",
   "metadata": {},
   "outputs": [],
   "source": [
    "array1 = numpy.array([[1,2],[3,4]])  \n",
    "array2 = numpy.array([[1,2],[3,4],[5,6],[7,8],[9,10]])  "
   ]
  },
  {
   "cell_type": "code",
   "execution_count": 42,
   "id": "a854a7ac",
   "metadata": {},
   "outputs": [
    {
     "data": {
      "text/plain": [
       "array([[ 1,  2],\n",
       "       [ 3,  4],\n",
       "       [ 1,  2],\n",
       "       [ 3,  4],\n",
       "       [ 5,  6],\n",
       "       [ 7,  8],\n",
       "       [ 9, 10]])"
      ]
     },
     "execution_count": 42,
     "metadata": {},
     "output_type": "execute_result"
    }
   ],
   "source": [
    "numpy.row_stack([array1, array2])"
   ]
  },
  {
   "cell_type": "markdown",
   "id": "4769b5ed",
   "metadata": {},
   "source": [
    "Q16. For the given arrays, array1 and array2, if we stack the two arrays column wise, what will be the output?  \n",
    "array1 = np.array([[1,2],[3,4]])  \n",
    "array2 = np.array([[5,6],[7,8]])  \n",
    "**a. array([[1, 2, 5, 6],[3, 4, 7, 8]])**  \n",
    "b. array([[1, 2, 5, 6 ,3, 4, 7, 8]])  \n",
    "c. array([[1, 2], [5, 6],[3, 4], [7, 8]])  \n",
    "d. None of the above"
   ]
  },
  {
   "cell_type": "code",
   "execution_count": 43,
   "id": "88af5e92",
   "metadata": {},
   "outputs": [],
   "source": [
    "array1 = numpy.array([[1,2],[3,4]])  \n",
    "array2 = numpy.array([[5,6],[7,8]])"
   ]
  },
  {
   "cell_type": "code",
   "execution_count": 46,
   "id": "aa5fbdd2",
   "metadata": {},
   "outputs": [
    {
     "data": {
      "text/plain": [
       "array([[1, 2, 5, 6],\n",
       "       [3, 4, 7, 8]])"
      ]
     },
     "execution_count": 46,
     "metadata": {},
     "output_type": "execute_result"
    }
   ],
   "source": [
    "numpy.column_stack([array1, array2])"
   ]
  },
  {
   "cell_type": "markdown",
   "id": "c43f9501",
   "metadata": {},
   "source": [
    "Q17. Given two vectors A and B, find the cross product between the two vectors.  \n",
    "A = numpy.array([[4],[12],[29]])  \n",
    "B = numpy.array([[13],[21],[4]])  \n",
    "**A. array([[-561 361 -72]])**  \n",
    "B. array([[-560 360 -71]])  \n",
    "C. array([[-555 361 -72]])  \n",
    "D. array([[-561 360 -72]])"
   ]
  },
  {
   "cell_type": "code",
   "execution_count": 47,
   "id": "8e5b72d6",
   "metadata": {},
   "outputs": [],
   "source": [
    "A = numpy.array([[4],[12],[29]])  \n",
    "B = numpy.array([[13],[21],[4]]) "
   ]
  },
  {
   "cell_type": "code",
   "execution_count": 50,
   "id": "8135a4bb",
   "metadata": {},
   "outputs": [
    {
     "data": {
      "text/plain": [
       "array([[-561,  361,  -72]])"
      ]
     },
     "execution_count": 50,
     "metadata": {},
     "output_type": "execute_result"
    }
   ],
   "source": [
    "numpy.cross(A, B, axisa = 0, axisb = 0)"
   ]
  },
  {
   "cell_type": "markdown",
   "id": "ba7f2dd7",
   "metadata": {},
   "source": [
    "Q18. Given two vectors A and B, find the correlation coefficient of the following vectors.  \n",
    "A = numpy.array([1,3,5,7,9,11,13,15,17,19,21,23,25])  \n",
    "B = numpy.array([0,2,4,6,8,10,12,14,16,18,20, 22, 24])  \n",
    "**A. array([[1., 1.],[1., 1.]])**  \n",
    "B. array([[0., 1.],[1., 1.]])  \n",
    "C. array([[1., 0.],[1., 1.]])  \n",
    "D. array([[1., 1.],[0., 1.]])"
   ]
  },
  {
   "cell_type": "code",
   "execution_count": 51,
   "id": "c4ad8a3e",
   "metadata": {},
   "outputs": [],
   "source": [
    "A = numpy.array([1,3,5,7,9,11,13,15,17,19,21,23,25])  \n",
    "B = numpy.array([0,2,4,6,8,10,12,14,16,18,20, 22, 24]) "
   ]
  },
  {
   "cell_type": "code",
   "execution_count": 52,
   "id": "bb954d68",
   "metadata": {},
   "outputs": [
    {
     "data": {
      "text/plain": [
       "array([[1., 1.],\n",
       "       [1., 1.]])"
      ]
     },
     "execution_count": 52,
     "metadata": {},
     "output_type": "execute_result"
    }
   ],
   "source": [
    "numpy.corrcoef(A, B)"
   ]
  },
  {
   "cell_type": "markdown",
   "id": "1ccedd6d",
   "metadata": {},
   "source": [
    "Q19. Create a nested numpy array from a given dictionary data.  \n",
    "sample = {1: [1,2], 2: [[1],[2]], 3: [[1,2], [3,4], [4,5]], 4: [1], 5: [1,2,3,4,5]}  \n",
    "**A. array([[1, list([1, 2])], [2, list([[1], [2]])], [3, list([[1, 2], [3, 4], [4, 5]])], [4, list([1])], [5, list([1,\n",
    "2, 3, 4, 5])]], dtype=object)**  \n",
    "B. array([[1, list([1, 1])], [2, list([[1], [2]])], [3, list([[1, 2], [3, 4], [4, 5]])], [4, list([1])], [5, list([1,\n",
    "2, 3, 4, 5])]], dtype=object)  \n",
    "C. array([[1, list([1, 2])], [2, list([[1], [2]])], [3, list([[1, 2], [1, 4], [4, 5]])], [4, list([1])], [5, list([1,\n",
    "2, 3, 4, 5])]], dtype=object)  \n",
    "D. array([[1, list([1, 2])], [2, list([[1], [2]])], [3, list([[1, 2], [3, 4], [4, 5]])], [4, list([1])], [5, list([1,\n",
    "2, 3, 10, 5])]], dtype=object)"
   ]
  },
  {
   "cell_type": "code",
   "execution_count": 53,
   "id": "56f93699",
   "metadata": {},
   "outputs": [],
   "source": [
    "sample = {1: [1,2], 2: [[1],[2]], 3: [[1,2], [3,4], [4,5]], 4: [1], 5: [1,2,3,4,5]} "
   ]
  },
  {
   "cell_type": "code",
   "execution_count": 58,
   "id": "1160d070",
   "metadata": {},
   "outputs": [
    {
     "name": "stderr",
     "output_type": "stream",
     "text": [
      "C:\\Users\\user\\AppData\\Local\\Temp\\ipykernel_7188\\3817999902.py:1: VisibleDeprecationWarning: Creating an ndarray from ragged nested sequences (which is a list-or-tuple of lists-or-tuples-or ndarrays with different lengths or shapes) is deprecated. If you meant to do this, you must specify 'dtype=object' when creating the ndarray.\n",
      "  numpy.array(tuple(sample.items()))\n"
     ]
    },
    {
     "data": {
      "text/plain": [
       "array([[1, list([1, 2])],\n",
       "       [2, list([[1], [2]])],\n",
       "       [3, list([[1, 2], [3, 4], [4, 5]])],\n",
       "       [4, list([1])],\n",
       "       [5, list([1, 2, 3, 4, 5])]], dtype=object)"
      ]
     },
     "execution_count": 58,
     "metadata": {},
     "output_type": "execute_result"
    }
   ],
   "source": [
    "numpy.array(tuple(sample.items()))"
   ]
  },
  {
   "cell_type": "markdown",
   "id": "6df2fc1a",
   "metadata": {},
   "source": [
    "Q20. A 2-dimensional array with 3 rows and 3 columns containing random numbers from 1 to 9 is given as -  \n",
    "arr1= np.array([[3,2,1],[6,4,5],[8,7,9]])  \n",
    "Find the difference between the maximum element across the columns and the minimum element across the rows.  \n",
    "**A. [7 3 2]**  \n",
    "B. [7 1 2]  \n",
    "C. [8 3 2]  \n",
    "D. [7 3 1]"
   ]
  },
  {
   "cell_type": "code",
   "execution_count": 59,
   "id": "e2dcc1b0",
   "metadata": {},
   "outputs": [],
   "source": [
    "arr1= numpy.array([[3,2,1],[6,4,5],[8,7,9]])"
   ]
  },
  {
   "cell_type": "code",
   "execution_count": 63,
   "id": "fd3e0e80",
   "metadata": {},
   "outputs": [
    {
     "data": {
      "text/plain": [
       "array([7, 3, 2])"
      ]
     },
     "execution_count": 63,
     "metadata": {},
     "output_type": "execute_result"
    }
   ],
   "source": [
    "numpy.max(arr1, axis = 0) - numpy.min(arr1, axis = 1)"
   ]
  }
 ],
 "metadata": {
  "kernelspec": {
   "display_name": "Python 3 (ipykernel)",
   "language": "python",
   "name": "python3"
  },
  "language_info": {
   "codemirror_mode": {
    "name": "ipython",
    "version": 3
   },
   "file_extension": ".py",
   "mimetype": "text/x-python",
   "name": "python",
   "nbconvert_exporter": "python",
   "pygments_lexer": "ipython3",
   "version": "3.10.9"
  }
 },
 "nbformat": 4,
 "nbformat_minor": 5
}
