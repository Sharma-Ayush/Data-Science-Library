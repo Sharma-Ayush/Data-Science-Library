{
 "cells": [
  {
   "cell_type": "code",
   "execution_count": 1,
   "id": "3e2fcae2",
   "metadata": {},
   "outputs": [],
   "source": [
    "import numpy as np"
   ]
  },
  {
   "cell_type": "markdown",
   "id": "ca5f3e39",
   "metadata": {},
   "source": [
    "# Problem Statement:"
   ]
  },
  {
   "cell_type": "markdown",
   "id": "c5f979c1",
   "metadata": {},
   "source": [
    "Numpy library package from python is one of the most useful while conducting any statistical\n",
    "analysis in data science. Familiarize yourself with the nitty gritties of the numpy and various\n",
    "modules that it comes with."
   ]
  },
  {
   "cell_type": "markdown",
   "id": "ff1edf94",
   "metadata": {},
   "source": [
    "# Tasks To be Performed:"
   ]
  },
  {
   "cell_type": "markdown",
   "id": "a9e79cb1",
   "metadata": {},
   "source": [
    "1. Create a numpy array with numpy.array module and with a data type integer and float."
   ]
  },
  {
   "cell_type": "code",
   "execution_count": 2,
   "id": "6a890fd5",
   "metadata": {},
   "outputs": [
    {
     "name": "stdout",
     "output_type": "stream",
     "text": [
      "Integer array =  [1 2 3]\n",
      "Float array =  [1.  2.1 3. ]\n"
     ]
    }
   ],
   "source": [
    "arr_int = np.array([1, 2.1, 3], dtype = np.int32)\n",
    "arr_float = np.array([1, 2.1, 3], dtype = np.float64)\n",
    "\n",
    "print(\"Integer array = \", arr_int)\n",
    "print(\"Float array = \", arr_float)"
   ]
  },
  {
   "cell_type": "markdown",
   "id": "f0b618db",
   "metadata": {},
   "source": [
    "2. Create numpy arrays that have zero, one, two, three, Four dimensions respectively. Also, print the shape and dimensions of the numpy arrays created above."
   ]
  },
  {
   "cell_type": "code",
   "execution_count": 5,
   "id": "10484712",
   "metadata": {},
   "outputs": [
    {
     "name": "stdout",
     "output_type": "stream",
     "text": [
      "Array:  10\n",
      "Dimension:  0\n",
      "Shape:  ()\n"
     ]
    }
   ],
   "source": [
    "arr_0 = np.array(10)\n",
    "print(\"Array: \", arr_0)\n",
    "print(\"Dimension: \", arr_0.ndim)\n",
    "print(\"Shape: \", arr_0.shape)"
   ]
  },
  {
   "cell_type": "code",
   "execution_count": 6,
   "id": "b55689ab",
   "metadata": {},
   "outputs": [
    {
     "name": "stdout",
     "output_type": "stream",
     "text": [
      "Array:  [1 2 3]\n",
      "Dimension:  1\n",
      "Shape:  (3,)\n"
     ]
    }
   ],
   "source": [
    "arr_1 = np.array([1,2,3])\n",
    "print(\"Array: \", arr_1)\n",
    "print(\"Dimension: \", arr_1.ndim)\n",
    "print(\"Shape: \", arr_1.shape)"
   ]
  },
  {
   "cell_type": "code",
   "execution_count": 10,
   "id": "c175445d",
   "metadata": {},
   "outputs": [
    {
     "name": "stdout",
     "output_type": "stream",
     "text": [
      "Array: \n",
      " [[1 2 3]\n",
      " [4 5 6]]\n",
      "Dimension:  2\n",
      "Shape:  (2, 3)\n"
     ]
    }
   ],
   "source": [
    "arr_2 = np.array([[1,2,3],[4,5,6]])\n",
    "print(\"Array: \\n\", arr_2)\n",
    "print(\"Dimension: \", arr_2.ndim)\n",
    "print(\"Shape: \", arr_2.shape)"
   ]
  },
  {
   "cell_type": "code",
   "execution_count": 9,
   "id": "e659620d",
   "metadata": {},
   "outputs": [
    {
     "name": "stdout",
     "output_type": "stream",
     "text": [
      "Array: \n",
      " [[[1 2 3]\n",
      "  [4 5 6]]\n",
      "\n",
      " [[7 8 9]\n",
      "  [0 1 2]]]\n",
      "Dimension:  3\n",
      "Shape:  (2, 2, 3)\n"
     ]
    }
   ],
   "source": [
    "arr_3 = np.array([[[1,2,3],[4,5,6]],[[7,8,9],[0,1,2]]])\n",
    "print(\"Array: \\n\", arr_3)\n",
    "print(\"Dimension: \", arr_3.ndim)\n",
    "print(\"Shape: \", arr_3.shape)"
   ]
  },
  {
   "cell_type": "code",
   "execution_count": 11,
   "id": "7068078d",
   "metadata": {},
   "outputs": [
    {
     "name": "stdout",
     "output_type": "stream",
     "text": [
      "Array: \n",
      " [[[[1 2 3]\n",
      "   [4 5 6]]\n",
      "\n",
      "  [[7 8 9]\n",
      "   [0 1 2]]]]\n",
      "Dimension:  4\n",
      "Shape:  (1, 2, 2, 3)\n"
     ]
    }
   ],
   "source": [
    "arr_4 = np.array([[[[1,2,3],[4,5,6]],[[7,8,9],[0,1,2]]]])\n",
    "print(\"Array: \\n\", arr_4)\n",
    "print(\"Dimension: \", arr_4.ndim)\n",
    "print(\"Shape: \", arr_4.shape)"
   ]
  },
  {
   "cell_type": "markdown",
   "id": "19f27394",
   "metadata": {},
   "source": [
    "3. Create a 2x3, 3x3, and 4x4 identity matrix using numpy."
   ]
  },
  {
   "cell_type": "code",
   "execution_count": 12,
   "id": "e37a3309",
   "metadata": {},
   "outputs": [
    {
     "data": {
      "text/plain": [
       "array([[1., 0., 0.],\n",
       "       [0., 1., 0.]])"
      ]
     },
     "execution_count": 12,
     "metadata": {},
     "output_type": "execute_result"
    }
   ],
   "source": [
    "np.eye(2, 3)"
   ]
  },
  {
   "cell_type": "code",
   "execution_count": 13,
   "id": "5895d2da",
   "metadata": {
    "scrolled": true
   },
   "outputs": [
    {
     "data": {
      "text/plain": [
       "array([[1., 0., 0.],\n",
       "       [0., 1., 0.],\n",
       "       [0., 0., 1.]])"
      ]
     },
     "execution_count": 13,
     "metadata": {},
     "output_type": "execute_result"
    }
   ],
   "source": [
    "np.eye(3)"
   ]
  },
  {
   "cell_type": "markdown",
   "id": "a097eb4c",
   "metadata": {},
   "source": [
    "or"
   ]
  },
  {
   "cell_type": "code",
   "execution_count": 15,
   "id": "ddb2d251",
   "metadata": {},
   "outputs": [
    {
     "data": {
      "text/plain": [
       "array([[1., 0., 0.],\n",
       "       [0., 1., 0.],\n",
       "       [0., 0., 1.]])"
      ]
     },
     "execution_count": 15,
     "metadata": {},
     "output_type": "execute_result"
    }
   ],
   "source": [
    "np.identity(3)"
   ]
  },
  {
   "cell_type": "code",
   "execution_count": 14,
   "id": "4b59c3bb",
   "metadata": {},
   "outputs": [
    {
     "data": {
      "text/plain": [
       "array([[1., 0., 0., 0.],\n",
       "       [0., 1., 0., 0.],\n",
       "       [0., 0., 1., 0.],\n",
       "       [0., 0., 0., 1.]])"
      ]
     },
     "execution_count": 14,
     "metadata": {},
     "output_type": "execute_result"
    }
   ],
   "source": [
    "np.eye(4)"
   ]
  },
  {
   "cell_type": "markdown",
   "id": "93041e17",
   "metadata": {},
   "source": [
    "or"
   ]
  },
  {
   "cell_type": "code",
   "execution_count": 16,
   "id": "32878e4b",
   "metadata": {},
   "outputs": [
    {
     "data": {
      "text/plain": [
       "array([[1., 0., 0., 0.],\n",
       "       [0., 1., 0., 0.],\n",
       "       [0., 0., 1., 0.],\n",
       "       [0., 0., 0., 1.]])"
      ]
     },
     "execution_count": 16,
     "metadata": {},
     "output_type": "execute_result"
    }
   ],
   "source": [
    "np.identity(4)"
   ]
  },
  {
   "cell_type": "markdown",
   "id": "03f59302",
   "metadata": {},
   "source": [
    "4. Create a numpy array with shape 2x5 that has all the elements as zero."
   ]
  },
  {
   "cell_type": "code",
   "execution_count": 17,
   "id": "0c3d04c3",
   "metadata": {},
   "outputs": [
    {
     "data": {
      "text/plain": [
       "array([[0., 0., 0., 0., 0.],\n",
       "       [0., 0., 0., 0., 0.]])"
      ]
     },
     "execution_count": 17,
     "metadata": {},
     "output_type": "execute_result"
    }
   ],
   "source": [
    "np.zeros((2, 5))"
   ]
  },
  {
   "cell_type": "markdown",
   "id": "76a2887c",
   "metadata": {},
   "source": [
    "5. Create a numpy array that has the shape 3x5 and all the elements are 5."
   ]
  },
  {
   "cell_type": "code",
   "execution_count": 18,
   "id": "163dadc7",
   "metadata": {},
   "outputs": [
    {
     "data": {
      "text/plain": [
       "array([[5, 5, 5, 5, 5],\n",
       "       [5, 5, 5, 5, 5],\n",
       "       [5, 5, 5, 5, 5]])"
      ]
     },
     "execution_count": 18,
     "metadata": {},
     "output_type": "execute_result"
    }
   ],
   "source": [
    "np.full((3, 5), 5)"
   ]
  },
  {
   "cell_type": "markdown",
   "id": "1a7e4b5c",
   "metadata": {},
   "source": [
    "6. Create a numpy array with random integers in the range 0-100, and the sample size\n",
    "should be 25."
   ]
  },
  {
   "cell_type": "code",
   "execution_count": 19,
   "id": "2950767a",
   "metadata": {},
   "outputs": [
    {
     "data": {
      "text/plain": [
       "array([87,  0, 27, 43,  7,  6, 32, 23, 96, 84, 59, 95,  8,  1, 82, 95, 48,\n",
       "       19, 39, 87, 59, 32, 30, 81, 81])"
      ]
     },
     "execution_count": 19,
     "metadata": {},
     "output_type": "execute_result"
    }
   ],
   "source": [
    "np.random.randint(0, 100, 25)"
   ]
  },
  {
   "cell_type": "markdown",
   "id": "a0852889",
   "metadata": {},
   "source": [
    "7. Create a numpy array with a shape 3x3 that has all elements as 1."
   ]
  },
  {
   "cell_type": "code",
   "execution_count": 20,
   "id": "81c1a558",
   "metadata": {},
   "outputs": [
    {
     "data": {
      "text/plain": [
       "array([[1, 1, 1],\n",
       "       [1, 1, 1],\n",
       "       [1, 1, 1]])"
      ]
     },
     "execution_count": 20,
     "metadata": {},
     "output_type": "execute_result"
    }
   ],
   "source": [
    "np.full((3, 3), 1)"
   ]
  },
  {
   "cell_type": "markdown",
   "id": "0240f050",
   "metadata": {},
   "source": [
    "8. Create a numpy array in the shape 2x3 with random integers in the range 0-100.\n",
    "Reshape the array in the shape 3x2 and print the updated shape of the resultant array."
   ]
  },
  {
   "cell_type": "code",
   "execution_count": 24,
   "id": "1e1dd1d0",
   "metadata": {},
   "outputs": [
    {
     "data": {
      "text/plain": [
       "array([[65, 22, 77],\n",
       "       [69, 78, 13]])"
      ]
     },
     "execution_count": 24,
     "metadata": {},
     "output_type": "execute_result"
    }
   ],
   "source": [
    "arr = np.random.randint(0, 100, (2, 3))\n",
    "arr"
   ]
  },
  {
   "cell_type": "code",
   "execution_count": 25,
   "id": "a145805b",
   "metadata": {},
   "outputs": [
    {
     "data": {
      "text/plain": [
       "array([[65, 22],\n",
       "       [77, 69],\n",
       "       [78, 13]])"
      ]
     },
     "execution_count": 25,
     "metadata": {},
     "output_type": "execute_result"
    }
   ],
   "source": [
    "arr.reshape((3,2))"
   ]
  },
  {
   "cell_type": "markdown",
   "id": "9b6a6ff8",
   "metadata": {},
   "source": [
    "9. Create a random array, with the range 0-1000, with a size 50 and step 2. Perform the following operations on the same.  \n",
    "a. Print the first ten elements of the array.  \n",
    "b. Print the last ten elements of the array  \n",
    "c. Print the elements from the indexes 10-25  \n",
    "d. Print the element at the index 22  \n",
    "e. Print the array using negative indexing.  \n",
    "f. Print the last ten elements of the array, using negative indexing."
   ]
  },
  {
   "cell_type": "code",
   "execution_count": 27,
   "id": "71523294",
   "metadata": {},
   "outputs": [
    {
     "data": {
      "text/plain": [
       "array([392, 150,  40, 344, 532, 180, 492, 918, 504, 178, 396, 862, 896,\n",
       "       338, 324, 274, 358, 960, 800, 930, 900,  98, 924, 676, 528, 948,\n",
       "       768, 736, 322, 602, 764, 952, 166, 458, 882, 828, 750, 500, 850,\n",
       "        42, 284, 520, 480, 420, 712, 754, 684, 996, 848, 706])"
      ]
     },
     "execution_count": 27,
     "metadata": {},
     "output_type": "execute_result"
    }
   ],
   "source": [
    "arr = np.random.choice(np.arange(0, 1000, 2), 50, replace = False)\n",
    "arr"
   ]
  },
  {
   "cell_type": "code",
   "execution_count": 29,
   "id": "a73a8a43",
   "metadata": {},
   "outputs": [
    {
     "data": {
      "text/plain": [
       "array([392, 150,  40, 344, 532, 180, 492, 918, 504, 178])"
      ]
     },
     "execution_count": 29,
     "metadata": {},
     "output_type": "execute_result"
    }
   ],
   "source": [
    "arr[:10]"
   ]
  },
  {
   "cell_type": "code",
   "execution_count": 35,
   "id": "065ece16",
   "metadata": {},
   "outputs": [
    {
     "data": {
      "text/plain": [
       "array([284, 520, 480, 420, 712, 754, 684, 996, 848, 706])"
      ]
     },
     "execution_count": 35,
     "metadata": {},
     "output_type": "execute_result"
    }
   ],
   "source": [
    "arr[40:]"
   ]
  },
  {
   "cell_type": "code",
   "execution_count": 31,
   "id": "8a9c5da4",
   "metadata": {},
   "outputs": [
    {
     "data": {
      "text/plain": [
       "array([396, 862, 896, 338, 324, 274, 358, 960, 800, 930, 900,  98, 924,\n",
       "       676, 528, 948])"
      ]
     },
     "execution_count": 31,
     "metadata": {},
     "output_type": "execute_result"
    }
   ],
   "source": [
    "arr[10:26]"
   ]
  },
  {
   "cell_type": "code",
   "execution_count": 32,
   "id": "1ab35dbb",
   "metadata": {},
   "outputs": [
    {
     "data": {
      "text/plain": [
       "924"
      ]
     },
     "execution_count": 32,
     "metadata": {},
     "output_type": "execute_result"
    }
   ],
   "source": [
    "arr[22]"
   ]
  },
  {
   "cell_type": "code",
   "execution_count": 36,
   "id": "1fd83bc9",
   "metadata": {},
   "outputs": [
    {
     "data": {
      "text/plain": [
       "array([150,  40, 344, 532, 180, 492, 918, 504, 178, 396, 862, 896, 338,\n",
       "       324, 274, 358, 960, 800, 930, 900,  98, 924, 676, 528, 948, 768,\n",
       "       736, 322, 602, 764, 952, 166, 458, 882, 828, 750, 500, 850,  42,\n",
       "       284, 520, 480, 420, 712, 754, 684, 996, 848, 706])"
      ]
     },
     "execution_count": 36,
     "metadata": {},
     "output_type": "execute_result"
    }
   ],
   "source": [
    "arr[-49:]"
   ]
  },
  {
   "cell_type": "code",
   "execution_count": 37,
   "id": "dee175fb",
   "metadata": {},
   "outputs": [
    {
     "data": {
      "text/plain": [
       "array([284, 520, 480, 420, 712, 754, 684, 996, 848, 706])"
      ]
     },
     "execution_count": 37,
     "metadata": {},
     "output_type": "execute_result"
    }
   ],
   "source": [
    "arr[-10:]"
   ]
  },
  {
   "cell_type": "markdown",
   "id": "da31b02d",
   "metadata": {},
   "source": [
    "10. Given a numpy array that has values = [1,2,3,4,5]. Perform the following operations.  \n",
    "a. Insert the element 6 at the end of the array.  \n",
    "b. Insert the element 10 at the beginning of the array.  \n",
    "c. Insert the element 30, before 4.  \n",
    "d. Update the element 5 as 50.  \n",
    "e. Delete the element 50 in the updated array.  \n",
    "f. Create a function to search for the element 30.  \n",
    "g. Sort the array in ascending order."
   ]
  },
  {
   "cell_type": "code",
   "execution_count": 39,
   "id": "f60991c3",
   "metadata": {},
   "outputs": [],
   "source": [
    "arr = np.array([1, 2, 3, 4, 5])"
   ]
  },
  {
   "cell_type": "code",
   "execution_count": 40,
   "id": "c0c4ca8a",
   "metadata": {},
   "outputs": [
    {
     "data": {
      "text/plain": [
       "array([1, 2, 3, 4, 5, 6])"
      ]
     },
     "execution_count": 40,
     "metadata": {},
     "output_type": "execute_result"
    }
   ],
   "source": [
    "arr = np.append(arr, 6, axis = 0)\n",
    "arr"
   ]
  },
  {
   "cell_type": "code",
   "execution_count": 43,
   "id": "b54dcdf7",
   "metadata": {},
   "outputs": [
    {
     "data": {
      "text/plain": [
       "array([10,  1,  2,  3,  4,  5,  6])"
      ]
     },
     "execution_count": 43,
     "metadata": {},
     "output_type": "execute_result"
    }
   ],
   "source": [
    "arr = np.insert(arr, 0, 10, axis = 0)\n",
    "arr"
   ]
  },
  {
   "cell_type": "code",
   "execution_count": 44,
   "id": "d93f63c5",
   "metadata": {},
   "outputs": [
    {
     "data": {
      "text/plain": [
       "array([10,  1,  2,  3, 30,  4,  5,  6])"
      ]
     },
     "execution_count": 44,
     "metadata": {},
     "output_type": "execute_result"
    }
   ],
   "source": [
    "arr = np.insert(arr, 4, 30, axis = 0)\n",
    "arr"
   ]
  },
  {
   "cell_type": "code",
   "execution_count": 45,
   "id": "5303a47e",
   "metadata": {},
   "outputs": [
    {
     "data": {
      "text/plain": [
       "array([10,  1,  2,  3, 30,  4, 50,  6])"
      ]
     },
     "execution_count": 45,
     "metadata": {},
     "output_type": "execute_result"
    }
   ],
   "source": [
    "arr[-2] = 50\n",
    "arr"
   ]
  },
  {
   "cell_type": "code",
   "execution_count": 47,
   "id": "7c18df69",
   "metadata": {},
   "outputs": [],
   "source": [
    "arr = np.delete(arr, -2, axis = 0)"
   ]
  },
  {
   "cell_type": "code",
   "execution_count": 48,
   "id": "b64ad422",
   "metadata": {},
   "outputs": [
    {
     "data": {
      "text/plain": [
       "array([10,  1,  2,  3, 30,  4,  6])"
      ]
     },
     "execution_count": 48,
     "metadata": {},
     "output_type": "execute_result"
    }
   ],
   "source": [
    "arr"
   ]
  },
  {
   "cell_type": "code",
   "execution_count": 51,
   "id": "aa0c18a1",
   "metadata": {},
   "outputs": [],
   "source": [
    "def search_30(arr):\n",
    "    return np.where(arr == 30)[0]"
   ]
  },
  {
   "cell_type": "code",
   "execution_count": 52,
   "id": "3a1f9701",
   "metadata": {},
   "outputs": [
    {
     "data": {
      "text/plain": [
       "array([4], dtype=int64)"
      ]
     },
     "execution_count": 52,
     "metadata": {},
     "output_type": "execute_result"
    }
   ],
   "source": [
    "search_30(arr)"
   ]
  },
  {
   "cell_type": "code",
   "execution_count": 53,
   "id": "da84cfbd",
   "metadata": {},
   "outputs": [
    {
     "data": {
      "text/plain": [
       "array([ 1,  2,  3,  4,  6, 10, 30])"
      ]
     },
     "execution_count": 53,
     "metadata": {},
     "output_type": "execute_result"
    }
   ],
   "source": [
    "arr = np.sort(arr, axis = 0)\n",
    "arr"
   ]
  }
 ],
 "metadata": {
  "kernelspec": {
   "display_name": "Python 3 (ipykernel)",
   "language": "python",
   "name": "python3"
  },
  "language_info": {
   "codemirror_mode": {
    "name": "ipython",
    "version": 3
   },
   "file_extension": ".py",
   "mimetype": "text/x-python",
   "name": "python",
   "nbconvert_exporter": "python",
   "pygments_lexer": "ipython3",
   "version": "3.10.9"
  }
 },
 "nbformat": 4,
 "nbformat_minor": 5
}
