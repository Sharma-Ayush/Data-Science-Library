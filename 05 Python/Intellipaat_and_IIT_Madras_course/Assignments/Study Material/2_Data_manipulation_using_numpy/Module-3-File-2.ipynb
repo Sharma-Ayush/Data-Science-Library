{
 "cells": [
  {
   "cell_type": "code",
   "execution_count": 1,
   "id": "1fed7d81",
   "metadata": {},
   "outputs": [],
   "source": [
    "import numpy as np"
   ]
  },
  {
   "cell_type": "markdown",
   "id": "61caffbf",
   "metadata": {},
   "source": [
    "# Problem Statement:"
   ]
  },
  {
   "cell_type": "markdown",
   "id": "952f87b8",
   "metadata": {},
   "source": [
    "Numpy library package from python is one of the most useful while conducting any statistical\n",
    "analysis in data science. Familiarize yourself with the nitty gritties of the numpy and various\n",
    "modules that it comes with."
   ]
  },
  {
   "cell_type": "markdown",
   "id": "f67ae55e",
   "metadata": {},
   "source": [
    "# Tasks to be Performed:"
   ]
  },
  {
   "cell_type": "markdown",
   "id": "9f677f3e",
   "metadata": {},
   "source": [
    "1. Given two numpy arrays A and B that have values [1,2,3,4] and [5,6,7,8] respectively.  \n",
    "Perform the following operations.  \n",
    "a. Add the two arrays  \n",
    "b. Subtract the two arrays  \n",
    "c. Multiply the two arrays:  \n",
    "i. With 5  \n",
    "ii. With each other.  \n",
    "d. Divide the two arrays:  \n",
    "i. By 2  \n",
    "ii. Divide A with B  \n",
    "iii. Divide B with A."
   ]
  },
  {
   "cell_type": "code",
   "execution_count": 2,
   "id": "a4d1b8bb",
   "metadata": {},
   "outputs": [],
   "source": [
    "A = np.array([1, 2, 3, 4])\n",
    "B = np.array([5, 6, 7, 8])"
   ]
  },
  {
   "cell_type": "code",
   "execution_count": 3,
   "id": "5f389f79",
   "metadata": {},
   "outputs": [
    {
     "data": {
      "text/plain": [
       "array([ 6,  8, 10, 12])"
      ]
     },
     "execution_count": 3,
     "metadata": {},
     "output_type": "execute_result"
    }
   ],
   "source": [
    "np.add(A, B)"
   ]
  },
  {
   "cell_type": "code",
   "execution_count": 4,
   "id": "209716e8",
   "metadata": {},
   "outputs": [
    {
     "data": {
      "text/plain": [
       "array([-4, -4, -4, -4])"
      ]
     },
     "execution_count": 4,
     "metadata": {},
     "output_type": "execute_result"
    }
   ],
   "source": [
    "np.subtract(A, B)"
   ]
  },
  {
   "cell_type": "code",
   "execution_count": 5,
   "id": "50dd5ccf",
   "metadata": {},
   "outputs": [
    {
     "data": {
      "text/plain": [
       "array([ 5, 10, 15, 20])"
      ]
     },
     "execution_count": 5,
     "metadata": {},
     "output_type": "execute_result"
    }
   ],
   "source": [
    "np.multiply(A, 5)"
   ]
  },
  {
   "cell_type": "code",
   "execution_count": 6,
   "id": "d36e510d",
   "metadata": {},
   "outputs": [
    {
     "data": {
      "text/plain": [
       "array([ 5, 12, 21, 32])"
      ]
     },
     "execution_count": 6,
     "metadata": {},
     "output_type": "execute_result"
    }
   ],
   "source": [
    "np.multiply(A, B)"
   ]
  },
  {
   "cell_type": "code",
   "execution_count": 7,
   "id": "26a59b8f",
   "metadata": {},
   "outputs": [
    {
     "data": {
      "text/plain": [
       "array([0.5, 1. , 1.5, 2. ])"
      ]
     },
     "execution_count": 7,
     "metadata": {},
     "output_type": "execute_result"
    }
   ],
   "source": [
    "np.divide(A, 2)"
   ]
  },
  {
   "cell_type": "code",
   "execution_count": 8,
   "id": "9b103157",
   "metadata": {},
   "outputs": [
    {
     "data": {
      "text/plain": [
       "array([0.2       , 0.33333333, 0.42857143, 0.5       ])"
      ]
     },
     "execution_count": 8,
     "metadata": {},
     "output_type": "execute_result"
    }
   ],
   "source": [
    "np.divide(A, B)"
   ]
  },
  {
   "cell_type": "code",
   "execution_count": 9,
   "id": "53d0eb87",
   "metadata": {},
   "outputs": [
    {
     "data": {
      "text/plain": [
       "array([5.        , 3.        , 2.33333333, 2.        ])"
      ]
     },
     "execution_count": 9,
     "metadata": {},
     "output_type": "execute_result"
    }
   ],
   "source": [
    "np.divide(B, A)"
   ]
  },
  {
   "cell_type": "markdown",
   "id": "37a20e2e",
   "metadata": {},
   "source": [
    "2. For the given two arrays A and B.  \n",
    "A = np.array([[2,9],[6,13]])  \n",
    "B = np.array([[1,4],[3,11]])  \n",
    "Perform the following operations,  \n",
    "a. Cross product of A and B.  \n",
    "b. Dot product of A and B.  \n",
    "c. Matrix multiplication of A and B.  \n",
    "d. Square root of A and B."
   ]
  },
  {
   "cell_type": "code",
   "execution_count": 58,
   "id": "80360be0",
   "metadata": {},
   "outputs": [],
   "source": [
    "A = np.array([[2,9],[6,13]])  \n",
    "B = np.array([[1,4],[3,11]]) "
   ]
  },
  {
   "cell_type": "code",
   "execution_count": 59,
   "id": "c55d8575",
   "metadata": {},
   "outputs": [
    {
     "data": {
      "text/plain": [
       "array([-1, 27])"
      ]
     },
     "execution_count": 59,
     "metadata": {},
     "output_type": "execute_result"
    }
   ],
   "source": [
    "np.cross(A, B, axisa = 1, axisb = 1)"
   ]
  },
  {
   "cell_type": "code",
   "execution_count": 60,
   "id": "8c30628d",
   "metadata": {},
   "outputs": [
    {
     "data": {
      "text/plain": [
       "array([[ 29, 107],\n",
       "       [ 45, 167]])"
      ]
     },
     "execution_count": 60,
     "metadata": {},
     "output_type": "execute_result"
    }
   ],
   "source": [
    "np.dot(A, B)"
   ]
  },
  {
   "cell_type": "code",
   "execution_count": 61,
   "id": "18e8f1a8",
   "metadata": {},
   "outputs": [
    {
     "data": {
      "text/plain": [
       "array([[ 29, 107],\n",
       "       [ 45, 167]])"
      ]
     },
     "execution_count": 61,
     "metadata": {},
     "output_type": "execute_result"
    }
   ],
   "source": [
    "np.matmul(A, B)"
   ]
  },
  {
   "cell_type": "code",
   "execution_count": 62,
   "id": "8d82b901",
   "metadata": {},
   "outputs": [
    {
     "data": {
      "text/plain": [
       "array([[1.41421356, 3.        ],\n",
       "       [2.44948974, 3.60555128]])"
      ]
     },
     "execution_count": 62,
     "metadata": {},
     "output_type": "execute_result"
    }
   ],
   "source": [
    "np.sqrt(A)"
   ]
  },
  {
   "cell_type": "code",
   "execution_count": 63,
   "id": "e82b4553",
   "metadata": {},
   "outputs": [
    {
     "data": {
      "text/plain": [
       "array([[1.        , 2.        ],\n",
       "       [1.73205081, 3.31662479]])"
      ]
     },
     "execution_count": 63,
     "metadata": {},
     "output_type": "execute_result"
    }
   ],
   "source": [
    "np.sqrt(B)"
   ]
  },
  {
   "cell_type": "markdown",
   "id": "47e6332d",
   "metadata": {},
   "source": [
    "3. Create a 3x3 matrix with random values, flatten the array with the reshape() method and\n",
    "print the shape of the flattened array and the resultant array."
   ]
  },
  {
   "cell_type": "code",
   "execution_count": 10,
   "id": "ef8bf8a7",
   "metadata": {},
   "outputs": [
    {
     "name": "stdout",
     "output_type": "stream",
     "text": [
      "Shape of resultant array:  (3, 3)\n",
      "Shape of flattened array:  (9,)\n"
     ]
    }
   ],
   "source": [
    "arr_2d = np.random.random((3, 3))\n",
    "arr_2d_flattened = np.reshape(arr_2d, (9,))\n",
    "print(\"Shape of resultant array: \", arr_2d.shape)\n",
    "print(\"Shape of flattened array: \", arr_2d_flattened.shape)"
   ]
  },
  {
   "cell_type": "markdown",
   "id": "0bc1bada",
   "metadata": {},
   "source": [
    "4. Create an array that will have days from an entire year in the datetime format using the\n",
    "datetime64 numpy method."
   ]
  },
  {
   "cell_type": "code",
   "execution_count": 12,
   "id": "7b12291e",
   "metadata": {},
   "outputs": [
    {
     "name": "stdout",
     "output_type": "stream",
     "text": [
      "['2023-01-01' '2023-01-02' '2023-01-03' '2023-01-04' '2023-01-05'\n",
      " '2023-01-06' '2023-01-07' '2023-01-08' '2023-01-09' '2023-01-10'\n",
      " '2023-01-11' '2023-01-12' '2023-01-13' '2023-01-14' '2023-01-15'\n",
      " '2023-01-16' '2023-01-17' '2023-01-18' '2023-01-19' '2023-01-20'\n",
      " '2023-01-21' '2023-01-22' '2023-01-23' '2023-01-24' '2023-01-25'\n",
      " '2023-01-26' '2023-01-27' '2023-01-28' '2023-01-29' '2023-01-30'\n",
      " '2023-01-31' '2023-02-01' '2023-02-02' '2023-02-03' '2023-02-04'\n",
      " '2023-02-05' '2023-02-06' '2023-02-07' '2023-02-08' '2023-02-09'\n",
      " '2023-02-10' '2023-02-11' '2023-02-12' '2023-02-13' '2023-02-14'\n",
      " '2023-02-15' '2023-02-16' '2023-02-17' '2023-02-18' '2023-02-19'\n",
      " '2023-02-20' '2023-02-21' '2023-02-22' '2023-02-23' '2023-02-24'\n",
      " '2023-02-25' '2023-02-26' '2023-02-27' '2023-02-28' '2023-03-01'\n",
      " '2023-03-02' '2023-03-03' '2023-03-04' '2023-03-05' '2023-03-06'\n",
      " '2023-03-07' '2023-03-08' '2023-03-09' '2023-03-10' '2023-03-11'\n",
      " '2023-03-12' '2023-03-13' '2023-03-14' '2023-03-15' '2023-03-16'\n",
      " '2023-03-17' '2023-03-18' '2023-03-19' '2023-03-20' '2023-03-21'\n",
      " '2023-03-22' '2023-03-23' '2023-03-24' '2023-03-25' '2023-03-26'\n",
      " '2023-03-27' '2023-03-28' '2023-03-29' '2023-03-30' '2023-03-31'\n",
      " '2023-04-01' '2023-04-02' '2023-04-03' '2023-04-04' '2023-04-05'\n",
      " '2023-04-06' '2023-04-07' '2023-04-08' '2023-04-09' '2023-04-10'\n",
      " '2023-04-11' '2023-04-12' '2023-04-13' '2023-04-14' '2023-04-15'\n",
      " '2023-04-16' '2023-04-17' '2023-04-18' '2023-04-19' '2023-04-20'\n",
      " '2023-04-21' '2023-04-22' '2023-04-23' '2023-04-24' '2023-04-25'\n",
      " '2023-04-26' '2023-04-27' '2023-04-28' '2023-04-29' '2023-04-30'\n",
      " '2023-05-01' '2023-05-02' '2023-05-03' '2023-05-04' '2023-05-05'\n",
      " '2023-05-06' '2023-05-07' '2023-05-08' '2023-05-09' '2023-05-10'\n",
      " '2023-05-11' '2023-05-12' '2023-05-13' '2023-05-14' '2023-05-15'\n",
      " '2023-05-16' '2023-05-17' '2023-05-18' '2023-05-19' '2023-05-20'\n",
      " '2023-05-21' '2023-05-22' '2023-05-23' '2023-05-24' '2023-05-25'\n",
      " '2023-05-26' '2023-05-27' '2023-05-28' '2023-05-29' '2023-05-30'\n",
      " '2023-05-31' '2023-06-01' '2023-06-02' '2023-06-03' '2023-06-04'\n",
      " '2023-06-05' '2023-06-06' '2023-06-07' '2023-06-08' '2023-06-09'\n",
      " '2023-06-10' '2023-06-11' '2023-06-12' '2023-06-13' '2023-06-14'\n",
      " '2023-06-15' '2023-06-16' '2023-06-17' '2023-06-18' '2023-06-19'\n",
      " '2023-06-20' '2023-06-21' '2023-06-22' '2023-06-23' '2023-06-24'\n",
      " '2023-06-25' '2023-06-26' '2023-06-27' '2023-06-28' '2023-06-29'\n",
      " '2023-06-30' '2023-07-01' '2023-07-02' '2023-07-03' '2023-07-04'\n",
      " '2023-07-05' '2023-07-06' '2023-07-07' '2023-07-08' '2023-07-09'\n",
      " '2023-07-10' '2023-07-11' '2023-07-12' '2023-07-13' '2023-07-14'\n",
      " '2023-07-15' '2023-07-16' '2023-07-17' '2023-07-18' '2023-07-19'\n",
      " '2023-07-20' '2023-07-21' '2023-07-22' '2023-07-23' '2023-07-24'\n",
      " '2023-07-25' '2023-07-26' '2023-07-27' '2023-07-28' '2023-07-29'\n",
      " '2023-07-30' '2023-07-31' '2023-08-01' '2023-08-02' '2023-08-03'\n",
      " '2023-08-04' '2023-08-05' '2023-08-06' '2023-08-07' '2023-08-08'\n",
      " '2023-08-09' '2023-08-10' '2023-08-11' '2023-08-12' '2023-08-13'\n",
      " '2023-08-14' '2023-08-15' '2023-08-16' '2023-08-17' '2023-08-18'\n",
      " '2023-08-19' '2023-08-20' '2023-08-21' '2023-08-22' '2023-08-23'\n",
      " '2023-08-24' '2023-08-25' '2023-08-26' '2023-08-27' '2023-08-28'\n",
      " '2023-08-29' '2023-08-30' '2023-08-31' '2023-09-01' '2023-09-02'\n",
      " '2023-09-03' '2023-09-04' '2023-09-05' '2023-09-06' '2023-09-07'\n",
      " '2023-09-08' '2023-09-09' '2023-09-10' '2023-09-11' '2023-09-12'\n",
      " '2023-09-13' '2023-09-14' '2023-09-15' '2023-09-16' '2023-09-17'\n",
      " '2023-09-18' '2023-09-19' '2023-09-20' '2023-09-21' '2023-09-22'\n",
      " '2023-09-23' '2023-09-24' '2023-09-25' '2023-09-26' '2023-09-27'\n",
      " '2023-09-28' '2023-09-29' '2023-09-30' '2023-10-01' '2023-10-02'\n",
      " '2023-10-03' '2023-10-04' '2023-10-05' '2023-10-06' '2023-10-07'\n",
      " '2023-10-08' '2023-10-09' '2023-10-10' '2023-10-11' '2023-10-12'\n",
      " '2023-10-13' '2023-10-14' '2023-10-15' '2023-10-16' '2023-10-17'\n",
      " '2023-10-18' '2023-10-19' '2023-10-20' '2023-10-21' '2023-10-22'\n",
      " '2023-10-23' '2023-10-24' '2023-10-25' '2023-10-26' '2023-10-27'\n",
      " '2023-10-28' '2023-10-29' '2023-10-30' '2023-10-31' '2023-11-01'\n",
      " '2023-11-02' '2023-11-03' '2023-11-04' '2023-11-05' '2023-11-06'\n",
      " '2023-11-07' '2023-11-08' '2023-11-09' '2023-11-10' '2023-11-11'\n",
      " '2023-11-12' '2023-11-13' '2023-11-14' '2023-11-15' '2023-11-16'\n",
      " '2023-11-17' '2023-11-18' '2023-11-19' '2023-11-20' '2023-11-21'\n",
      " '2023-11-22' '2023-11-23' '2023-11-24' '2023-11-25' '2023-11-26'\n",
      " '2023-11-27' '2023-11-28' '2023-11-29' '2023-11-30' '2023-12-01'\n",
      " '2023-12-02' '2023-12-03' '2023-12-04' '2023-12-05' '2023-12-06'\n",
      " '2023-12-07' '2023-12-08' '2023-12-09' '2023-12-10' '2023-12-11'\n",
      " '2023-12-12' '2023-12-13' '2023-12-14' '2023-12-15' '2023-12-16'\n",
      " '2023-12-17' '2023-12-18' '2023-12-19' '2023-12-20' '2023-12-21'\n",
      " '2023-12-22' '2023-12-23' '2023-12-24' '2023-12-25' '2023-12-26'\n",
      " '2023-12-27' '2023-12-28' '2023-12-29' '2023-12-30' '2023-12-31']\n"
     ]
    }
   ],
   "source": [
    "#assuming year 2023, so 365 days\n",
    "datediff = np.arange(0, 365)\n",
    "initial_date = np.datetime64('2023-01-01')\n",
    "dates = datediff + initial_date\n",
    "print(dates)"
   ]
  },
  {
   "cell_type": "markdown",
   "id": "a516189b",
   "metadata": {},
   "source": [
    "5. Given two arrays A and B, perform the following operations  \n",
    "A = np.array([[2,3],[6,4]])  \n",
    "B = np.array([[3,6],[4,9]])  \n",
    "a. Horizontal stacking  \n",
    "b. Vertical Stacking  \n",
    "c. Row Stacking  \n",
    "d. Column Stacking  \n",
    "e. Depth Stacking  \n",
    "f. Append A to B  \n",
    "g. Concatenate A and B"
   ]
  },
  {
   "cell_type": "code",
   "execution_count": 14,
   "id": "fd1a8cc4",
   "metadata": {},
   "outputs": [],
   "source": [
    "A = np.array([[2, 3],[6, 4]])\n",
    "B = np.array([[3, 6],[4, 9]])"
   ]
  },
  {
   "cell_type": "code",
   "execution_count": 15,
   "id": "36ae78d8",
   "metadata": {},
   "outputs": [
    {
     "data": {
      "text/plain": [
       "array([[2, 3, 3, 6],\n",
       "       [6, 4, 4, 9]])"
      ]
     },
     "execution_count": 15,
     "metadata": {},
     "output_type": "execute_result"
    }
   ],
   "source": [
    "np.hstack([A, B])"
   ]
  },
  {
   "cell_type": "code",
   "execution_count": 16,
   "id": "f62328de",
   "metadata": {},
   "outputs": [
    {
     "data": {
      "text/plain": [
       "array([[2, 3],\n",
       "       [6, 4],\n",
       "       [3, 6],\n",
       "       [4, 9]])"
      ]
     },
     "execution_count": 16,
     "metadata": {},
     "output_type": "execute_result"
    }
   ],
   "source": [
    "np.vstack([A, B])"
   ]
  },
  {
   "cell_type": "code",
   "execution_count": 17,
   "id": "6745c744",
   "metadata": {},
   "outputs": [
    {
     "data": {
      "text/plain": [
       "array([[2, 3],\n",
       "       [6, 4],\n",
       "       [3, 6],\n",
       "       [4, 9]])"
      ]
     },
     "execution_count": 17,
     "metadata": {},
     "output_type": "execute_result"
    }
   ],
   "source": [
    "np.row_stack([A, B])"
   ]
  },
  {
   "cell_type": "code",
   "execution_count": 18,
   "id": "1a7b789e",
   "metadata": {},
   "outputs": [
    {
     "data": {
      "text/plain": [
       "array([[2, 3, 3, 6],\n",
       "       [6, 4, 4, 9]])"
      ]
     },
     "execution_count": 18,
     "metadata": {},
     "output_type": "execute_result"
    }
   ],
   "source": [
    "np.column_stack([A, B])"
   ]
  },
  {
   "cell_type": "code",
   "execution_count": 19,
   "id": "d2e260b1",
   "metadata": {},
   "outputs": [
    {
     "data": {
      "text/plain": [
       "array([[[2, 3],\n",
       "        [3, 6]],\n",
       "\n",
       "       [[6, 4],\n",
       "        [4, 9]]])"
      ]
     },
     "execution_count": 19,
     "metadata": {},
     "output_type": "execute_result"
    }
   ],
   "source": [
    "np.dstack([A, B])"
   ]
  },
  {
   "cell_type": "code",
   "execution_count": 23,
   "id": "d1796ac7",
   "metadata": {},
   "outputs": [
    {
     "data": {
      "text/plain": [
       "array([[3, 6],\n",
       "       [4, 9],\n",
       "       [2, 3],\n",
       "       [6, 4]])"
      ]
     },
     "execution_count": 23,
     "metadata": {},
     "output_type": "execute_result"
    }
   ],
   "source": [
    "np.append(B, A, axis = 0)"
   ]
  },
  {
   "cell_type": "code",
   "execution_count": 22,
   "id": "1e527912",
   "metadata": {},
   "outputs": [
    {
     "data": {
      "text/plain": [
       "array([[3, 6, 2, 3],\n",
       "       [4, 9, 6, 4]])"
      ]
     },
     "execution_count": 22,
     "metadata": {},
     "output_type": "execute_result"
    }
   ],
   "source": [
    "np.append(B, A, axis = 1)"
   ]
  },
  {
   "cell_type": "code",
   "execution_count": 24,
   "id": "8e7964fb",
   "metadata": {},
   "outputs": [
    {
     "data": {
      "text/plain": [
       "array([3, 6, 4, 9, 2, 3, 6, 4])"
      ]
     },
     "execution_count": 24,
     "metadata": {},
     "output_type": "execute_result"
    }
   ],
   "source": [
    "np.append(B, A)"
   ]
  },
  {
   "cell_type": "code",
   "execution_count": 26,
   "id": "ebd382be",
   "metadata": {},
   "outputs": [
    {
     "data": {
      "text/plain": [
       "array([[2, 3],\n",
       "       [6, 4],\n",
       "       [3, 6],\n",
       "       [4, 9]])"
      ]
     },
     "execution_count": 26,
     "metadata": {},
     "output_type": "execute_result"
    }
   ],
   "source": [
    "np.concatenate([A, B], axis = 0)"
   ]
  },
  {
   "cell_type": "code",
   "execution_count": 27,
   "id": "a099d307",
   "metadata": {},
   "outputs": [
    {
     "data": {
      "text/plain": [
       "array([[2, 3, 3, 6],\n",
       "       [6, 4, 4, 9]])"
      ]
     },
     "execution_count": 27,
     "metadata": {},
     "output_type": "execute_result"
    }
   ],
   "source": [
    "np.concatenate([A, B], axis = 1)"
   ]
  },
  {
   "cell_type": "code",
   "execution_count": 29,
   "id": "f2c8cc72",
   "metadata": {},
   "outputs": [
    {
     "data": {
      "text/plain": [
       "array([2, 3, 6, 4, 3, 6, 4, 9])"
      ]
     },
     "execution_count": 29,
     "metadata": {},
     "output_type": "execute_result"
    }
   ],
   "source": [
    "np.concatenate([A, B], axis = None)"
   ]
  },
  {
   "cell_type": "markdown",
   "id": "06ff9e60",
   "metadata": {},
   "source": [
    "6. Given an array A, perform the following operations  \n",
    "A = np.array([[1,2,3],[4,5,6],[7,8,9],[10,11,12],[13,14,15], [16,17,18]])  \n",
    "a. Horizontal split  \n",
    "b. Vertical Split  \n",
    "c. Row Split  \n",
    "d. Column Split"
   ]
  },
  {
   "cell_type": "code",
   "execution_count": 30,
   "id": "6c5ac8df",
   "metadata": {},
   "outputs": [],
   "source": [
    "A = np.array([[1,2,3],[4,5,6],[7,8,9],[10,11,12],[13,14,15], [16,17,18]])"
   ]
  },
  {
   "cell_type": "code",
   "execution_count": 31,
   "id": "d0f5f7a1",
   "metadata": {},
   "outputs": [
    {
     "data": {
      "text/plain": [
       "array([[ 1,  2,  3],\n",
       "       [ 4,  5,  6],\n",
       "       [ 7,  8,  9],\n",
       "       [10, 11, 12],\n",
       "       [13, 14, 15],\n",
       "       [16, 17, 18]])"
      ]
     },
     "execution_count": 31,
     "metadata": {},
     "output_type": "execute_result"
    }
   ],
   "source": [
    "A"
   ]
  },
  {
   "cell_type": "code",
   "execution_count": 32,
   "id": "b861acaf",
   "metadata": {},
   "outputs": [
    {
     "data": {
      "text/plain": [
       "[array([[ 1],\n",
       "        [ 4],\n",
       "        [ 7],\n",
       "        [10],\n",
       "        [13],\n",
       "        [16]]),\n",
       " array([[ 2],\n",
       "        [ 5],\n",
       "        [ 8],\n",
       "        [11],\n",
       "        [14],\n",
       "        [17]]),\n",
       " array([[ 3],\n",
       "        [ 6],\n",
       "        [ 9],\n",
       "        [12],\n",
       "        [15],\n",
       "        [18]])]"
      ]
     },
     "execution_count": 32,
     "metadata": {},
     "output_type": "execute_result"
    }
   ],
   "source": [
    "np.hsplit(A, 3)"
   ]
  },
  {
   "cell_type": "code",
   "execution_count": 33,
   "id": "9699ac9f",
   "metadata": {},
   "outputs": [
    {
     "data": {
      "text/plain": [
       "[array([[ 1,  2],\n",
       "        [ 4,  5],\n",
       "        [ 7,  8],\n",
       "        [10, 11],\n",
       "        [13, 14],\n",
       "        [16, 17]]),\n",
       " array([[ 3],\n",
       "        [ 6],\n",
       "        [ 9],\n",
       "        [12],\n",
       "        [15],\n",
       "        [18]])]"
      ]
     },
     "execution_count": 33,
     "metadata": {},
     "output_type": "execute_result"
    }
   ],
   "source": [
    "np.hsplit(A, [2])"
   ]
  },
  {
   "cell_type": "code",
   "execution_count": 34,
   "id": "38e0ff4f",
   "metadata": {},
   "outputs": [
    {
     "data": {
      "text/plain": [
       "[array([[1, 2, 3],\n",
       "        [4, 5, 6]]),\n",
       " array([[ 7,  8,  9],\n",
       "        [10, 11, 12]]),\n",
       " array([[13, 14, 15],\n",
       "        [16, 17, 18]])]"
      ]
     },
     "execution_count": 34,
     "metadata": {},
     "output_type": "execute_result"
    }
   ],
   "source": [
    "np.vsplit(A, 3)"
   ]
  },
  {
   "cell_type": "code",
   "execution_count": 35,
   "id": "02215321",
   "metadata": {},
   "outputs": [
    {
     "data": {
      "text/plain": [
       "[array([[1, 2, 3]]),\n",
       " array([[4, 5, 6]]),\n",
       " array([[7, 8, 9]]),\n",
       " array([[10, 11, 12]]),\n",
       " array([[13, 14, 15]]),\n",
       " array([[16, 17, 18]])]"
      ]
     },
     "execution_count": 35,
     "metadata": {},
     "output_type": "execute_result"
    }
   ],
   "source": [
    "np.vsplit(A, 6)"
   ]
  },
  {
   "cell_type": "code",
   "execution_count": 37,
   "id": "62af1324",
   "metadata": {},
   "outputs": [
    {
     "data": {
      "text/plain": [
       "[array([[1, 2, 3],\n",
       "        [4, 5, 6],\n",
       "        [7, 8, 9]]),\n",
       " array([[10, 11, 12],\n",
       "        [13, 14, 15],\n",
       "        [16, 17, 18]])]"
      ]
     },
     "execution_count": 37,
     "metadata": {},
     "output_type": "execute_result"
    }
   ],
   "source": [
    "np.vsplit(A, 2)"
   ]
  },
  {
   "cell_type": "code",
   "execution_count": 39,
   "id": "56c6f972",
   "metadata": {},
   "outputs": [
    {
     "data": {
      "text/plain": [
       "[array([[1, 2, 3],\n",
       "        [4, 5, 6]]),\n",
       " array([[ 7,  8,  9],\n",
       "        [10, 11, 12],\n",
       "        [13, 14, 15]]),\n",
       " array([[16, 17, 18]])]"
      ]
     },
     "execution_count": 39,
     "metadata": {},
     "output_type": "execute_result"
    }
   ],
   "source": [
    "np.vsplit(A, [2, 5])"
   ]
  },
  {
   "cell_type": "code",
   "execution_count": 40,
   "id": "22e9c5c9",
   "metadata": {},
   "outputs": [
    {
     "data": {
      "text/plain": [
       "[array([[1, 2, 3],\n",
       "        [4, 5, 6]]),\n",
       " array([[ 7,  8,  9],\n",
       "        [10, 11, 12]]),\n",
       " array([[13, 14, 15],\n",
       "        [16, 17, 18]])]"
      ]
     },
     "execution_count": 40,
     "metadata": {},
     "output_type": "execute_result"
    }
   ],
   "source": [
    "# row split\n",
    "np.split(A, 3, axis = 0)"
   ]
  },
  {
   "cell_type": "code",
   "execution_count": 41,
   "id": "4d602dee",
   "metadata": {},
   "outputs": [
    {
     "data": {
      "text/plain": [
       "[array([[ 1],\n",
       "        [ 4],\n",
       "        [ 7],\n",
       "        [10],\n",
       "        [13],\n",
       "        [16]]),\n",
       " array([[ 2],\n",
       "        [ 5],\n",
       "        [ 8],\n",
       "        [11],\n",
       "        [14],\n",
       "        [17]]),\n",
       " array([[ 3],\n",
       "        [ 6],\n",
       "        [ 9],\n",
       "        [12],\n",
       "        [15],\n",
       "        [18]])]"
      ]
     },
     "execution_count": 41,
     "metadata": {},
     "output_type": "execute_result"
    }
   ],
   "source": [
    "# column split\n",
    "np.split(A, 3, axis = 1)"
   ]
  },
  {
   "cell_type": "markdown",
   "id": "1007d95a",
   "metadata": {},
   "source": [
    "7. For a given 3x3 matrix, perform the following operations.  \n",
    "A = np.array([[1,4,7],[3,1,9],[2,8,11]])  \n",
    "a. Find the rank of the matrix  \n",
    "b. Find the trace of the matrix  \n",
    "c. Find the inverse of the matrix  \n",
    "d. Find the transpose of the matrix  \n",
    "e. Find the determinant of the matrix  \n",
    "f. Find the eigenvalues and eigenvectors the matrix"
   ]
  },
  {
   "cell_type": "code",
   "execution_count": 48,
   "id": "e361cd36",
   "metadata": {},
   "outputs": [],
   "source": [
    "A = np.array([[1,4,7],[3,1,9],[2,8,11]])  "
   ]
  },
  {
   "cell_type": "code",
   "execution_count": 49,
   "id": "597c4912",
   "metadata": {},
   "outputs": [
    {
     "data": {
      "text/plain": [
       "array([[ 1,  4,  7],\n",
       "       [ 3,  1,  9],\n",
       "       [ 2,  8, 11]])"
      ]
     },
     "execution_count": 49,
     "metadata": {},
     "output_type": "execute_result"
    }
   ],
   "source": [
    "A"
   ]
  },
  {
   "cell_type": "code",
   "execution_count": 50,
   "id": "0bdb0b5e",
   "metadata": {},
   "outputs": [
    {
     "data": {
      "text/plain": [
       "3"
      ]
     },
     "execution_count": 50,
     "metadata": {},
     "output_type": "execute_result"
    }
   ],
   "source": [
    "np.linalg.matrix_rank(A) # rank"
   ]
  },
  {
   "cell_type": "code",
   "execution_count": 52,
   "id": "eef783b8",
   "metadata": {},
   "outputs": [
    {
     "data": {
      "text/plain": [
       "13"
      ]
     },
     "execution_count": 52,
     "metadata": {},
     "output_type": "execute_result"
    }
   ],
   "source": [
    "np.sum(np.diag(A)) # trace"
   ]
  },
  {
   "cell_type": "code",
   "execution_count": 53,
   "id": "eaaf0897",
   "metadata": {},
   "outputs": [
    {
     "data": {
      "text/plain": [
       "13"
      ]
     },
     "execution_count": 53,
     "metadata": {},
     "output_type": "execute_result"
    }
   ],
   "source": [
    "A.trace() # trace"
   ]
  },
  {
   "cell_type": "code",
   "execution_count": null,
   "id": "1e98e291",
   "metadata": {},
   "outputs": [],
   "source": [
    "np.linalg.inv(A) # inverse"
   ]
  },
  {
   "cell_type": "code",
   "execution_count": 54,
   "id": "2e487a57",
   "metadata": {},
   "outputs": [
    {
     "data": {
      "text/plain": [
       "array([[ 1,  3,  2],\n",
       "       [ 4,  1,  8],\n",
       "       [ 7,  9, 11]])"
      ]
     },
     "execution_count": 54,
     "metadata": {},
     "output_type": "execute_result"
    }
   ],
   "source": [
    "np.transpose(A, [1, 0]) # transpose"
   ]
  },
  {
   "cell_type": "code",
   "execution_count": 55,
   "id": "0328f75d",
   "metadata": {},
   "outputs": [
    {
     "data": {
      "text/plain": [
       "33.000000000000014"
      ]
     },
     "execution_count": 55,
     "metadata": {},
     "output_type": "execute_result"
    }
   ],
   "source": [
    "np.linalg.det(A) # determinant"
   ]
  },
  {
   "cell_type": "code",
   "execution_count": 57,
   "id": "2708ec0f",
   "metadata": {},
   "outputs": [
    {
     "name": "stdout",
     "output_type": "stream",
     "text": [
      "Eigen values:  [17.41535066 -0.48171173 -3.93363893]\n",
      "Eigen vectors:  [[-0.44018011 -0.89954986  0.05526996]\n",
      " [-0.49219026 -0.26902919 -0.88319891]\n",
      " [-0.75099282  0.34414147  0.46573052]]\n"
     ]
    }
   ],
   "source": [
    "w, v = np.linalg.eig(A) # eigenvalues & eigenvectors\n",
    "print(\"Eigen values: \", w)\n",
    "print(\"Eigen vectors: \", v)"
   ]
  },
  {
   "cell_type": "markdown",
   "id": "1112b454",
   "metadata": {},
   "source": [
    "8. For the given two arrays A and B, find the correlation coefficients.  \n",
    "A = np.array([[11,17,42],[21,19,27]])  \n",
    "B = np.array([[12,44,39],[62,81,10]])"
   ]
  },
  {
   "cell_type": "code",
   "execution_count": 44,
   "id": "20ecabad",
   "metadata": {},
   "outputs": [],
   "source": [
    "A = np.array([[11,17,42],[21,19,27]])  \n",
    "B = np.array([[12,44,39],[62,81,10]])"
   ]
  },
  {
   "cell_type": "code",
   "execution_count": 45,
   "id": "7d71f41a",
   "metadata": {},
   "outputs": [
    {
     "data": {
      "text/plain": [
       "array([[ 1.        ,  0.9106039 ,  0.53232532, -0.90264562],\n",
       "       [ 0.9106039 ,  1.        ,  0.13487934, -0.99982205],\n",
       "       [ 0.53232532,  0.13487934,  1.        , -0.11616343],\n",
       "       [-0.90264562, -0.99982205, -0.11616343,  1.        ]])"
      ]
     },
     "execution_count": 45,
     "metadata": {},
     "output_type": "execute_result"
    }
   ],
   "source": [
    "np.corrcoef(A, B) # correlation coefficient"
   ]
  }
 ],
 "metadata": {
  "kernelspec": {
   "display_name": "Python 3 (ipykernel)",
   "language": "python",
   "name": "python3"
  },
  "language_info": {
   "codemirror_mode": {
    "name": "ipython",
    "version": 3
   },
   "file_extension": ".py",
   "mimetype": "text/x-python",
   "name": "python",
   "nbconvert_exporter": "python",
   "pygments_lexer": "ipython3",
   "version": "3.10.9"
  }
 },
 "nbformat": 4,
 "nbformat_minor": 5
}
