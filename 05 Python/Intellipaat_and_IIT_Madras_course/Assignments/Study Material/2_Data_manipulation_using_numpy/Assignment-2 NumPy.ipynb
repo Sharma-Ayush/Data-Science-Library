{
 "cells": [
  {
   "cell_type": "code",
   "execution_count": 2,
   "id": "9e771616",
   "metadata": {},
   "outputs": [],
   "source": [
    "import numpy as np"
   ]
  },
  {
   "cell_type": "markdown",
   "id": "f3fd331c",
   "metadata": {},
   "source": [
    "# Problem Statement:"
   ]
  },
  {
   "cell_type": "markdown",
   "id": "42ca1ffa",
   "metadata": {},
   "source": [
    "You work in XYZ Corporation as a Data Analyst. Your corporation has told you to\n",
    "use the NumPy package and do some tasks related to that."
   ]
  },
  {
   "cell_type": "markdown",
   "id": "6d7370d2",
   "metadata": {},
   "source": [
    "# Tasks To Be Performed:"
   ]
  },
  {
   "cell_type": "markdown",
   "id": "5ba737c2",
   "metadata": {},
   "source": [
    "1. Create a 3x3 matrix array with values ranging from 2 to 10."
   ]
  },
  {
   "cell_type": "code",
   "execution_count": 5,
   "id": "fee1b7d5",
   "metadata": {},
   "outputs": [
    {
     "data": {
      "text/plain": [
       "array([[ 2,  3,  4],\n",
       "       [ 5,  6,  7],\n",
       "       [ 8,  9, 10]])"
      ]
     },
     "execution_count": 5,
     "metadata": {},
     "output_type": "execute_result"
    }
   ],
   "source": [
    "arr_1 = np.arange(2, 11).reshape((3, 3))\n",
    "arr_1"
   ]
  },
  {
   "cell_type": "markdown",
   "id": "820577d6",
   "metadata": {},
   "source": [
    "or"
   ]
  },
  {
   "cell_type": "code",
   "execution_count": 7,
   "id": "e88fc515",
   "metadata": {},
   "outputs": [
    {
     "data": {
      "text/plain": [
       "array([[ 2,  3,  4],\n",
       "       [ 5,  6,  7],\n",
       "       [ 8,  9, 10]])"
      ]
     },
     "execution_count": 7,
     "metadata": {},
     "output_type": "execute_result"
    }
   ],
   "source": [
    "arr_1 = np.resize(np.arange(2, 11), (3,3))\n",
    "arr_1"
   ]
  },
  {
   "cell_type": "markdown",
   "id": "88e95642",
   "metadata": {},
   "source": [
    "2. Create a NumPy array having user input values and convert the integer type to the float type of the elements of the array.  \n",
    "For instance: Original array [1, 2, 3, 4] Array converted to a float type: [ 1. 2. 3. 4.]"
   ]
  },
  {
   "cell_type": "code",
   "execution_count": 8,
   "id": "c1329fe1",
   "metadata": {},
   "outputs": [
    {
     "name": "stdout",
     "output_type": "stream",
     "text": [
      "Enter integers for the list(press q to quit): 1.0\n",
      "Error: Please enter integers only.\n",
      "Enter integers for the list(press q to quit): 1\n",
      "Enter integers for the list(press q to quit): 2\n",
      "Enter integers for the list(press q to quit): 3\n",
      "Enter integers for the list(press q to quit): 4\n",
      "Enter integers for the list(press q to quit): q\n",
      "Original Array:  [1 2 3 4]\n",
      "Float Array:  [1. 2. 3. 4.]\n"
     ]
    }
   ],
   "source": [
    "list_store  = []\n",
    "while True:\n",
    "    try:\n",
    "        user_input = input(\"Enter integers for the list(press q to quit): \")\n",
    "        if user_input == 'q':\n",
    "            break\n",
    "        user_input = int(user_input)\n",
    "    except ValueError:\n",
    "        print(\"Error: Please enter integers only.\")\n",
    "    except Exception as e:\n",
    "        print(f\"Error: {e}\")\n",
    "    else:\n",
    "        list_store.append(user_input)\n",
    "        \n",
    "Original_array = np.array(list_store)\n",
    "\n",
    "Float_Array = np.array(Original_array, dtype = np.float64)\n",
    "\n",
    "print(\"Original Array: \", Original_array)\n",
    "print(\"Float Array: \", Float_Array)"
   ]
  },
  {
   "cell_type": "markdown",
   "id": "1e5db48b",
   "metadata": {},
   "source": [
    "3. Write a NumPy program to append values to the end of an array.  \n",
    "For instance: Original array: [10, 20, 30] . After that, append values to the end of the array: [10 20 30 40 50 60 70 80 90]"
   ]
  },
  {
   "cell_type": "code",
   "execution_count": 19,
   "id": "05a7c6ad",
   "metadata": {},
   "outputs": [
    {
     "name": "stdout",
     "output_type": "stream",
     "text": [
      "Original array:  [10 20 30]\n",
      "Array after appending:  [10 20 30 40 50 60 70 80 90]\n"
     ]
    }
   ],
   "source": [
    "Original_array = np.array([10, 20, 30])\n",
    "print(\"Original array: \", Original_array)\n",
    "Append_array = np.linspace(40, 90, 6, dtype = int)\n",
    "Original_array = np.concatenate([Original_array, Append_array], axis = 0)\n",
    "print(\"Array after appending: \",Original_array)"
   ]
  },
  {
   "cell_type": "markdown",
   "id": "9a5ed537",
   "metadata": {},
   "source": [
    "or"
   ]
  },
  {
   "cell_type": "code",
   "execution_count": 13,
   "id": "d114bad7",
   "metadata": {},
   "outputs": [
    {
     "name": "stdout",
     "output_type": "stream",
     "text": [
      "Original array:  [10 20 30]\n",
      "Array after appending:  [10 20 30 40 50 60 70 80 90]\n"
     ]
    }
   ],
   "source": [
    "Original_array = np.array([10, 20, 30])\n",
    "print(\"Original array: \", Original_array)\n",
    "Append_array = np.linspace(40, 90, 6, dtype = int)\n",
    "Original_array = np.hstack([Original_array, Append_array])\n",
    "print(\"Array after appending: \",Original_array)"
   ]
  },
  {
   "cell_type": "markdown",
   "id": "c9ae289c",
   "metadata": {},
   "source": [
    "or"
   ]
  },
  {
   "cell_type": "code",
   "execution_count": 14,
   "id": "d34dde54",
   "metadata": {},
   "outputs": [
    {
     "name": "stdout",
     "output_type": "stream",
     "text": [
      "Original array:  [10 20 30]\n",
      "Array after appending:  [10 20 30 40 50 60 70 80 90]\n"
     ]
    }
   ],
   "source": [
    "Original_array = np.array([10, 20, 30])\n",
    "print(\"Original array: \", Original_array)\n",
    "Append_array = np.linspace(40, 90, 6, dtype = int)\n",
    "Original_array = np.append(Original_array, Append_array, axis = 0)\n",
    "print(\"Array after appending: \",Original_array)"
   ]
  },
  {
   "cell_type": "markdown",
   "id": "a76fa900",
   "metadata": {},
   "source": [
    "4. Create two NumPy arrays and add the elements of both the arrays and store the result in sumArray."
   ]
  },
  {
   "cell_type": "code",
   "execution_count": 18,
   "id": "73b36ac8",
   "metadata": {},
   "outputs": [
    {
     "name": "stdout",
     "output_type": "stream",
     "text": [
      "Sum of a = array([1, 2, 3]) and b = array([4, 5, 6]) is [5 7 9]\n"
     ]
    }
   ],
   "source": [
    "#assuming element wise addition\n",
    "a = np.array([1,2,3])\n",
    "b = np.array([4,5,6])\n",
    "sumArray = np.add(a,b)\n",
    "print(f\"Sum of {a = } and {b = } is {sumArray}\")"
   ]
  },
  {
   "cell_type": "markdown",
   "id": "984667ee",
   "metadata": {},
   "source": [
    "or"
   ]
  },
  {
   "cell_type": "code",
   "execution_count": 22,
   "id": "c5df1f66",
   "metadata": {},
   "outputs": [
    {
     "name": "stdout",
     "output_type": "stream",
     "text": [
      "Sum of a = array([1, 2, 3]) and b = array([4, 5, 6]) is 21\n"
     ]
    }
   ],
   "source": [
    "#assuming addition of all element from both arrays is required\n",
    "a = np.array([1,2,3])\n",
    "b = np.array([4,5,6])\n",
    "sumArray = np.sum(a) + np.sum(b)\n",
    "print(f\"Sum of {a = } and {b = } is {sumArray}\")"
   ]
  },
  {
   "cell_type": "markdown",
   "id": "cd2e4a8c",
   "metadata": {},
   "source": [
    "5. Create a 3x3 array having values from 10-90 (interval of 10) and store that in array1  \n",
    "Perform the following tasks:  \n",
    "a. Extract the 1st row from the array  \n",
    "b. Extract the last element from the array"
   ]
  },
  {
   "cell_type": "code",
   "execution_count": 20,
   "id": "9bb382d9",
   "metadata": {},
   "outputs": [
    {
     "name": "stdout",
     "output_type": "stream",
     "text": [
      "The first row of array [[10 19 28]\n",
      " [37 46 55]\n",
      " [64 73 82]] is [10 19 28]\n",
      "The last element of array [[10 19 28]\n",
      " [37 46 55]\n",
      " [64 73 82]] is 82\n"
     ]
    }
   ],
   "source": [
    "array1 = np.arange(10, 90, 9).reshape((3, 3))\n",
    "print(f\"The first row of array {array1} is {array1[0]}\")\n",
    "print(f\"The last element of array {array1} is {array1[-1][-1]}\")"
   ]
  }
 ],
 "metadata": {
  "kernelspec": {
   "display_name": "Python 3 (ipykernel)",
   "language": "python",
   "name": "python3"
  },
  "language_info": {
   "codemirror_mode": {
    "name": "ipython",
    "version": 3
   },
   "file_extension": ".py",
   "mimetype": "text/x-python",
   "name": "python",
   "nbconvert_exporter": "python",
   "pygments_lexer": "ipython3",
   "version": "3.10.9"
  }
 },
 "nbformat": 4,
 "nbformat_minor": 5
}
