{
 "cells": [
  {
   "cell_type": "markdown",
   "id": "aa5e8ffd",
   "metadata": {},
   "source": [
    "# Problem Statement:"
   ]
  },
  {
   "cell_type": "markdown",
   "id": "8a6a0541",
   "metadata": {},
   "source": [
    "You work in XYZ Corporation as a Data Analyst. Your corporation has told you to\n",
    "work with the structure of the data."
   ]
  },
  {
   "cell_type": "markdown",
   "id": "16dd6cbc",
   "metadata": {},
   "source": [
    "# Tasks To Be Performed:"
   ]
  },
  {
   "cell_type": "markdown",
   "id": "1aad3031",
   "metadata": {},
   "source": [
    "1. Create a list named ‘myList’ that has the following elements: 10, 20, 30, ‘apple’, True, 8.10:  \n",
    "a. Now in the ‘myList’, append these values: 30, 40  \n",
    "b. After that, reverse the elements of the ‘myList’ and store that in ‘reversedList’"
   ]
  },
  {
   "cell_type": "code",
   "execution_count": 1,
   "id": "64aacbc5",
   "metadata": {},
   "outputs": [
    {
     "name": "stdout",
     "output_type": "stream",
     "text": [
      "Original: \n",
      "[10, 20, 30, 'apple', True, 8.1]\n",
      "After appending: \n",
      "[10, 20, 30, 'apple', True, 8.1, 30, 40]\n",
      "Reverserd list: \n",
      "[40, 30, 8.1, True, 'apple', 30, 20, 10]\n"
     ]
    }
   ],
   "source": [
    "myList = [10, 20, 30, 'apple', True, 8.10]\n",
    "print(\"Original: \")\n",
    "print(myList)\n",
    "print(\"After appending: \")\n",
    "myList.extend([30, 40])\n",
    "print(myList)\n",
    "reversedList = myList[::-1]\n",
    "print(\"Reverserd list: \")\n",
    "print(reversedList)"
   ]
  },
  {
   "cell_type": "markdown",
   "id": "6f336b30",
   "metadata": {},
   "source": [
    "2. Create a dictionary with key values as 1, 2, 3 and the values as ‘data’, ‘information’ and ‘text’:  \n",
    "a. After that, eliminate the ‘text’ value from the dictionary  \n",
    "b. Add ‘features’ in the dictionary  \n",
    "c. Fetch the ‘data’ element from the dictionary and display it in the output"
   ]
  },
  {
   "cell_type": "code",
   "execution_count": 5,
   "id": "801255e8",
   "metadata": {},
   "outputs": [
    {
     "name": "stdout",
     "output_type": "stream",
     "text": [
      "Original dictionary:  {1: 'data', 2: 'information', 3: 'text'}\n",
      "Removing 3rd key with the following value:  text\n",
      "Dictionary now:  {1: 'data', 2: 'information'}\n",
      "After adding features value with key as 4 dictionary looks like this:  {1: 'data', 2: 'information', 4: 'features'}\n",
      "Fetching key 1 with the following value:  data\n"
     ]
    }
   ],
   "source": [
    "d = {1:'data', 2:'information', 3:'text'}\n",
    "print(\"Original dictionary: \", d)\n",
    "print(\"Removing 3rd key with the following value: \", d.pop(3))\n",
    "print(\"Dictionary now: \", d)\n",
    "d[4] = 'features'\n",
    "print(\"After adding features value with key as 4 dictionary looks like this: \", d)\n",
    "print('Fetching key 1 with the following value: ',d[1])"
   ]
  },
  {
   "cell_type": "markdown",
   "id": "07b1d161",
   "metadata": {},
   "source": [
    "3. Create a tuple and add these elements 1, 2, 3, apple, mango in my_tuple."
   ]
  },
  {
   "cell_type": "code",
   "execution_count": 6,
   "id": "69d7f6ac",
   "metadata": {},
   "outputs": [
    {
     "name": "stdout",
     "output_type": "stream",
     "text": [
      "(1, 2, 3, 'apple', 'mango')\n"
     ]
    }
   ],
   "source": [
    "#tuples are immutable so elements can be added only at the time of tuple creation\n",
    "my_tuple = (1, 2, 3, 'apple', 'mango')\n",
    "print(my_tuple)"
   ]
  },
  {
   "cell_type": "markdown",
   "id": "08477b11",
   "metadata": {},
   "source": [
    "4. Create another tuple named numeric_tuple consisting of only integer values 10, 20, 30, 40, 50:  \n",
    "a. Find the minimum value from the numeric_tuple  \n",
    "b. Concatenate my_tuple with numeric_tuple and store the result in r1  \n",
    "c. Duplicate the tuple named my_tuple 2 times and store that in ‘newdupli’"
   ]
  },
  {
   "cell_type": "code",
   "execution_count": 8,
   "id": "8f798f66",
   "metadata": {},
   "outputs": [
    {
     "name": "stdout",
     "output_type": "stream",
     "text": [
      "Minimum value from numeric_tuple: (10, 20, 30, 40, 50) is 10\n",
      "Concatenation of my_tuple:(1, 2, 3, 'apple', 'mango') and numeric_tuple:(10, 20, 30, 40, 50) is r1:(1, 2, 3, 'apple', 'mango', 10, 20, 30, 40, 50)\n",
      "newdulpi:  (1, 2, 3, 'apple', 'mango', 1, 2, 3, 'apple', 'mango')\n"
     ]
    }
   ],
   "source": [
    "numeric_tuple = (10, 20, 30, 40, 50)\n",
    "print(f\"Minimum value from numeric_tuple: {numeric_tuple} is {min(numeric_tuple)}\")\n",
    "r1 = my_tuple + numeric_tuple\n",
    "print(f\"Concatenation of my_tuple:{my_tuple} and numeric_tuple:{numeric_tuple} is r1:{r1}\")\n",
    "newdupli = my_tuple * 2\n",
    "print(\"newdulpi: \", newdupli)"
   ]
  },
  {
   "cell_type": "markdown",
   "id": "202d06a7",
   "metadata": {},
   "source": [
    "5. Create 2 sets with the names set1 and set2, where set1 contains {1,2,3,4,5} and set2 contains {2,3,7,6,1}  \n",
    "Perform the below operation:  \n",
    "a. set1 union set2  \n",
    "b. set1 intersection set2  \n",
    "c. set1 difference set2"
   ]
  },
  {
   "cell_type": "code",
   "execution_count": 11,
   "id": "e8315d8e",
   "metadata": {},
   "outputs": [
    {
     "name": "stdout",
     "output_type": "stream",
     "text": [
      "set1:  {1, 2, 3, 4, 5}\n",
      "set2:  {1, 2, 3, 6, 7}\n",
      "Union:  {1, 2, 3, 4, 5, 6, 7}\n",
      "Intersection:  {1, 2, 3}\n",
      "Difference:  {4, 5}\n"
     ]
    }
   ],
   "source": [
    "set1 = {1,2,3,4,5}\n",
    "set2 = {2,3,7,6,1}\n",
    "set_union = set1 | set2\n",
    "set_intersection = set1 & set2\n",
    "set_difference = set1 - set2\n",
    "print(\"set1: \", set1)\n",
    "print(\"set2: \", set2)\n",
    "print(\"Union: \", set_union)\n",
    "print(\"Intersection: \", set_intersection)\n",
    "print(\"Difference: \", set_difference)"
   ]
  }
 ],
 "metadata": {
  "kernelspec": {
   "display_name": "Python 3 (ipykernel)",
   "language": "python",
   "name": "python3"
  },
  "language_info": {
   "codemirror_mode": {
    "name": "ipython",
    "version": 3
   },
   "file_extension": ".py",
   "mimetype": "text/x-python",
   "name": "python",
   "nbconvert_exporter": "python",
   "pygments_lexer": "ipython3",
   "version": "3.10.9"
  }
 },
 "nbformat": 4,
 "nbformat_minor": 5
}
