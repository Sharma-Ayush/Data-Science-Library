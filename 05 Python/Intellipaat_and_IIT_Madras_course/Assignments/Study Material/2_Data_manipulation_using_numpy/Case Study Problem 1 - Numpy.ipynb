{
 "cells": [
  {
   "cell_type": "code",
   "execution_count": 1,
   "id": "d64e00a1",
   "metadata": {},
   "outputs": [],
   "source": [
    "import numpy as np"
   ]
  },
  {
   "cell_type": "markdown",
   "id": "40fb6048",
   "metadata": {},
   "source": [
    "# Problem Statement:"
   ]
  },
  {
   "cell_type": "markdown",
   "id": "273548a1",
   "metadata": {},
   "source": [
    "You work in XYZ Company as a Python developer. The company officials want\n",
    "you to build a Python program."
   ]
  },
  {
   "cell_type": "markdown",
   "id": "2c92b29e",
   "metadata": {},
   "source": [
    "# Tasks To Be Performed:"
   ]
  },
  {
   "cell_type": "markdown",
   "id": "11ea6946",
   "metadata": {},
   "source": [
    "1. Create a function that takes dimensions as tuples e.g. (3, 3) and a numeric value and returns a NumPy array of the given dimension filled with the\n",
    "given value  \n",
    "e.g.: solve((3, 3), 5) will return  \n",
    "[[5, 5, 5],  \n",
    "[5, 5, 5],  \n",
    "[5, 5, 5]]"
   ]
  },
  {
   "cell_type": "code",
   "execution_count": 6,
   "id": "c834539d",
   "metadata": {},
   "outputs": [
    {
     "name": "stdout",
     "output_type": "stream",
     "text": [
      "Enter the dimension in form of a tuple: (1.0,2,3)\n",
      "Enter numeric value: 5.5\n",
      "Array is:  [[[5.5 5.5 5.5]\n",
      "  [5.5 5.5 5.5]]]\n"
     ]
    }
   ],
   "source": [
    "def return_fill_array(dim, val):\n",
    "    return np.full(dim, val)\n",
    "\n",
    "while True:\n",
    "    try:\n",
    "        dim_input = eval(input(\"Enter the dimension in form of a tuple: \"))\n",
    "        dim_list = []\n",
    "        assert type(dim_input) == tuple, 'The input doesnt look like a tuple'\n",
    "        for elem in dim_input:\n",
    "            assert elem > 0 and int(elem) == elem, 'Dimensions should be integer only and greater than zero'\n",
    "            dim_list.append(int(elem))\n",
    "        dim_input = tuple(dim_list)\n",
    "        del dim_list\n",
    "    except (ValueError, NameError) as e:\n",
    "        print(\"Error: Please enter tuple only with elements as integers greater than zero.\")\n",
    "    except Exception as e:\n",
    "        print(f\"Error: {e}\")\n",
    "    else:\n",
    "        break\n",
    "\n",
    "while True:\n",
    "    try:\n",
    "        value_input = float(input(\"Enter numeric value: \"))\n",
    "        if int(value_input) == value_input:\n",
    "            value_input = int(value_input)\n",
    "    except ValueError as e:\n",
    "        print(\"Error: Please enter numeric values only.\")\n",
    "    except Exception as e:\n",
    "        print(f\"Error: {e}\")\n",
    "    else:\n",
    "        break\n",
    "        \n",
    "print(\"Array is: \", return_fill_array(dim_input, value_input))"
   ]
  },
  {
   "cell_type": "markdown",
   "id": "2d4bf88c",
   "metadata": {},
   "source": [
    "2. Create a method that takes n NumPy arrays of the same dimensions, sums them and returns the answer."
   ]
  },
  {
   "cell_type": "code",
   "execution_count": 16,
   "id": "5abf8105",
   "metadata": {},
   "outputs": [],
   "source": [
    "#assuming by dimension in question it means shape\n",
    "#assuming the input to function will be one integer indicating number of arrays followed by the arrays\n",
    "def sum_array(n, *args):\n",
    "    try:\n",
    "        if n == 0:\n",
    "            raise Exception(\"The number of arrays should be greater than zero\")\n",
    "        elif len(args) != n:\n",
    "            raise Exception(f\"The number of arrays don't match as {n = } and no. of arrays = {len(args)}\")\n",
    "        else:\n",
    "            shape = args[0].shape\n",
    "            for arr in args:\n",
    "                if arr.shape != shape:\n",
    "                    raise Exception(\"The shapes of given arrays don't match\")\n",
    "        sumArray = np.zeros(shape)\n",
    "        for arr in args:\n",
    "            np.add(sumArray, arr, out = sumArray)\n",
    "    except Exception as e:\n",
    "        print(f\"Error: {e}\")\n",
    "    else:\n",
    "        return sumArray"
   ]
  },
  {
   "cell_type": "code",
   "execution_count": 21,
   "id": "bd22dbe5",
   "metadata": {},
   "outputs": [
    {
     "data": {
      "text/plain": [
       "array([ 2., 25.,  7.])"
      ]
     },
     "execution_count": 21,
     "metadata": {},
     "output_type": "execute_result"
    }
   ],
   "source": [
    "sum_array(2, np.array([1, 23, 4]), np.array([1, 2, 3]))"
   ]
  },
  {
   "cell_type": "code",
   "execution_count": 22,
   "id": "39696969",
   "metadata": {},
   "outputs": [
    {
     "name": "stdout",
     "output_type": "stream",
     "text": [
      "Error: The number of arrays don't match as n = 2 and no. of arrays = 0\n"
     ]
    }
   ],
   "source": [
    "sum_array(2)"
   ]
  },
  {
   "cell_type": "markdown",
   "id": "016b0367",
   "metadata": {},
   "source": [
    "3. Given a 2 D Array of N X M Dimension, write a function that accepts this array as well as two numbers N and M. The method should return the\n",
    "top-left N X M sub matrix, e.g:  \n",
    "[[1, 2, 3],  \n",
    "[4, 5, 6],  \n",
    "[7, 8, 9]]  \n",
    "top_left_sub_matrix (matrix, 2, 2) -> should return:  \n",
    "[[1, 2]  \n",
    "[4, 5]]"
   ]
  },
  {
   "cell_type": "code",
   "execution_count": 33,
   "id": "c3687f15",
   "metadata": {},
   "outputs": [],
   "source": [
    "#assuming inputs will be proper\n",
    "def return_top_left(arr, N, M):\n",
    "    row, col = arr.shape\n",
    "    if N <= 0 or M <= 0:\n",
    "        print(\"Requested dimensions can't be negative\")\n",
    "    elif N > row or M > col:\n",
    "        print(f\"Unable to find top-left {N} X {M} matrix as given array's shape is {row} X {col}\")\n",
    "    else:\n",
    "        return arr[:N, :M]"
   ]
  },
  {
   "cell_type": "code",
   "execution_count": 34,
   "id": "35f236b1",
   "metadata": {},
   "outputs": [
    {
     "name": "stdout",
     "output_type": "stream",
     "text": [
      "Unable to find top-left 2 X 2 matrix as given array's shape is 1 X 3\n"
     ]
    }
   ],
   "source": [
    "return_top_left(np.array([[1,2,3]]), 2, 2)"
   ]
  },
  {
   "cell_type": "markdown",
   "id": "491e9a9d",
   "metadata": {},
   "source": [
    "4. Given a 2 D Array of N X M Dimension, write a function that accepts this array as well as two numbers N and M. The method should return the\n",
    "bottom-right N X M sub matrix, e.g:  \n",
    "[[1, 2, 3],  \n",
    "[4, 5, 6],  \n",
    "[7, 8, 9]]  \n",
    "sub_matrix(matrix, 2, 2) -> should return : (Keep in mind these arrays are zero indexed)  \n",
    "[[5, 6]  \n",
    "[8, 9]]  "
   ]
  },
  {
   "cell_type": "code",
   "execution_count": 48,
   "id": "45d23f67",
   "metadata": {},
   "outputs": [],
   "source": [
    "#assuming inputs will be proper\n",
    "def sub_matrix(arr, N, M):\n",
    "    row, col = arr.shape\n",
    "    if N <= 0 or M <= 0:\n",
    "        print(\"Requested dimensions can't be negative\")\n",
    "    elif N > row or M > col:\n",
    "        print(f\"Unable to find bottom-right {N} X {M} matrix as given array's shape is {row} X {col}\")\n",
    "    else:\n",
    "        return arr[-N:, -M:]"
   ]
  },
  {
   "cell_type": "code",
   "execution_count": 49,
   "id": "8fc8aff4",
   "metadata": {},
   "outputs": [
    {
     "data": {
      "text/plain": [
       "array([[5, 6],\n",
       "       [8, 9]])"
      ]
     },
     "execution_count": 49,
     "metadata": {},
     "output_type": "execute_result"
    }
   ],
   "source": [
    "sub_matrix(np.array([[1,2,3],[4,5,6],[7,8,9]]), 2, 2)"
   ]
  },
  {
   "cell_type": "markdown",
   "id": "84b598ed",
   "metadata": {},
   "source": [
    "5. Given a 1 D NumPy Array. Write a function that accepts this array as parameters. The method should return a dictionary with 'mean' and\n",
    "'std_dev' as key and array's mean and array's standard deviation as values:  \n",
    "[1, 1, 1]  \n",
    "solution(arr) -> should return :  \n",
    "{'mean': 1.0, 'std_dev': 0.0}"
   ]
  },
  {
   "cell_type": "code",
   "execution_count": 44,
   "id": "6687d12d",
   "metadata": {},
   "outputs": [],
   "source": [
    "#assuming input will be proper\n",
    "def solution(arr):\n",
    "    return {'mean': np.mean(arr, axis = 0), 'std_dev': np.std(arr, axis = 0)}"
   ]
  },
  {
   "cell_type": "code",
   "execution_count": 46,
   "id": "4b45129f",
   "metadata": {},
   "outputs": [
    {
     "data": {
      "text/plain": [
       "{'mean': 3.5, 'std_dev': 3.947573094109004}"
      ]
     },
     "execution_count": 46,
     "metadata": {},
     "output_type": "execute_result"
    }
   ],
   "source": [
    "solution(np.array([1,4,7,10,0,-1]))"
   ]
  },
  {
   "cell_type": "code",
   "execution_count": 47,
   "id": "78d0c4a0",
   "metadata": {},
   "outputs": [
    {
     "data": {
      "text/plain": [
       "{'mean': 1.0, 'std_dev': 0.0}"
      ]
     },
     "execution_count": 47,
     "metadata": {},
     "output_type": "execute_result"
    }
   ],
   "source": [
    "solution(np.array([1,1,1]))"
   ]
  }
 ],
 "metadata": {
  "kernelspec": {
   "display_name": "Python 3 (ipykernel)",
   "language": "python",
   "name": "python3"
  },
  "language_info": {
   "codemirror_mode": {
    "name": "ipython",
    "version": 3
   },
   "file_extension": ".py",
   "mimetype": "text/x-python",
   "name": "python",
   "nbconvert_exporter": "python",
   "pygments_lexer": "ipython3",
   "version": "3.10.9"
  }
 },
 "nbformat": 4,
 "nbformat_minor": 5
}
