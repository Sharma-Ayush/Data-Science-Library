{
 "cells": [
  {
   "cell_type": "markdown",
   "id": "60f54380",
   "metadata": {},
   "source": [
    "# Introduction:"
   ]
  },
  {
   "cell_type": "markdown",
   "id": "cc9e4d40",
   "metadata": {},
   "source": [
    "Deep learning, a subset of machine learning, has revolutionized the field of\n",
    "artificial intelligence by enabling machines to learn from data in a way that mimics\n",
    "human learning at a fundamental level. As this technology continues to advance, it\n",
    "becomes increasingly important for professionals to grasp the core principles that\n",
    "underpin deep learning algorithms and architectures.  "
   ]
  },
  {
   "cell_type": "markdown",
   "id": "787214fd",
   "metadata": {},
   "source": [
    "The objective of this assignment is to evaluate the foundational knowledge of deep\n",
    "learning through a series of carefully crafted multiple-choice questions (MCQs).\n",
    "These questions are designed to test various aspects of deep learning, including\n",
    "its history, fundamental concepts, key architectures, and the underlying\n",
    "mathematics. The MCQ format is chosen for its ability to assess a wide range of\n",
    "topics succinctly and to provide immediate feedback on the learner's\n",
    "understanding."
   ]
  },
  {
   "cell_type": "markdown",
   "id": "759f91f5",
   "metadata": {},
   "source": [
    "The assignment consists of 10 MCQs, each with a single or multiple correct\n",
    "answers."
   ]
  },
  {
   "cell_type": "markdown",
   "id": "b237b2f4",
   "metadata": {},
   "source": [
    "1. Which industries commonly use Deep Learning for image recognition applications?"
   ]
  },
  {
   "cell_type": "markdown",
   "id": "0b880eb8",
   "metadata": {},
   "source": [
    "a. Healthcare  \n",
    "b. Manufacturing  \n",
    "c. Retail  \n",
    "d. All of the above"
   ]
  },
  {
   "cell_type": "markdown",
   "id": "7c3f44f2",
   "metadata": {},
   "source": [
    "##### Answer: d. All of the above"
   ]
  },
  {
   "cell_type": "markdown",
   "id": "08946d67",
   "metadata": {},
   "source": [
    "2. What distinguishes Deep Learning from traditional Machine Learning?"
   ]
  },
  {
   "cell_type": "markdown",
   "id": "f4fcd9ec",
   "metadata": {},
   "source": [
    "a. Depth of Neural Networks  \n",
    "b. Type of Algorithms used  \n",
    "c. Machine Learning is an evolution of Deep Learning  \n",
    "d. Volume of data processed"
   ]
  },
  {
   "cell_type": "markdown",
   "id": "b84d3f0e",
   "metadata": {},
   "source": [
    "i. a,d  \n",
    "ii. a,b,c,d  \n",
    "iii. a,c,d  \n",
    "iv. a,b"
   ]
  },
  {
   "cell_type": "markdown",
   "id": "91897b05",
   "metadata": {},
   "source": [
    "##### Answer: iv. a,b"
   ]
  },
  {
   "cell_type": "markdown",
   "id": "368e4f50",
   "metadata": {},
   "source": [
    "3. Which metrics are commonly used to evaluate the performance of a classification\n",
    "model?"
   ]
  },
  {
   "cell_type": "markdown",
   "id": "0f8bcc4c",
   "metadata": {},
   "source": [
    "a. Mean squared error  \n",
    "b. Root mean squared error  \n",
    "c. F1 score  \n",
    "d. R-squared"
   ]
  },
  {
   "cell_type": "markdown",
   "id": "166a0eaf",
   "metadata": {},
   "source": [
    "##### Answer: c. F1 score"
   ]
  },
  {
   "cell_type": "markdown",
   "id": "5f09c5ef",
   "metadata": {},
   "source": [
    "4. Which of the following are the key components of Deep Learning (DL)?"
   ]
  },
  {
   "cell_type": "markdown",
   "id": "cd6850f8",
   "metadata": {},
   "source": [
    "a. Decision Trees  \n",
    "b. Neural Networks  \n",
    "c. Support Vector Machines  \n",
    "d. K-Means Clustering"
   ]
  },
  {
   "cell_type": "markdown",
   "id": "936aa522",
   "metadata": {},
   "source": [
    "##### Answer: b. Neural Networks"
   ]
  },
  {
   "cell_type": "markdown",
   "id": "a80d44ce",
   "metadata": {},
   "source": [
    "5. What are the main challenges in training deep neural networks?"
   ]
  },
  {
   "cell_type": "markdown",
   "id": "823f9608",
   "metadata": {},
   "source": [
    "a. Lack of labeled data  \n",
    "b. Overfitting  \n",
    "c. Underfitting  \n",
    "d. None of the above"
   ]
  },
  {
   "cell_type": "markdown",
   "id": "57479f9d",
   "metadata": {},
   "source": [
    "##### Answer: \n",
    "##### a. Lack of labeled data  \n",
    "##### b. Overfitting"
   ]
  },
  {
   "cell_type": "markdown",
   "id": "9354118c",
   "metadata": {},
   "source": [
    "6. Which technology is a subset of AI and focuses on training models to learn\n",
    "from data?"
   ]
  },
  {
   "cell_type": "markdown",
   "id": "c4dc21eb",
   "metadata": {},
   "source": [
    "a. Artificial Intelligence  \n",
    "b. Machine Learning  \n",
    "c. Deep Learning  \n",
    "d. Data Science"
   ]
  },
  {
   "cell_type": "markdown",
   "id": "63cd239f",
   "metadata": {},
   "source": [
    "##### Answer: \n",
    "##### b. Machine Learning\n",
    "##### c. Deep Learning"
   ]
  },
  {
   "cell_type": "markdown",
   "id": "a83c4c19",
   "metadata": {},
   "source": [
    "7. In the context of Deep Learning, what is a neural network?"
   ]
  },
  {
   "cell_type": "markdown",
   "id": "499c2f31",
   "metadata": {},
   "source": [
    "a. A network of interconnected computers  \n",
    "b. A network of interconnected neurons  \n",
    "c. A network of interconnected databases  \n",
    "d. A network of interconnected algorithms"
   ]
  },
  {
   "cell_type": "markdown",
   "id": "8e7aa35b",
   "metadata": {},
   "source": [
    "##### Answer: b. A network of interconnected neurons"
   ]
  },
  {
   "cell_type": "markdown",
   "id": "3f7b1f1b",
   "metadata": {},
   "source": [
    "8. What is the role of hyperparameter tuning in the model evaluation phase?"
   ]
  },
  {
   "cell_type": "markdown",
   "id": "1e6666ae",
   "metadata": {},
   "source": [
    "a. To adjust the learning rate  \n",
    "b. To optimize model parameters for better performance  \n",
    "c. To select features  \n",
    "d. To preprocess the data"
   ]
  },
  {
   "cell_type": "markdown",
   "id": "3a3a318a",
   "metadata": {},
   "source": [
    "##### Answer: a. To adjust the learning rate"
   ]
  },
  {
   "cell_type": "markdown",
   "id": "f07890e1",
   "metadata": {},
   "source": [
    "9. What is the primary goal during the project initiation phase of a Deep Learning\n",
    "project?"
   ]
  },
  {
   "cell_type": "markdown",
   "id": "5b41a5fc",
   "metadata": {},
   "source": [
    "a. Model training  \n",
    "b. Define the problem and scope  \n",
    "c. Hyperparameter tuning  \n",
    "d. Data collection"
   ]
  },
  {
   "cell_type": "markdown",
   "id": "fd8716df",
   "metadata": {},
   "source": [
    "##### Answer: b. Define the problem and scope"
   ]
  },
  {
   "cell_type": "markdown",
   "id": "b5865d80",
   "metadata": {},
   "source": [
    "10. Why is continuous monitoring important in the life cycle of a deployed Deep\n",
    "Learning model?"
   ]
  },
  {
   "cell_type": "markdown",
   "id": "dc59f29f",
   "metadata": {},
   "source": [
    "a. To retrain the model from scratch  \n",
    "b. To ensure the model adapts to changing data patterns  \n",
    "c. To deploy a new model version daily  \n",
    "d. To skip the model evaluation phase"
   ]
  },
  {
   "cell_type": "markdown",
   "id": "48a7bc68",
   "metadata": {},
   "source": [
    "##### Answer: b. To ensure the model adapts to changing data patterns"
   ]
  }
 ],
 "metadata": {
  "kernelspec": {
   "display_name": "Python 3 (ipykernel)",
   "language": "python",
   "name": "python3"
  },
  "language_info": {
   "codemirror_mode": {
    "name": "ipython",
    "version": 3
   },
   "file_extension": ".py",
   "mimetype": "text/x-python",
   "name": "python",
   "nbconvert_exporter": "python",
   "pygments_lexer": "ipython3",
   "version": "3.10.9"
  }
 },
 "nbformat": 4,
 "nbformat_minor": 5
}
